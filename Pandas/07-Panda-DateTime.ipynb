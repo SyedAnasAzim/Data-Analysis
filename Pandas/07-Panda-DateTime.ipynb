{
 "cells": [
  {
   "cell_type": "code",
   "execution_count": 1,
   "id": "b7e78b36-439a-47e1-8e6c-d07e3dda6fe9",
   "metadata": {},
   "outputs": [],
   "source": [
    "import pandas as pd\n",
    "import numpy as np"
   ]
  },
  {
   "cell_type": "markdown",
   "id": "84aae178-61e7-49e4-b9a0-f104228ff29d",
   "metadata": {},
   "source": [
    "# Timestamp Object"
   ]
  },
  {
   "cell_type": "markdown",
   "id": "7b0f38e9-4919-4942-ac5c-d74d2be99f64",
   "metadata": {},
   "source": [
    "A Timestamp is a type of datetime-like object that represents a single point in time. It is Pandas' equivalent of Python’s datetime.datetime, but with more features optimized for time series."
   ]
  },
  {
   "cell_type": "markdown",
   "id": "a3c879f3-819a-4c4e-a3f5-236f2b0b7f46",
   "metadata": {},
   "source": [
    "## Creating Timestamp objects"
   ]
  },
  {
   "cell_type": "code",
   "execution_count": 2,
   "id": "501e2b36-89f4-4604-81d0-251059782520",
   "metadata": {},
   "outputs": [
    {
     "data": {
      "text/plain": [
       "Timestamp('2025-07-18 00:00:00')"
      ]
     },
     "execution_count": 2,
     "metadata": {},
     "output_type": "execute_result"
    }
   ],
   "source": [
    "pd.Timestamp(\"2025-7-18\")"
   ]
  },
  {
   "cell_type": "markdown",
   "id": "0e3309d3-4a30-4ab7-84ba-f8fb299e5bc2",
   "metadata": {},
   "source": [
    "We didnt give time thats why it gives 00:00:00"
   ]
  },
  {
   "cell_type": "code",
   "execution_count": 3,
   "id": "8af66eae-a8a7-4bed-a59f-6716d76a5fb0",
   "metadata": {},
   "outputs": [
    {
     "data": {
      "text/plain": [
       "pandas._libs.tslibs.timestamps.Timestamp"
      ]
     },
     "execution_count": 3,
     "metadata": {},
     "output_type": "execute_result"
    }
   ],
   "source": [
    "type(pd.Timestamp(\"2025-7-18\"))"
   ]
  },
  {
   "cell_type": "markdown",
   "id": "e551eaeb-d1e0-4a33-9c9d-e121f2b1a3a8",
   "metadata": {},
   "source": [
    "### Variations\n",
    "Pandas is intelligent so it can understand the time in other formats"
   ]
  },
  {
   "cell_type": "code",
   "execution_count": 4,
   "id": "fce36f89-8c10-407c-a696-dfa79976ff2d",
   "metadata": {},
   "outputs": [
    {
     "data": {
      "text/plain": [
       "Timestamp('2025-07-18 00:00:00')"
      ]
     },
     "execution_count": 4,
     "metadata": {},
     "output_type": "execute_result"
    }
   ],
   "source": [
    "pd.Timestamp(\"2025/7/18\")"
   ]
  },
  {
   "cell_type": "code",
   "execution_count": 5,
   "id": "3b9a7ff9-3cf8-4641-9f90-ba974b5937de",
   "metadata": {},
   "outputs": [
    {
     "data": {
      "text/plain": [
       "Timestamp('2025-07-18 00:00:00')"
      ]
     },
     "execution_count": 5,
     "metadata": {},
     "output_type": "execute_result"
    }
   ],
   "source": [
    "pd.Timestamp(\"2025, 7, 18\")"
   ]
  },
  {
   "cell_type": "markdown",
   "id": "c534ab5e-7bec-43da-8ddd-36f62fe87dc6",
   "metadata": {},
   "source": [
    "#### Only year"
   ]
  },
  {
   "cell_type": "code",
   "execution_count": 6,
   "id": "d7f6272b-8787-409b-ac15-0ddb73815cda",
   "metadata": {},
   "outputs": [
    {
     "data": {
      "text/plain": [
       "Timestamp('2025-01-01 00:00:00')"
      ]
     },
     "execution_count": 6,
     "metadata": {},
     "output_type": "execute_result"
    }
   ],
   "source": [
    "pd.Timestamp(\"2025\")"
   ]
  },
  {
   "cell_type": "markdown",
   "id": "8bfa18ae-cb46-4931-9394-0c8ba87b0ae7",
   "metadata": {},
   "source": [
    "#### Using texts"
   ]
  },
  {
   "cell_type": "code",
   "execution_count": 7,
   "id": "cc8ee507-e5d2-421b-ba00-f29eb5b21b11",
   "metadata": {},
   "outputs": [
    {
     "data": {
      "text/plain": [
       "Timestamp('2025-07-18 00:00:00')"
      ]
     },
     "execution_count": 7,
     "metadata": {},
     "output_type": "execute_result"
    }
   ],
   "source": [
    "pd.Timestamp(\"18 July 2025\")"
   ]
  },
  {
   "cell_type": "markdown",
   "id": "df4cc7cb-8060-45a9-9cd0-b12f3512e9e9",
   "metadata": {},
   "source": [
    "### Providing Time also"
   ]
  },
  {
   "cell_type": "code",
   "execution_count": 8,
   "id": "b369582c-16cc-425d-b0a6-e54891b47303",
   "metadata": {},
   "outputs": [
    {
     "data": {
      "text/plain": [
       "Timestamp('2025-07-18 06:36:49')"
      ]
     },
     "execution_count": 8,
     "metadata": {},
     "output_type": "execute_result"
    }
   ],
   "source": [
    "pd.Timestamp(\"2025-7-18 6:36:49\")"
   ]
  },
  {
   "cell_type": "code",
   "execution_count": 9,
   "id": "20b30fc4-1baa-4349-bc16-c9ab7856d0c6",
   "metadata": {},
   "outputs": [
    {
     "data": {
      "text/plain": [
       "Timestamp('2025-07-18 06:36:49')"
      ]
     },
     "execution_count": 9,
     "metadata": {},
     "output_type": "execute_result"
    }
   ],
   "source": [
    "pd.Timestamp(\"2025, 7, 18 6:36:49\")"
   ]
  },
  {
   "cell_type": "code",
   "execution_count": 10,
   "id": "8c2830b6-3efc-4ef3-bd33-682cfec12d34",
   "metadata": {},
   "outputs": [
    {
     "data": {
      "text/plain": [
       "Timestamp('2025-07-18 06:38:00')"
      ]
     },
     "execution_count": 10,
     "metadata": {},
     "output_type": "execute_result"
    }
   ],
   "source": [
    "pd.Timestamp(\"18th Jul 2025 6:38\")"
   ]
  },
  {
   "cell_type": "markdown",
   "id": "853f7b70-e64b-4ff9-a4ea-57e4b997d84e",
   "metadata": {},
   "source": [
    "#### AM and PM"
   ]
  },
  {
   "cell_type": "code",
   "execution_count": 11,
   "id": "0ea099bd-bb42-42a4-b620-1837e1de2564",
   "metadata": {},
   "outputs": [
    {
     "data": {
      "text/plain": [
       "Timestamp('2025-07-18 06:38:00')"
      ]
     },
     "execution_count": 11,
     "metadata": {},
     "output_type": "execute_result"
    }
   ],
   "source": [
    "pd.Timestamp(\"18th Jul 2025 6:38AM\")"
   ]
  },
  {
   "cell_type": "code",
   "execution_count": 12,
   "id": "e786a2cc-a8f7-4b9d-bc54-3205dfdbe1c0",
   "metadata": {},
   "outputs": [
    {
     "data": {
      "text/plain": [
       "Timestamp('2025-07-18 18:38:00')"
      ]
     },
     "execution_count": 12,
     "metadata": {},
     "output_type": "execute_result"
    }
   ],
   "source": [
    "pd.Timestamp(\"18th Jul 2025 6:38PM\")"
   ]
  },
  {
   "cell_type": "markdown",
   "id": "a8302917-5b19-4fa0-b93f-90bc4055080a",
   "metadata": {},
   "source": [
    "# datetime.datetime object of Python"
   ]
  },
  {
   "cell_type": "markdown",
   "id": "7767729e-9ea6-4ecd-bb44-7b8da4aaa633",
   "metadata": {},
   "source": [
    "## Creating datetime.datetime objects"
   ]
  },
  {
   "cell_type": "markdown",
   "id": "55d0d967-cbbc-4d96-8055-71d0dbb9f514",
   "metadata": {},
   "source": [
    "The datetime module in Python is used to work with dates and times — such as current date, future/past dates, formatting, and differences between dates.\n",
    "\n"
   ]
  },
  {
   "cell_type": "code",
   "execution_count": 13,
   "id": "2b345e8f-85d4-45d0-9d55-900ba3b37211",
   "metadata": {},
   "outputs": [
    {
     "data": {
      "text/plain": [
       "datetime.datetime(2025, 7, 18, 6, 42, 45)"
      ]
     },
     "execution_count": 13,
     "metadata": {},
     "output_type": "execute_result"
    }
   ],
   "source": [
    "import datetime as dt\n",
    "dt.datetime(2025,7,18,6,42,45)"
   ]
  },
  {
   "cell_type": "code",
   "execution_count": 14,
   "id": "fa0cea32-3007-4d89-ad70-c468d8de0a27",
   "metadata": {},
   "outputs": [
    {
     "data": {
      "text/plain": [
       "datetime.datetime"
      ]
     },
     "execution_count": 14,
     "metadata": {},
     "output_type": "execute_result"
    }
   ],
   "source": [
    "type(dt.datetime(2025,7,18,6,42,45))"
   ]
  },
  {
   "cell_type": "markdown",
   "id": "9c15cf29-be6f-4d92-ac17-5f8382396912",
   "metadata": {},
   "source": [
    "## Making Timestamp object using datetime.dtaetime object"
   ]
  },
  {
   "cell_type": "code",
   "execution_count": 15,
   "id": "60c077ae-7451-496b-9771-ad50944b5a7b",
   "metadata": {},
   "outputs": [
    {
     "data": {
      "text/plain": [
       "Timestamp('2025-07-18 06:42:45')"
      ]
     },
     "execution_count": 15,
     "metadata": {},
     "output_type": "execute_result"
    }
   ],
   "source": [
    "x = pd.Timestamp(dt.datetime(2025,7,18,6,42,45))\n",
    "x"
   ]
  },
  {
   "cell_type": "markdown",
   "id": "f2653ba8-cce1-433d-ba32-0b6d9fae48ef",
   "metadata": {},
   "source": [
    "## Fetching"
   ]
  },
  {
   "cell_type": "markdown",
   "id": "a85f8bea-42ce-472b-8039-f25328d3545e",
   "metadata": {},
   "source": [
    "### Year"
   ]
  },
  {
   "cell_type": "code",
   "execution_count": 16,
   "id": "940faa6f-1970-476f-80e6-adc4ccf6b56a",
   "metadata": {},
   "outputs": [
    {
     "data": {
      "text/plain": [
       "2025"
      ]
     },
     "execution_count": 16,
     "metadata": {},
     "output_type": "execute_result"
    }
   ],
   "source": [
    "x.year"
   ]
  },
  {
   "cell_type": "markdown",
   "id": "84639836-443c-427e-b9b7-40acd030e13c",
   "metadata": {},
   "source": [
    "### Month"
   ]
  },
  {
   "cell_type": "code",
   "execution_count": 17,
   "id": "5333bbdb-8970-4310-aa6d-474a10477193",
   "metadata": {},
   "outputs": [
    {
     "data": {
      "text/plain": [
       "7"
      ]
     },
     "execution_count": 17,
     "metadata": {},
     "output_type": "execute_result"
    }
   ],
   "source": [
    "x.month"
   ]
  },
  {
   "cell_type": "markdown",
   "id": "12785822-42b9-4985-831b-2095f910b4f6",
   "metadata": {},
   "source": [
    "### Day"
   ]
  },
  {
   "cell_type": "code",
   "execution_count": 18,
   "id": "9a527a91-e201-4881-98b2-3f86e39c1214",
   "metadata": {},
   "outputs": [
    {
     "data": {
      "text/plain": [
       "18"
      ]
     },
     "execution_count": 18,
     "metadata": {},
     "output_type": "execute_result"
    }
   ],
   "source": [
    "x.day"
   ]
  },
  {
   "cell_type": "markdown",
   "id": "d00903b7-a471-428d-bef1-53caa18a5027",
   "metadata": {},
   "source": [
    "### Hour"
   ]
  },
  {
   "cell_type": "code",
   "execution_count": 19,
   "id": "b2e31441-8190-4371-9be8-bb5ee9eb4295",
   "metadata": {},
   "outputs": [
    {
     "data": {
      "text/plain": [
       "6"
      ]
     },
     "execution_count": 19,
     "metadata": {},
     "output_type": "execute_result"
    }
   ],
   "source": [
    "x.hour"
   ]
  },
  {
   "cell_type": "markdown",
   "id": "265b39f1-6b3a-4bd1-934b-d2d501ba4c94",
   "metadata": {},
   "source": [
    "### Minute"
   ]
  },
  {
   "cell_type": "code",
   "execution_count": 20,
   "id": "fead6c25-15a6-41bf-b3bc-5dde156238ca",
   "metadata": {},
   "outputs": [
    {
     "data": {
      "text/plain": [
       "42"
      ]
     },
     "execution_count": 20,
     "metadata": {},
     "output_type": "execute_result"
    }
   ],
   "source": [
    "x.minute"
   ]
  },
  {
   "cell_type": "markdown",
   "id": "97fa9070-2460-4d9e-b2ed-56a58735623d",
   "metadata": {},
   "source": [
    "### Second"
   ]
  },
  {
   "cell_type": "code",
   "execution_count": 21,
   "id": "fbf1f00b-0152-4cdd-808a-f90befe01600",
   "metadata": {},
   "outputs": [
    {
     "data": {
      "text/plain": [
       "45"
      ]
     },
     "execution_count": 21,
     "metadata": {},
     "output_type": "execute_result"
    }
   ],
   "source": [
    "x.second"
   ]
  },
  {
   "cell_type": "markdown",
   "id": "b7610421-41fd-409f-83df-826576e96e81",
   "metadata": {},
   "source": [
    "## Why separate objects to handle date and time when python have already datetime functionality?\n",
    "* syntax wise datetime is very convenient\n",
    "* But the performance takes a hit while working with huge data. List vs Numpy Array\n",
    "* The weaknesses of Python's datetime format inspired the NumPy team to add a set of native time series data type to NumPy.\n",
    "* The datetime64 dtype encodes dates as 64-bit integers, and thus allows arrays of dates to be represented very compactly."
   ]
  },
  {
   "cell_type": "markdown",
   "id": "5180f32d-b41e-4c5e-a501-261883daf13e",
   "metadata": {},
   "source": [
    "**Numpy date can support vectorized operations and also it takes strings for lesser space and readibility**"
   ]
  },
  {
   "cell_type": "code",
   "execution_count": 22,
   "id": "1ab3172f-cd33-45e1-8d3b-8e03ee01c097",
   "metadata": {},
   "outputs": [
    {
     "data": {
      "text/plain": [
       "array('2025-07-18', dtype='datetime64[D]')"
      ]
     },
     "execution_count": 22,
     "metadata": {},
     "output_type": "execute_result"
    }
   ],
   "source": [
    "date = np.array(\"2025-07-18\",dtype=np.datetime64)\n",
    "date"
   ]
  },
  {
   "cell_type": "code",
   "execution_count": 23,
   "id": "c4471b92-ee52-40a9-b4b4-aff63cd8c051",
   "metadata": {},
   "outputs": [
    {
     "data": {
      "text/plain": [
       "array(['2025-07-18', '2025-07-19', '2025-07-20', '2025-07-21',\n",
       "       '2025-07-22', '2025-07-23', '2025-07-24', '2025-07-25',\n",
       "       '2025-07-26', '2025-07-27', '2025-07-28', '2025-07-29',\n",
       "       '2025-07-30', '2025-07-31', '2025-08-01', '2025-08-02',\n",
       "       '2025-08-03', '2025-08-04', '2025-08-05', '2025-08-06'],\n",
       "      dtype='datetime64[D]')"
      ]
     },
     "execution_count": 23,
     "metadata": {},
     "output_type": "execute_result"
    }
   ],
   "source": [
    "#vectorized operation\n",
    "date + np.arange(20)"
   ]
  },
  {
   "cell_type": "markdown",
   "id": "303e68e6-f345-4e26-87f0-4ca00b27c602",
   "metadata": {},
   "source": [
    "* Because of the uniform type in NumPy datetime64 arrays, this type of operation can be accomplished much more quickly than if we were working directly with Python's datetime objects, especially as arrays get large\n",
    "* Pandas Timestamp object combines the ease-of-use of python datetime with the efficient storage and vectorized interface of numpy.datetime64\n",
    "* From a group of these Timestamp objects, Pandas can construct a DatetimeIndex that can be used to index data in a Series or DataFrame"
   ]
  },
  {
   "cell_type": "markdown",
   "id": "a946ddb7-c29b-41a7-9754-3dd830213f26",
   "metadata": {},
   "source": [
    "# DatetimeIndex Object\n",
    "A DatetimeIndex is a special type of index in Pandas that is optimized for date/time-based indexing and time series operations. A collection of timestamp.\n",
    "\n",
    " It allows you to:\n",
    "- Filter data by year, month, day, etc.\n",
    "- Resample time series\n",
    "- Easily handle date/time-based slicing\n",
    "\n"
   ]
  },
  {
   "cell_type": "markdown",
   "id": "f94e9de6-4b51-4c39-a238-f3b55771573c",
   "metadata": {},
   "source": [
    "## Creating DateTimeIndex Object"
   ]
  },
  {
   "cell_type": "markdown",
   "id": "8b646a0b-3862-4d9d-b6fb-38480d22a635",
   "metadata": {},
   "source": [
    "### Using strings"
   ]
  },
  {
   "cell_type": "code",
   "execution_count": 24,
   "id": "94b619e6-2a3f-4895-ac7f-d771e5a0940d",
   "metadata": {},
   "outputs": [
    {
     "data": {
      "text/plain": [
       "DatetimeIndex(['2025-07-11', '2025-07-12', '2025-07-13', '2025-07-14'], dtype='datetime64[ns]', freq=None)"
      ]
     },
     "execution_count": 24,
     "metadata": {},
     "output_type": "execute_result"
    }
   ],
   "source": [
    "index = pd.DatetimeIndex([\"2025-7-11\",\"2025-7-12\",\"2025-7-13\",\"2025-7-14\"])\n",
    "index"
   ]
  },
  {
   "cell_type": "code",
   "execution_count": 25,
   "id": "916bcbc8-ed4c-4bf7-95bf-a85c6f6ba6a1",
   "metadata": {},
   "outputs": [
    {
     "data": {
      "text/plain": [
       "pandas.core.indexes.datetimes.DatetimeIndex"
      ]
     },
     "execution_count": 25,
     "metadata": {},
     "output_type": "execute_result"
    }
   ],
   "source": [
    "type(index)"
   ]
  },
  {
   "cell_type": "code",
   "execution_count": 26,
   "id": "c58ba0c6-5e5d-4fd6-bf26-542de3785de2",
   "metadata": {},
   "outputs": [
    {
     "data": {
      "text/plain": [
       "Timestamp('2025-07-11 00:00:00')"
      ]
     },
     "execution_count": 26,
     "metadata": {},
     "output_type": "execute_result"
    }
   ],
   "source": [
    "index[0]"
   ]
  },
  {
   "cell_type": "markdown",
   "id": "e01ef33f-3b56-4dde-a905-ce804fde3b59",
   "metadata": {},
   "source": [
    "**To prove it is a collection of Timestamp objects**"
   ]
  },
  {
   "cell_type": "code",
   "execution_count": 27,
   "id": "4a92059e-7566-4b26-8cfb-f765228b797a",
   "metadata": {},
   "outputs": [
    {
     "data": {
      "text/plain": [
       "pandas._libs.tslibs.timestamps.Timestamp"
      ]
     },
     "execution_count": 27,
     "metadata": {},
     "output_type": "execute_result"
    }
   ],
   "source": [
    "type(index[0])"
   ]
  },
  {
   "cell_type": "markdown",
   "id": "233e3f16-e351-4856-a6d7-b32655e47f40",
   "metadata": {},
   "source": [
    "### Using python datetime objects"
   ]
  },
  {
   "cell_type": "code",
   "execution_count": 28,
   "id": "162147fa-9ea2-4832-8556-799b28bfd49f",
   "metadata": {},
   "outputs": [
    {
     "data": {
      "text/plain": [
       "DatetimeIndex(['2025-07-11', '2025-07-12', '2025-07-13', '2025-07-14'], dtype='datetime64[ns]', freq=None)"
      ]
     },
     "execution_count": 28,
     "metadata": {},
     "output_type": "execute_result"
    }
   ],
   "source": [
    "pd.DatetimeIndex([dt.datetime(2025,7,11),dt.datetime(2025,7,12),dt.datetime(2025,7,13),dt.datetime(2025,7,14)])"
   ]
  },
  {
   "cell_type": "markdown",
   "id": "a5ec7b85-5e72-456b-8056-8967c30925bc",
   "metadata": {},
   "source": [
    "### Using pd.Timestamp objects"
   ]
  },
  {
   "cell_type": "code",
   "execution_count": 29,
   "id": "397b3337-4b00-4c86-9725-d5a6c33dfb32",
   "metadata": {},
   "outputs": [
    {
     "data": {
      "text/plain": [
       "DatetimeIndex(['2025-07-11', '2025-07-12', '2025-07-13', '2025-07-14'], dtype='datetime64[ns]', freq=None)"
      ]
     },
     "execution_count": 29,
     "metadata": {},
     "output_type": "execute_result"
    }
   ],
   "source": [
    "pd.DatetimeIndex([pd.Timestamp(2025,7,11),pd.Timestamp(2025,7,12),pd.Timestamp(2025,7,13),pd.Timestamp(2025,7,14)])"
   ]
  },
  {
   "cell_type": "markdown",
   "id": "d9ec596b-9094-41f4-a327-c5a91c1f9ec4",
   "metadata": {},
   "source": [
    "## Using DatetimeIndex object as Series index"
   ]
  },
  {
   "cell_type": "code",
   "execution_count": 30,
   "id": "28a75c47-e7a7-47f0-813b-08b5eb8a89bd",
   "metadata": {},
   "outputs": [
    {
     "data": {
      "text/plain": [
       "2025-07-11    1\n",
       "2025-07-12    2\n",
       "2025-07-13    4\n",
       "2025-07-14    8\n",
       "dtype: int64"
      ]
     },
     "execution_count": 30,
     "metadata": {},
     "output_type": "execute_result"
    }
   ],
   "source": [
    "ser = pd.Series([1,2,4,8],index=index)\n",
    "ser"
   ]
  },
  {
   "cell_type": "code",
   "execution_count": 31,
   "id": "441e1748-989a-4753-9144-cbd916814d53",
   "metadata": {},
   "outputs": [
    {
     "data": {
      "text/plain": [
       "2025-07-11    1\n",
       "2025-07-12    2\n",
       "2025-07-13    4\n",
       "2025-07-14    8\n",
       "dtype: int64"
      ]
     },
     "execution_count": 31,
     "metadata": {},
     "output_type": "execute_result"
    }
   ],
   "source": [
    "ser[\"2025\"]"
   ]
  },
  {
   "cell_type": "code",
   "execution_count": 32,
   "id": "328ead86-3949-40ab-a7f3-ae7a6d3019af",
   "metadata": {},
   "outputs": [
    {
     "data": {
      "text/plain": [
       "2025-07-11    1\n",
       "2025-07-12    2\n",
       "2025-07-13    4\n",
       "2025-07-14    8\n",
       "dtype: int64"
      ]
     },
     "execution_count": 32,
     "metadata": {},
     "output_type": "execute_result"
    }
   ],
   "source": [
    "ser[\"2025/7\"]"
   ]
  },
  {
   "cell_type": "code",
   "execution_count": 33,
   "id": "5bdd0a23-78f2-4446-8693-e8f2d9943079",
   "metadata": {},
   "outputs": [
    {
     "data": {
      "text/plain": [
       "2025-07-11    1\n",
       "2025-07-12    2\n",
       "2025-07-13    4\n",
       "2025-07-14    8\n",
       "dtype: int64"
      ]
     },
     "execution_count": 33,
     "metadata": {},
     "output_type": "execute_result"
    }
   ],
   "source": [
    "ser[\"2025-7\"]"
   ]
  },
  {
   "cell_type": "code",
   "execution_count": 34,
   "id": "a635781b-cd33-482c-9959-2739c51a0c58",
   "metadata": {},
   "outputs": [
    {
     "data": {
      "text/plain": [
       "2025-07-11    1\n",
       "2025-07-12    2\n",
       "2025-07-13    4\n",
       "2025-07-14    8\n",
       "dtype: int64"
      ]
     },
     "execution_count": 34,
     "metadata": {},
     "output_type": "execute_result"
    }
   ],
   "source": [
    "ser[\"2025, 7\"]"
   ]
  },
  {
   "cell_type": "code",
   "execution_count": 35,
   "id": "992344f4-ad24-4de1-a13a-352aa2f150e3",
   "metadata": {},
   "outputs": [
    {
     "data": {
      "text/plain": [
       "8"
      ]
     },
     "execution_count": 35,
     "metadata": {},
     "output_type": "execute_result"
    }
   ],
   "source": [
    "ser[\"2025-07-14\"]"
   ]
  },
  {
   "cell_type": "markdown",
   "id": "5c16c71a-81dd-4690-a8ff-31a9c42d5f93",
   "metadata": {},
   "source": [
    "# date_range Function"
   ]
  },
  {
   "cell_type": "markdown",
   "id": "25b34909-3bb1-4da7-a387-f7152d39fd3b",
   "metadata": {},
   "source": [
    "### Genreate daily dates in a given range"
   ]
  },
  {
   "cell_type": "code",
   "execution_count": 36,
   "id": "05908aaa-4b22-476e-9895-4571e02a1738",
   "metadata": {},
   "outputs": [
    {
     "data": {
      "text/plain": [
       "DatetimeIndex(['2025-01-01', '2025-01-02', '2025-01-03', '2025-01-04',\n",
       "               '2025-01-05', '2025-01-06', '2025-01-07', '2025-01-08',\n",
       "               '2025-01-09', '2025-01-10', '2025-01-11', '2025-01-12',\n",
       "               '2025-01-13', '2025-01-14', '2025-01-15', '2025-01-16',\n",
       "               '2025-01-17', '2025-01-18', '2025-01-19', '2025-01-20',\n",
       "               '2025-01-21', '2025-01-22', '2025-01-23', '2025-01-24',\n",
       "               '2025-01-25', '2025-01-26', '2025-01-27', '2025-01-28',\n",
       "               '2025-01-29', '2025-01-30', '2025-01-31'],\n",
       "              dtype='datetime64[ns]', freq='D')"
      ]
     },
     "execution_count": 36,
     "metadata": {},
     "output_type": "execute_result"
    }
   ],
   "source": [
    "pd.date_range(start=\"2025-01-01\",end=\"2025-01-31\",freq=\"D\")"
   ]
  },
  {
   "cell_type": "markdown",
   "id": "d9f882ba-6ad4-42cf-af08-11d07b30d786",
   "metadata": {},
   "source": [
    "### Genreate alternate dates in a given range"
   ]
  },
  {
   "cell_type": "code",
   "execution_count": 37,
   "id": "6fb88a91-5e47-44b9-95ef-11b5fe1a883b",
   "metadata": {},
   "outputs": [
    {
     "data": {
      "text/plain": [
       "DatetimeIndex(['2025-01-01', '2025-01-03', '2025-01-05', '2025-01-07',\n",
       "               '2025-01-09', '2025-01-11', '2025-01-13', '2025-01-15',\n",
       "               '2025-01-17', '2025-01-19', '2025-01-21', '2025-01-23',\n",
       "               '2025-01-25', '2025-01-27', '2025-01-29', '2025-01-31'],\n",
       "              dtype='datetime64[ns]', freq='2D')"
      ]
     },
     "execution_count": 37,
     "metadata": {},
     "output_type": "execute_result"
    }
   ],
   "source": [
    "pd.date_range(\"2025-01-01\",\"2025-01-31\",freq=\"2D\")"
   ]
  },
  {
   "cell_type": "markdown",
   "id": "a9000028-23c6-40ca-b0ed-cc5b6ac77249",
   "metadata": {},
   "source": [
    "### B -> Business days"
   ]
  },
  {
   "cell_type": "code",
   "execution_count": 38,
   "id": "99aabd34-1b5f-46e3-8ebe-963decdf8bd7",
   "metadata": {},
   "outputs": [
    {
     "data": {
      "text/plain": [
       "DatetimeIndex(['2025-01-01', '2025-01-02', '2025-01-03', '2025-01-06',\n",
       "               '2025-01-07', '2025-01-08', '2025-01-09', '2025-01-10',\n",
       "               '2025-01-13', '2025-01-14', '2025-01-15', '2025-01-16',\n",
       "               '2025-01-17', '2025-01-20', '2025-01-21', '2025-01-22',\n",
       "               '2025-01-23', '2025-01-24', '2025-01-27', '2025-01-28',\n",
       "               '2025-01-29', '2025-01-30', '2025-01-31'],\n",
       "              dtype='datetime64[ns]', freq='B')"
      ]
     },
     "execution_count": 38,
     "metadata": {},
     "output_type": "execute_result"
    }
   ],
   "source": [
    "pd.date_range(\"2025-01-01\",\"2025-01-31\",freq=\"B\")"
   ]
  },
  {
   "cell_type": "markdown",
   "id": "b5bd2b77-0855-4576-80b8-b2f0e0e07387",
   "metadata": {},
   "source": [
    "### W -> Weekly"
   ]
  },
  {
   "cell_type": "code",
   "execution_count": 39,
   "id": "94d3c78d-d310-477b-9b05-4b89f02fa1d3",
   "metadata": {},
   "outputs": [
    {
     "data": {
      "text/plain": [
       "DatetimeIndex(['2025-01-05', '2025-01-12', '2025-01-19', '2025-01-26'], dtype='datetime64[ns]', freq='W-SUN')"
      ]
     },
     "execution_count": 39,
     "metadata": {},
     "output_type": "execute_result"
    }
   ],
   "source": [
    "pd.date_range(\"2025-01-01\",\"2025-01-31\",freq=\"W\")"
   ]
  },
  {
   "cell_type": "markdown",
   "id": "b1d63217-0439-4dd6-aa1f-2579801aba78",
   "metadata": {},
   "source": [
    "All these days are sundays, if we don't want sundays we could do freq =\"W-MON\" MON,TUE,WED,THU,FRI,SAT,SUN"
   ]
  },
  {
   "cell_type": "code",
   "execution_count": 40,
   "id": "ab7b01d3-464a-4918-adde-bf7866854445",
   "metadata": {},
   "outputs": [
    {
     "data": {
      "text/plain": [
       "DatetimeIndex(['2025-01-02', '2025-01-09', '2025-01-16', '2025-01-23',\n",
       "               '2025-01-30'],\n",
       "              dtype='datetime64[ns]', freq='W-THU')"
      ]
     },
     "execution_count": 40,
     "metadata": {},
     "output_type": "execute_result"
    }
   ],
   "source": [
    "pd.date_range(\"2025-01-01\",\"2025-01-31\",freq=\"W-THU\")"
   ]
  },
  {
   "cell_type": "markdown",
   "id": "1a4f7397-6bde-4f21-b4b8-21518998aa59",
   "metadata": {},
   "source": [
    "### H -> Hourly data"
   ]
  },
  {
   "cell_type": "code",
   "execution_count": 41,
   "id": "1a8da904-c4dd-4e0c-8d5f-95eb4c829618",
   "metadata": {},
   "outputs": [
    {
     "name": "stderr",
     "output_type": "stream",
     "text": [
      "C:\\Users\\AK\\AppData\\Local\\Temp\\ipykernel_8380\\806110793.py:1: FutureWarning: 'H' is deprecated and will be removed in a future version, please use 'h' instead.\n",
      "  pd.date_range(\"2025-01-01\",\"2025-01-31\",freq=\"H\")\n"
     ]
    },
    {
     "data": {
      "text/plain": [
       "DatetimeIndex(['2025-01-01 00:00:00', '2025-01-01 01:00:00',\n",
       "               '2025-01-01 02:00:00', '2025-01-01 03:00:00',\n",
       "               '2025-01-01 04:00:00', '2025-01-01 05:00:00',\n",
       "               '2025-01-01 06:00:00', '2025-01-01 07:00:00',\n",
       "               '2025-01-01 08:00:00', '2025-01-01 09:00:00',\n",
       "               ...\n",
       "               '2025-01-30 15:00:00', '2025-01-30 16:00:00',\n",
       "               '2025-01-30 17:00:00', '2025-01-30 18:00:00',\n",
       "               '2025-01-30 19:00:00', '2025-01-30 20:00:00',\n",
       "               '2025-01-30 21:00:00', '2025-01-30 22:00:00',\n",
       "               '2025-01-30 23:00:00', '2025-01-31 00:00:00'],\n",
       "              dtype='datetime64[ns]', length=721, freq='h')"
      ]
     },
     "execution_count": 41,
     "metadata": {},
     "output_type": "execute_result"
    }
   ],
   "source": [
    "pd.date_range(\"2025-01-01\",\"2025-01-31\",freq=\"H\")"
   ]
  },
  {
   "cell_type": "code",
   "execution_count": 42,
   "id": "0bcc4a8d-8b4a-4cf8-8702-ece48d60798e",
   "metadata": {},
   "outputs": [
    {
     "data": {
      "text/plain": [
       "DatetimeIndex(['2025-01-01 00:00:00', '2025-01-01 06:00:00',\n",
       "               '2025-01-01 12:00:00', '2025-01-01 18:00:00',\n",
       "               '2025-01-02 00:00:00', '2025-01-02 06:00:00',\n",
       "               '2025-01-02 12:00:00', '2025-01-02 18:00:00',\n",
       "               '2025-01-03 00:00:00', '2025-01-03 06:00:00',\n",
       "               ...\n",
       "               '2025-01-28 18:00:00', '2025-01-29 00:00:00',\n",
       "               '2025-01-29 06:00:00', '2025-01-29 12:00:00',\n",
       "               '2025-01-29 18:00:00', '2025-01-30 00:00:00',\n",
       "               '2025-01-30 06:00:00', '2025-01-30 12:00:00',\n",
       "               '2025-01-30 18:00:00', '2025-01-31 00:00:00'],\n",
       "              dtype='datetime64[ns]', length=121, freq='6h')"
      ]
     },
     "execution_count": 42,
     "metadata": {},
     "output_type": "execute_result"
    }
   ],
   "source": [
    "pd.date_range(\"2025-01-01\",\"2025-01-31\",freq=\"6h\")"
   ]
  },
  {
   "cell_type": "markdown",
   "id": "480092e9-364e-49ac-ae99-6e3fa63527f7",
   "metadata": {},
   "source": [
    "### ME or M -> month end"
   ]
  },
  {
   "cell_type": "code",
   "execution_count": 43,
   "id": "355aa520-4356-4c92-b919-cecfa6b01aa2",
   "metadata": {},
   "outputs": [
    {
     "data": {
      "text/plain": [
       "DatetimeIndex(['2025-01-31'], dtype='datetime64[ns]', freq='ME')"
      ]
     },
     "execution_count": 43,
     "metadata": {},
     "output_type": "execute_result"
    }
   ],
   "source": [
    "pd.date_range(\"2025-01-01\",\"2025-01-31\",freq=\"ME\")"
   ]
  },
  {
   "cell_type": "markdown",
   "id": "05e25634-d011-4ffd-8eb5-247ad4b56839",
   "metadata": {},
   "source": [
    "### MS -> month start"
   ]
  },
  {
   "cell_type": "code",
   "execution_count": 44,
   "id": "354ffc6e-2478-495d-b329-1b9017d66dad",
   "metadata": {},
   "outputs": [
    {
     "data": {
      "text/plain": [
       "DatetimeIndex(['2025-01-01'], dtype='datetime64[ns]', freq='MS')"
      ]
     },
     "execution_count": 44,
     "metadata": {},
     "output_type": "execute_result"
    }
   ],
   "source": [
    "pd.date_range(\"2025-01-01\",\"2025-01-31\",freq=\"MS\")"
   ]
  },
  {
   "cell_type": "markdown",
   "id": "2b36cd91-d914-4c3e-90c0-e1a3561e46a2",
   "metadata": {},
   "source": [
    "### Y or A or YE -> year end"
   ]
  },
  {
   "cell_type": "code",
   "execution_count": 45,
   "id": "7e55bd7a-211c-4bb9-990b-14f2f90be2cc",
   "metadata": {},
   "outputs": [
    {
     "name": "stderr",
     "output_type": "stream",
     "text": [
      "C:\\Users\\AK\\AppData\\Local\\Temp\\ipykernel_8380\\326072701.py:1: FutureWarning: 'A' is deprecated and will be removed in a future version, please use 'YE' instead.\n",
      "  pd.date_range(\"2025-01-01\",\"2025-01-31\",freq=\"A\")\n"
     ]
    },
    {
     "data": {
      "text/plain": [
       "DatetimeIndex([], dtype='datetime64[ns]', freq='YE-DEC')"
      ]
     },
     "execution_count": 45,
     "metadata": {},
     "output_type": "execute_result"
    }
   ],
   "source": [
    "pd.date_range(\"2025-01-01\",\"2025-01-31\",freq=\"A\")"
   ]
  },
  {
   "cell_type": "code",
   "execution_count": 46,
   "id": "d6353b2c-50e6-4791-9bdb-08a2d6cbf44c",
   "metadata": {},
   "outputs": [
    {
     "name": "stderr",
     "output_type": "stream",
     "text": [
      "C:\\Users\\AK\\AppData\\Local\\Temp\\ipykernel_8380\\71727386.py:1: FutureWarning: 'Y' is deprecated and will be removed in a future version, please use 'YE' instead.\n",
      "  pd.date_range(\"2025-01-01\",\"2025-01-31\",freq=\"Y\")\n"
     ]
    },
    {
     "data": {
      "text/plain": [
       "DatetimeIndex([], dtype='datetime64[ns]', freq='YE-DEC')"
      ]
     },
     "execution_count": 46,
     "metadata": {},
     "output_type": "execute_result"
    }
   ],
   "source": [
    "pd.date_range(\"2025-01-01\",\"2025-01-31\",freq=\"Y\")"
   ]
  },
  {
   "cell_type": "code",
   "execution_count": 47,
   "id": "a9276a37-5d06-4ab5-ad4b-024b74eef55d",
   "metadata": {},
   "outputs": [
    {
     "data": {
      "text/plain": [
       "DatetimeIndex([], dtype='datetime64[ns]', freq='YE-DEC')"
      ]
     },
     "execution_count": 47,
     "metadata": {},
     "output_type": "execute_result"
    }
   ],
   "source": [
    "pd.date_range(\"2025-01-01\",\"2025-01-31\",freq=\"YE\")"
   ]
  },
  {
   "cell_type": "markdown",
   "id": "9faadcfb-96b9-4c5c-a29d-bf166a536fa9",
   "metadata": {},
   "source": [
    "### YS or AS -> year start"
   ]
  },
  {
   "cell_type": "code",
   "execution_count": 48,
   "id": "7dcc3bff-745b-42a8-9227-4842c15dc343",
   "metadata": {},
   "outputs": [
    {
     "name": "stderr",
     "output_type": "stream",
     "text": [
      "C:\\Users\\AK\\AppData\\Local\\Temp\\ipykernel_8380\\949387882.py:1: FutureWarning: 'AS' is deprecated and will be removed in a future version, please use 'YS' instead.\n",
      "  pd.date_range(\"2025-01-01\",\"2025-01-31\",freq=\"AS\")\n"
     ]
    },
    {
     "data": {
      "text/plain": [
       "DatetimeIndex(['2025-01-01'], dtype='datetime64[ns]', freq='YS-JAN')"
      ]
     },
     "execution_count": 48,
     "metadata": {},
     "output_type": "execute_result"
    }
   ],
   "source": [
    "pd.date_range(\"2025-01-01\",\"2025-01-31\",freq=\"AS\")"
   ]
  },
  {
   "cell_type": "code",
   "execution_count": 49,
   "id": "b470a5c7-377a-48c2-b529-df3f18527952",
   "metadata": {},
   "outputs": [
    {
     "data": {
      "text/plain": [
       "DatetimeIndex(['2025-01-01'], dtype='datetime64[ns]', freq='YS-JAN')"
      ]
     },
     "execution_count": 49,
     "metadata": {},
     "output_type": "execute_result"
    }
   ],
   "source": [
    "pd.date_range(\"2025-01-01\",\"2025-01-31\",freq=\"YS\")"
   ]
  },
  {
   "cell_type": "markdown",
   "id": "5062596b-d708-452c-9820-4e09174e1abc",
   "metadata": {},
   "source": [
    "| Code             | Meaning       | Example                     |\n",
    "| ---------------- | ------------- | --------------------------- |\n",
    "| `\"D\"`            | Calendar day  | Daily data: 2023-01-01, 02… |\n",
    "| `\"B\"`            | Business day  | Skips weekends              |\n",
    "| `\"H\"`            | Hour          | 01:00, 02:00, …             |\n",
    "| `\"T\"` or `\"min\"` | Minute        | 00:00, 00:01, …             |\n",
    "| `\"S\"`            | Second        | 00:00:00, 00:00:01…         |\n",
    "| `\"W\"`            | Weekly        | 2023-01-01, 2023-01-08…     |\n",
    "| `\"M\"` or `\"ME\"`  | Month end     | 2023-01-31, 2023-02-28…     |\n",
    "| `\"MS\"`           | Month start   | 2023-01-01, 2023-02-01…     |\n",
    "| `\"Q\"`            | Quarter end   | Mar 31, Jun 30, Sep 30…     |\n",
    "| `\"QS\"`           | Quarter start | Jan 1, Apr 1, Jul 1…        |\n",
    "| `\"A\"` or `\"Y\"` or `\"YE\"`| Year end      | 2023-12-31, 2024-12-31…     |\n",
    "| `\"AS\"` or `\"YS\"` | Year start    | 2023-01-01, 2024-01-01…     |\n"
   ]
  },
  {
   "cell_type": "markdown",
   "id": "aee89ab1-8d04-479c-a7cf-7e2b46b91de0",
   "metadata": {},
   "source": [
    "### Using periods (number of results)"
   ]
  },
  {
   "cell_type": "code",
   "execution_count": 50,
   "id": "bdc42bc4-52fb-4e5a-81e2-51c0e0d1d28a",
   "metadata": {},
   "outputs": [
    {
     "data": {
      "text/plain": [
       "DatetimeIndex(['2025-01-01', '2025-01-02', '2025-01-03', '2025-01-04',\n",
       "               '2025-01-05', '2025-01-06', '2025-01-07', '2025-01-08',\n",
       "               '2025-01-09', '2025-01-10', '2025-01-11', '2025-01-12',\n",
       "               '2025-01-13', '2025-01-14', '2025-01-15', '2025-01-16',\n",
       "               '2025-01-17', '2025-01-18', '2025-01-19', '2025-01-20',\n",
       "               '2025-01-21', '2025-01-22', '2025-01-23', '2025-01-24',\n",
       "               '2025-01-25'],\n",
       "              dtype='datetime64[ns]', freq='D')"
      ]
     },
     "execution_count": 50,
     "metadata": {},
     "output_type": "execute_result"
    }
   ],
   "source": [
    "pd.date_range(\"2025-01-01\",periods=25,freq=\"D\")"
   ]
  },
  {
   "cell_type": "code",
   "execution_count": 51,
   "id": "39fd82e6-59bc-457e-809c-209e6720a21d",
   "metadata": {},
   "outputs": [
    {
     "name": "stderr",
     "output_type": "stream",
     "text": [
      "C:\\Users\\AK\\AppData\\Local\\Temp\\ipykernel_8380\\454904311.py:1: FutureWarning: 'H' is deprecated and will be removed in a future version, please use 'h' instead.\n",
      "  pd.date_range(\"2025-01-01\",periods=25,freq=\"H\")\n"
     ]
    },
    {
     "data": {
      "text/plain": [
       "DatetimeIndex(['2025-01-01 00:00:00', '2025-01-01 01:00:00',\n",
       "               '2025-01-01 02:00:00', '2025-01-01 03:00:00',\n",
       "               '2025-01-01 04:00:00', '2025-01-01 05:00:00',\n",
       "               '2025-01-01 06:00:00', '2025-01-01 07:00:00',\n",
       "               '2025-01-01 08:00:00', '2025-01-01 09:00:00',\n",
       "               '2025-01-01 10:00:00', '2025-01-01 11:00:00',\n",
       "               '2025-01-01 12:00:00', '2025-01-01 13:00:00',\n",
       "               '2025-01-01 14:00:00', '2025-01-01 15:00:00',\n",
       "               '2025-01-01 16:00:00', '2025-01-01 17:00:00',\n",
       "               '2025-01-01 18:00:00', '2025-01-01 19:00:00',\n",
       "               '2025-01-01 20:00:00', '2025-01-01 21:00:00',\n",
       "               '2025-01-01 22:00:00', '2025-01-01 23:00:00',\n",
       "               '2025-01-02 00:00:00'],\n",
       "              dtype='datetime64[ns]', freq='h')"
      ]
     },
     "execution_count": 51,
     "metadata": {},
     "output_type": "execute_result"
    }
   ],
   "source": [
    "pd.date_range(\"2025-01-01\",periods=25,freq=\"H\")"
   ]
  },
  {
   "cell_type": "code",
   "execution_count": 52,
   "id": "0d4838c5-8c20-420a-bcc8-79c247a03281",
   "metadata": {},
   "outputs": [
    {
     "data": {
      "text/plain": [
       "DatetimeIndex(['2025-01-31', '2025-02-28', '2025-03-31', '2025-04-30',\n",
       "               '2025-05-31', '2025-06-30', '2025-07-31', '2025-08-31',\n",
       "               '2025-09-30', '2025-10-31', '2025-11-30', '2025-12-31',\n",
       "               '2026-01-31', '2026-02-28', '2026-03-31', '2026-04-30',\n",
       "               '2026-05-31', '2026-06-30', '2026-07-31', '2026-08-31',\n",
       "               '2026-09-30', '2026-10-31', '2026-11-30', '2026-12-31',\n",
       "               '2027-01-31'],\n",
       "              dtype='datetime64[ns]', freq='ME')"
      ]
     },
     "execution_count": 52,
     "metadata": {},
     "output_type": "execute_result"
    }
   ],
   "source": [
    "pd.date_range(\"2025-01-01\",periods=25,freq=\"ME\")"
   ]
  },
  {
   "cell_type": "markdown",
   "id": "da5e5e64-4f0a-467c-ab60-2d32fe961074",
   "metadata": {},
   "source": [
    "## to_datetime() function"
   ]
  },
  {
   "cell_type": "markdown",
   "id": "ad6a10bf-1d99-484e-af37-5094ae073f4a",
   "metadata": {},
   "source": [
    "converts an existing object to pandas Timestamp or DatetimeIndex object"
   ]
  },
  {
   "cell_type": "code",
   "execution_count": 53,
   "id": "ed977782-45e9-4c08-8793-741a79d0797f",
   "metadata": {},
   "outputs": [
    {
     "data": {
      "text/plain": [
       "0    2025-2-3\n",
       "1    2025-2-4\n",
       "2    2025-2-5\n",
       "dtype: object"
      ]
     },
     "execution_count": 53,
     "metadata": {},
     "output_type": "execute_result"
    }
   ],
   "source": [
    "s = pd.Series([\"2025-2-3\",\"2025-2-4\",\"2025-2-5\"])\n",
    "s"
   ]
  },
  {
   "cell_type": "code",
   "execution_count": 54,
   "id": "13fde037-2fad-46b9-9306-ae7a00d7cd02",
   "metadata": {},
   "outputs": [
    {
     "data": {
      "text/plain": [
       "0   2025-02-03\n",
       "1   2025-02-04\n",
       "2   2025-02-05\n",
       "dtype: datetime64[ns]"
      ]
     },
     "execution_count": 54,
     "metadata": {},
     "output_type": "execute_result"
    }
   ],
   "source": [
    "s = pd.to_datetime(s)\n",
    "s"
   ]
  },
  {
   "cell_type": "code",
   "execution_count": 55,
   "id": "4b59960b-20f9-425b-b916-acaa43bd93c2",
   "metadata": {},
   "outputs": [
    {
     "data": {
      "text/plain": [
       "0    2025\n",
       "1    2025\n",
       "2    2025\n",
       "dtype: int32"
      ]
     },
     "execution_count": 55,
     "metadata": {},
     "output_type": "execute_result"
    }
   ],
   "source": [
    "s.dt.year"
   ]
  },
  {
   "cell_type": "code",
   "execution_count": 56,
   "id": "033433e8-dc39-43a1-ab2a-23650fde36bc",
   "metadata": {},
   "outputs": [
    {
     "data": {
      "text/plain": [
       "0    2\n",
       "1    2\n",
       "2    2\n",
       "dtype: int32"
      ]
     },
     "execution_count": 56,
     "metadata": {},
     "output_type": "execute_result"
    }
   ],
   "source": [
    "s.dt.month"
   ]
  },
  {
   "cell_type": "code",
   "execution_count": 57,
   "id": "1bc6d3bd-b937-45b1-ab75-aceeea8bf960",
   "metadata": {},
   "outputs": [
    {
     "data": {
      "text/plain": [
       "0    3\n",
       "1    4\n",
       "2    5\n",
       "dtype: int32"
      ]
     },
     "execution_count": 57,
     "metadata": {},
     "output_type": "execute_result"
    }
   ],
   "source": [
    "s.dt.day"
   ]
  },
  {
   "cell_type": "code",
   "execution_count": 58,
   "id": "16245403-1849-4002-b557-16b485a803f8",
   "metadata": {},
   "outputs": [
    {
     "data": {
      "text/plain": [
       "0    February\n",
       "1    February\n",
       "2    February\n",
       "dtype: object"
      ]
     },
     "execution_count": 58,
     "metadata": {},
     "output_type": "execute_result"
    }
   ],
   "source": [
    "s.dt.month_name()"
   ]
  },
  {
   "cell_type": "code",
   "execution_count": 59,
   "id": "20ed3c0c-a057-457c-9c52-5a9b05995c2b",
   "metadata": {},
   "outputs": [
    {
     "data": {
      "text/plain": [
       "0       Monday\n",
       "1      Tuesday\n",
       "2    Wednesday\n",
       "dtype: object"
      ]
     },
     "execution_count": 59,
     "metadata": {},
     "output_type": "execute_result"
    }
   ],
   "source": [
    "s.dt.day_name()"
   ]
  },
  {
   "cell_type": "code",
   "execution_count": 60,
   "id": "1cde6d7c-3a79-480d-b323-b22c1e14070b",
   "metadata": {},
   "outputs": [
    {
     "data": {
      "text/plain": [
       "0    False\n",
       "1    False\n",
       "2    False\n",
       "dtype: bool"
      ]
     },
     "execution_count": 60,
     "metadata": {},
     "output_type": "execute_result"
    }
   ],
   "source": [
    "s.dt.is_leap_year"
   ]
  },
  {
   "cell_type": "code",
   "execution_count": 61,
   "id": "09828e4a-d640-477a-b496-846b7a06411f",
   "metadata": {},
   "outputs": [
    {
     "data": {
      "text/plain": [
       "0    1\n",
       "1    1\n",
       "2    1\n",
       "dtype: int32"
      ]
     },
     "execution_count": 61,
     "metadata": {},
     "output_type": "execute_result"
    }
   ],
   "source": [
    "s.dt.quarter"
   ]
  },
  {
   "cell_type": "markdown",
   "id": "75993773-0ad2-45af-93fc-5c129800354f",
   "metadata": {},
   "source": [
    "So, **to_datetime() function** is used in such scenerios when the column holds date time values but in string not in datetime"
   ]
  },
  {
   "cell_type": "markdown",
   "id": "d273079a-8973-4ab6-ad9f-2b47b9ac5caf",
   "metadata": {},
   "source": [
    "### errors parameter"
   ]
  },
  {
   "cell_type": "code",
   "execution_count": 62,
   "id": "56c28c6e-d2d0-41f7-b204-8d8e9dedfba6",
   "metadata": {},
   "outputs": [
    {
     "ename": "ValueError",
     "evalue": "time data \"2025-27-5\" doesn't match format \"%Y-%m-%d\", at position 2. You might want to try:\n    - passing `format` if your strings have a consistent format;\n    - passing `format='ISO8601'` if your strings are all ISO8601 but not necessarily in exactly the same format;\n    - passing `format='mixed'`, and the format will be inferred for each element individually. You might want to use `dayfirst` alongside this.",
     "output_type": "error",
     "traceback": [
      "\u001b[1;31m---------------------------------------------------------------------------\u001b[0m",
      "\u001b[1;31mValueError\u001b[0m                                Traceback (most recent call last)",
      "Cell \u001b[1;32mIn[62], line 1\u001b[0m\n\u001b[1;32m----> 1\u001b[0m dt \u001b[38;5;241m=\u001b[39m \u001b[43mpd\u001b[49m\u001b[38;5;241;43m.\u001b[39;49m\u001b[43mto_datetime\u001b[49m\u001b[43m(\u001b[49m\u001b[43mpd\u001b[49m\u001b[38;5;241;43m.\u001b[39;49m\u001b[43mSeries\u001b[49m\u001b[43m(\u001b[49m\u001b[43m[\u001b[49m\u001b[38;5;124;43m\"\u001b[39;49m\u001b[38;5;124;43m2025-2-3\u001b[39;49m\u001b[38;5;124;43m\"\u001b[39;49m\u001b[43m,\u001b[49m\u001b[38;5;124;43m\"\u001b[39;49m\u001b[38;5;124;43m2025-2-4\u001b[39;49m\u001b[38;5;124;43m\"\u001b[39;49m\u001b[43m,\u001b[49m\u001b[38;5;124;43m\"\u001b[39;49m\u001b[38;5;124;43m2025-27-5\u001b[39;49m\u001b[38;5;124;43m\"\u001b[39;49m\u001b[43m]\u001b[49m\u001b[43m)\u001b[49m\u001b[43m)\u001b[49m\n",
      "File \u001b[1;32m~\\AppData\\Local\\Programs\\Python\\Python311\\Lib\\site-packages\\pandas\\core\\tools\\datetimes.py:1067\u001b[0m, in \u001b[0;36mto_datetime\u001b[1;34m(arg, errors, dayfirst, yearfirst, utc, format, exact, unit, infer_datetime_format, origin, cache)\u001b[0m\n\u001b[0;32m   1065\u001b[0m         result \u001b[38;5;241m=\u001b[39m arg\u001b[38;5;241m.\u001b[39mmap(cache_array)\n\u001b[0;32m   1066\u001b[0m     \u001b[38;5;28;01melse\u001b[39;00m:\n\u001b[1;32m-> 1067\u001b[0m         values \u001b[38;5;241m=\u001b[39m \u001b[43mconvert_listlike\u001b[49m\u001b[43m(\u001b[49m\u001b[43marg\u001b[49m\u001b[38;5;241;43m.\u001b[39;49m\u001b[43m_values\u001b[49m\u001b[43m,\u001b[49m\u001b[43m \u001b[49m\u001b[38;5;28;43mformat\u001b[39;49m\u001b[43m)\u001b[49m\n\u001b[0;32m   1068\u001b[0m         result \u001b[38;5;241m=\u001b[39m arg\u001b[38;5;241m.\u001b[39m_constructor(values, index\u001b[38;5;241m=\u001b[39marg\u001b[38;5;241m.\u001b[39mindex, name\u001b[38;5;241m=\u001b[39marg\u001b[38;5;241m.\u001b[39mname)\n\u001b[0;32m   1069\u001b[0m \u001b[38;5;28;01melif\u001b[39;00m \u001b[38;5;28misinstance\u001b[39m(arg, (ABCDataFrame, abc\u001b[38;5;241m.\u001b[39mMutableMapping)):\n",
      "File \u001b[1;32m~\\AppData\\Local\\Programs\\Python\\Python311\\Lib\\site-packages\\pandas\\core\\tools\\datetimes.py:433\u001b[0m, in \u001b[0;36m_convert_listlike_datetimes\u001b[1;34m(arg, format, name, utc, unit, errors, dayfirst, yearfirst, exact)\u001b[0m\n\u001b[0;32m    431\u001b[0m \u001b[38;5;66;03m# `format` could be inferred, or user didn't ask for mixed-format parsing.\u001b[39;00m\n\u001b[0;32m    432\u001b[0m \u001b[38;5;28;01mif\u001b[39;00m \u001b[38;5;28mformat\u001b[39m \u001b[38;5;129;01mis\u001b[39;00m \u001b[38;5;129;01mnot\u001b[39;00m \u001b[38;5;28;01mNone\u001b[39;00m \u001b[38;5;129;01mand\u001b[39;00m \u001b[38;5;28mformat\u001b[39m \u001b[38;5;241m!=\u001b[39m \u001b[38;5;124m\"\u001b[39m\u001b[38;5;124mmixed\u001b[39m\u001b[38;5;124m\"\u001b[39m:\n\u001b[1;32m--> 433\u001b[0m     \u001b[38;5;28;01mreturn\u001b[39;00m \u001b[43m_array_strptime_with_fallback\u001b[49m\u001b[43m(\u001b[49m\u001b[43marg\u001b[49m\u001b[43m,\u001b[49m\u001b[43m \u001b[49m\u001b[43mname\u001b[49m\u001b[43m,\u001b[49m\u001b[43m \u001b[49m\u001b[43mutc\u001b[49m\u001b[43m,\u001b[49m\u001b[43m \u001b[49m\u001b[38;5;28;43mformat\u001b[39;49m\u001b[43m,\u001b[49m\u001b[43m \u001b[49m\u001b[43mexact\u001b[49m\u001b[43m,\u001b[49m\u001b[43m \u001b[49m\u001b[43merrors\u001b[49m\u001b[43m)\u001b[49m\n\u001b[0;32m    435\u001b[0m result, tz_parsed \u001b[38;5;241m=\u001b[39m objects_to_datetime64(\n\u001b[0;32m    436\u001b[0m     arg,\n\u001b[0;32m    437\u001b[0m     dayfirst\u001b[38;5;241m=\u001b[39mdayfirst,\n\u001b[1;32m   (...)\u001b[0m\n\u001b[0;32m    441\u001b[0m     allow_object\u001b[38;5;241m=\u001b[39m\u001b[38;5;28;01mTrue\u001b[39;00m,\n\u001b[0;32m    442\u001b[0m )\n\u001b[0;32m    444\u001b[0m \u001b[38;5;28;01mif\u001b[39;00m tz_parsed \u001b[38;5;129;01mis\u001b[39;00m \u001b[38;5;129;01mnot\u001b[39;00m \u001b[38;5;28;01mNone\u001b[39;00m:\n\u001b[0;32m    445\u001b[0m     \u001b[38;5;66;03m# We can take a shortcut since the datetime64 numpy array\u001b[39;00m\n\u001b[0;32m    446\u001b[0m     \u001b[38;5;66;03m# is in UTC\u001b[39;00m\n",
      "File \u001b[1;32m~\\AppData\\Local\\Programs\\Python\\Python311\\Lib\\site-packages\\pandas\\core\\tools\\datetimes.py:467\u001b[0m, in \u001b[0;36m_array_strptime_with_fallback\u001b[1;34m(arg, name, utc, fmt, exact, errors)\u001b[0m\n\u001b[0;32m    456\u001b[0m \u001b[38;5;28;01mdef\u001b[39;00m \u001b[38;5;21m_array_strptime_with_fallback\u001b[39m(\n\u001b[0;32m    457\u001b[0m     arg,\n\u001b[0;32m    458\u001b[0m     name,\n\u001b[1;32m   (...)\u001b[0m\n\u001b[0;32m    462\u001b[0m     errors: \u001b[38;5;28mstr\u001b[39m,\n\u001b[0;32m    463\u001b[0m ) \u001b[38;5;241m-\u001b[39m\u001b[38;5;241m>\u001b[39m Index:\n\u001b[0;32m    464\u001b[0m \u001b[38;5;250m    \u001b[39m\u001b[38;5;124;03m\"\"\"\u001b[39;00m\n\u001b[0;32m    465\u001b[0m \u001b[38;5;124;03m    Call array_strptime, with fallback behavior depending on 'errors'.\u001b[39;00m\n\u001b[0;32m    466\u001b[0m \u001b[38;5;124;03m    \"\"\"\u001b[39;00m\n\u001b[1;32m--> 467\u001b[0m     result, tz_out \u001b[38;5;241m=\u001b[39m \u001b[43marray_strptime\u001b[49m\u001b[43m(\u001b[49m\u001b[43marg\u001b[49m\u001b[43m,\u001b[49m\u001b[43m \u001b[49m\u001b[43mfmt\u001b[49m\u001b[43m,\u001b[49m\u001b[43m \u001b[49m\u001b[43mexact\u001b[49m\u001b[38;5;241;43m=\u001b[39;49m\u001b[43mexact\u001b[49m\u001b[43m,\u001b[49m\u001b[43m \u001b[49m\u001b[43merrors\u001b[49m\u001b[38;5;241;43m=\u001b[39;49m\u001b[43merrors\u001b[49m\u001b[43m,\u001b[49m\u001b[43m \u001b[49m\u001b[43mutc\u001b[49m\u001b[38;5;241;43m=\u001b[39;49m\u001b[43mutc\u001b[49m\u001b[43m)\u001b[49m\n\u001b[0;32m    468\u001b[0m     \u001b[38;5;28;01mif\u001b[39;00m tz_out \u001b[38;5;129;01mis\u001b[39;00m \u001b[38;5;129;01mnot\u001b[39;00m \u001b[38;5;28;01mNone\u001b[39;00m:\n\u001b[0;32m    469\u001b[0m         unit \u001b[38;5;241m=\u001b[39m np\u001b[38;5;241m.\u001b[39mdatetime_data(result\u001b[38;5;241m.\u001b[39mdtype)[\u001b[38;5;241m0\u001b[39m]\n",
      "File \u001b[1;32mstrptime.pyx:501\u001b[0m, in \u001b[0;36mpandas._libs.tslibs.strptime.array_strptime\u001b[1;34m()\u001b[0m\n",
      "File \u001b[1;32mstrptime.pyx:451\u001b[0m, in \u001b[0;36mpandas._libs.tslibs.strptime.array_strptime\u001b[1;34m()\u001b[0m\n",
      "File \u001b[1;32mstrptime.pyx:583\u001b[0m, in \u001b[0;36mpandas._libs.tslibs.strptime._parse_with_format\u001b[1;34m()\u001b[0m\n",
      "\u001b[1;31mValueError\u001b[0m: time data \"2025-27-5\" doesn't match format \"%Y-%m-%d\", at position 2. You might want to try:\n    - passing `format` if your strings have a consistent format;\n    - passing `format='ISO8601'` if your strings are all ISO8601 but not necessarily in exactly the same format;\n    - passing `format='mixed'`, and the format will be inferred for each element individually. You might want to use `dayfirst` alongside this."
     ]
    }
   ],
   "source": [
    "dt = pd.to_datetime(pd.Series([\"2025-2-3\",\"2025-2-4\",\"2025-27-5\"]))"
   ]
  },
  {
   "cell_type": "markdown",
   "id": "19d40d5d-83b0-4454-82ba-61f69a171988",
   "metadata": {},
   "source": [
    "To solve this, there is a parameter errors \n",
    "\n",
    "The errors parameter tells how pandas should behave when it encounters invalid date values."
   ]
  },
  {
   "cell_type": "code",
   "execution_count": 63,
   "id": "71af0692-2c39-4c27-a5d0-2c807e023b14",
   "metadata": {},
   "outputs": [
    {
     "data": {
      "text/plain": [
       "0   2025-02-03\n",
       "1   2025-02-04\n",
       "2          NaT\n",
       "dtype: datetime64[ns]"
      ]
     },
     "execution_count": 63,
     "metadata": {},
     "output_type": "execute_result"
    }
   ],
   "source": [
    "dt = pd.to_datetime(pd.Series([\"2025-2-3\",\"2025-2-4\",\"2025-27-5\"]),errors=\"coerce\")\n",
    "dt"
   ]
  },
  {
   "cell_type": "markdown",
   "id": "ebe9734c-add3-4dc6-ac94-6fd674b85659",
   "metadata": {},
   "source": [
    "NaT -> not a time like NaN"
   ]
  },
  {
   "cell_type": "code",
   "execution_count": 64,
   "id": "08775791-88ae-48ee-8cf7-31ebe654d3b2",
   "metadata": {},
   "outputs": [
    {
     "name": "stderr",
     "output_type": "stream",
     "text": [
      "C:\\Users\\AK\\AppData\\Local\\Temp\\ipykernel_8380\\1288262862.py:1: FutureWarning: errors='ignore' is deprecated and will raise in a future version. Use to_datetime without passing `errors` and catch exceptions explicitly instead\n",
      "  dt = pd.to_datetime(pd.Series([\"2025-2-3\",\"2025-2-4\",\"2025-27-5\"]),errors=\"ignore\")\n"
     ]
    },
    {
     "data": {
      "text/plain": [
       "0     2025-2-3\n",
       "1     2025-2-4\n",
       "2    2025-27-5\n",
       "dtype: object"
      ]
     },
     "execution_count": 64,
     "metadata": {},
     "output_type": "execute_result"
    }
   ],
   "source": [
    "dt = pd.to_datetime(pd.Series([\"2025-2-3\",\"2025-2-4\",\"2025-27-5\"]),errors=\"ignore\")\n",
    "dt"
   ]
  },
  {
   "cell_type": "code",
   "execution_count": 65,
   "id": "c1b9b3f4-a5e0-4d21-bd22-7520c8d161bd",
   "metadata": {},
   "outputs": [
    {
     "ename": "ValueError",
     "evalue": "time data \"2025-27-5\" doesn't match format \"%Y-%m-%d\", at position 2. You might want to try:\n    - passing `format` if your strings have a consistent format;\n    - passing `format='ISO8601'` if your strings are all ISO8601 but not necessarily in exactly the same format;\n    - passing `format='mixed'`, and the format will be inferred for each element individually. You might want to use `dayfirst` alongside this.",
     "output_type": "error",
     "traceback": [
      "\u001b[1;31m---------------------------------------------------------------------------\u001b[0m",
      "\u001b[1;31mValueError\u001b[0m                                Traceback (most recent call last)",
      "Cell \u001b[1;32mIn[65], line 1\u001b[0m\n\u001b[1;32m----> 1\u001b[0m dt \u001b[38;5;241m=\u001b[39m \u001b[43mpd\u001b[49m\u001b[38;5;241;43m.\u001b[39;49m\u001b[43mto_datetime\u001b[49m\u001b[43m(\u001b[49m\u001b[43mpd\u001b[49m\u001b[38;5;241;43m.\u001b[39;49m\u001b[43mSeries\u001b[49m\u001b[43m(\u001b[49m\u001b[43m[\u001b[49m\u001b[38;5;124;43m\"\u001b[39;49m\u001b[38;5;124;43m2025-2-3\u001b[39;49m\u001b[38;5;124;43m\"\u001b[39;49m\u001b[43m,\u001b[49m\u001b[38;5;124;43m\"\u001b[39;49m\u001b[38;5;124;43m2025-2-4\u001b[39;49m\u001b[38;5;124;43m\"\u001b[39;49m\u001b[43m,\u001b[49m\u001b[38;5;124;43m\"\u001b[39;49m\u001b[38;5;124;43m2025-27-5\u001b[39;49m\u001b[38;5;124;43m\"\u001b[39;49m\u001b[43m]\u001b[49m\u001b[43m)\u001b[49m\u001b[43m,\u001b[49m\u001b[43merrors\u001b[49m\u001b[38;5;241;43m=\u001b[39;49m\u001b[38;5;124;43m\"\u001b[39;49m\u001b[38;5;124;43mraise\u001b[39;49m\u001b[38;5;124;43m\"\u001b[39;49m\u001b[43m)\u001b[49m\u001b[38;5;66;03m#default\u001b[39;00m\n\u001b[0;32m      2\u001b[0m dt\n",
      "File \u001b[1;32m~\\AppData\\Local\\Programs\\Python\\Python311\\Lib\\site-packages\\pandas\\core\\tools\\datetimes.py:1067\u001b[0m, in \u001b[0;36mto_datetime\u001b[1;34m(arg, errors, dayfirst, yearfirst, utc, format, exact, unit, infer_datetime_format, origin, cache)\u001b[0m\n\u001b[0;32m   1065\u001b[0m         result \u001b[38;5;241m=\u001b[39m arg\u001b[38;5;241m.\u001b[39mmap(cache_array)\n\u001b[0;32m   1066\u001b[0m     \u001b[38;5;28;01melse\u001b[39;00m:\n\u001b[1;32m-> 1067\u001b[0m         values \u001b[38;5;241m=\u001b[39m \u001b[43mconvert_listlike\u001b[49m\u001b[43m(\u001b[49m\u001b[43marg\u001b[49m\u001b[38;5;241;43m.\u001b[39;49m\u001b[43m_values\u001b[49m\u001b[43m,\u001b[49m\u001b[43m \u001b[49m\u001b[38;5;28;43mformat\u001b[39;49m\u001b[43m)\u001b[49m\n\u001b[0;32m   1068\u001b[0m         result \u001b[38;5;241m=\u001b[39m arg\u001b[38;5;241m.\u001b[39m_constructor(values, index\u001b[38;5;241m=\u001b[39marg\u001b[38;5;241m.\u001b[39mindex, name\u001b[38;5;241m=\u001b[39marg\u001b[38;5;241m.\u001b[39mname)\n\u001b[0;32m   1069\u001b[0m \u001b[38;5;28;01melif\u001b[39;00m \u001b[38;5;28misinstance\u001b[39m(arg, (ABCDataFrame, abc\u001b[38;5;241m.\u001b[39mMutableMapping)):\n",
      "File \u001b[1;32m~\\AppData\\Local\\Programs\\Python\\Python311\\Lib\\site-packages\\pandas\\core\\tools\\datetimes.py:433\u001b[0m, in \u001b[0;36m_convert_listlike_datetimes\u001b[1;34m(arg, format, name, utc, unit, errors, dayfirst, yearfirst, exact)\u001b[0m\n\u001b[0;32m    431\u001b[0m \u001b[38;5;66;03m# `format` could be inferred, or user didn't ask for mixed-format parsing.\u001b[39;00m\n\u001b[0;32m    432\u001b[0m \u001b[38;5;28;01mif\u001b[39;00m \u001b[38;5;28mformat\u001b[39m \u001b[38;5;129;01mis\u001b[39;00m \u001b[38;5;129;01mnot\u001b[39;00m \u001b[38;5;28;01mNone\u001b[39;00m \u001b[38;5;129;01mand\u001b[39;00m \u001b[38;5;28mformat\u001b[39m \u001b[38;5;241m!=\u001b[39m \u001b[38;5;124m\"\u001b[39m\u001b[38;5;124mmixed\u001b[39m\u001b[38;5;124m\"\u001b[39m:\n\u001b[1;32m--> 433\u001b[0m     \u001b[38;5;28;01mreturn\u001b[39;00m \u001b[43m_array_strptime_with_fallback\u001b[49m\u001b[43m(\u001b[49m\u001b[43marg\u001b[49m\u001b[43m,\u001b[49m\u001b[43m \u001b[49m\u001b[43mname\u001b[49m\u001b[43m,\u001b[49m\u001b[43m \u001b[49m\u001b[43mutc\u001b[49m\u001b[43m,\u001b[49m\u001b[43m \u001b[49m\u001b[38;5;28;43mformat\u001b[39;49m\u001b[43m,\u001b[49m\u001b[43m \u001b[49m\u001b[43mexact\u001b[49m\u001b[43m,\u001b[49m\u001b[43m \u001b[49m\u001b[43merrors\u001b[49m\u001b[43m)\u001b[49m\n\u001b[0;32m    435\u001b[0m result, tz_parsed \u001b[38;5;241m=\u001b[39m objects_to_datetime64(\n\u001b[0;32m    436\u001b[0m     arg,\n\u001b[0;32m    437\u001b[0m     dayfirst\u001b[38;5;241m=\u001b[39mdayfirst,\n\u001b[1;32m   (...)\u001b[0m\n\u001b[0;32m    441\u001b[0m     allow_object\u001b[38;5;241m=\u001b[39m\u001b[38;5;28;01mTrue\u001b[39;00m,\n\u001b[0;32m    442\u001b[0m )\n\u001b[0;32m    444\u001b[0m \u001b[38;5;28;01mif\u001b[39;00m tz_parsed \u001b[38;5;129;01mis\u001b[39;00m \u001b[38;5;129;01mnot\u001b[39;00m \u001b[38;5;28;01mNone\u001b[39;00m:\n\u001b[0;32m    445\u001b[0m     \u001b[38;5;66;03m# We can take a shortcut since the datetime64 numpy array\u001b[39;00m\n\u001b[0;32m    446\u001b[0m     \u001b[38;5;66;03m# is in UTC\u001b[39;00m\n",
      "File \u001b[1;32m~\\AppData\\Local\\Programs\\Python\\Python311\\Lib\\site-packages\\pandas\\core\\tools\\datetimes.py:467\u001b[0m, in \u001b[0;36m_array_strptime_with_fallback\u001b[1;34m(arg, name, utc, fmt, exact, errors)\u001b[0m\n\u001b[0;32m    456\u001b[0m \u001b[38;5;28;01mdef\u001b[39;00m \u001b[38;5;21m_array_strptime_with_fallback\u001b[39m(\n\u001b[0;32m    457\u001b[0m     arg,\n\u001b[0;32m    458\u001b[0m     name,\n\u001b[1;32m   (...)\u001b[0m\n\u001b[0;32m    462\u001b[0m     errors: \u001b[38;5;28mstr\u001b[39m,\n\u001b[0;32m    463\u001b[0m ) \u001b[38;5;241m-\u001b[39m\u001b[38;5;241m>\u001b[39m Index:\n\u001b[0;32m    464\u001b[0m \u001b[38;5;250m    \u001b[39m\u001b[38;5;124;03m\"\"\"\u001b[39;00m\n\u001b[0;32m    465\u001b[0m \u001b[38;5;124;03m    Call array_strptime, with fallback behavior depending on 'errors'.\u001b[39;00m\n\u001b[0;32m    466\u001b[0m \u001b[38;5;124;03m    \"\"\"\u001b[39;00m\n\u001b[1;32m--> 467\u001b[0m     result, tz_out \u001b[38;5;241m=\u001b[39m \u001b[43marray_strptime\u001b[49m\u001b[43m(\u001b[49m\u001b[43marg\u001b[49m\u001b[43m,\u001b[49m\u001b[43m \u001b[49m\u001b[43mfmt\u001b[49m\u001b[43m,\u001b[49m\u001b[43m \u001b[49m\u001b[43mexact\u001b[49m\u001b[38;5;241;43m=\u001b[39;49m\u001b[43mexact\u001b[49m\u001b[43m,\u001b[49m\u001b[43m \u001b[49m\u001b[43merrors\u001b[49m\u001b[38;5;241;43m=\u001b[39;49m\u001b[43merrors\u001b[49m\u001b[43m,\u001b[49m\u001b[43m \u001b[49m\u001b[43mutc\u001b[49m\u001b[38;5;241;43m=\u001b[39;49m\u001b[43mutc\u001b[49m\u001b[43m)\u001b[49m\n\u001b[0;32m    468\u001b[0m     \u001b[38;5;28;01mif\u001b[39;00m tz_out \u001b[38;5;129;01mis\u001b[39;00m \u001b[38;5;129;01mnot\u001b[39;00m \u001b[38;5;28;01mNone\u001b[39;00m:\n\u001b[0;32m    469\u001b[0m         unit \u001b[38;5;241m=\u001b[39m np\u001b[38;5;241m.\u001b[39mdatetime_data(result\u001b[38;5;241m.\u001b[39mdtype)[\u001b[38;5;241m0\u001b[39m]\n",
      "File \u001b[1;32mstrptime.pyx:501\u001b[0m, in \u001b[0;36mpandas._libs.tslibs.strptime.array_strptime\u001b[1;34m()\u001b[0m\n",
      "File \u001b[1;32mstrptime.pyx:451\u001b[0m, in \u001b[0;36mpandas._libs.tslibs.strptime.array_strptime\u001b[1;34m()\u001b[0m\n",
      "File \u001b[1;32mstrptime.pyx:583\u001b[0m, in \u001b[0;36mpandas._libs.tslibs.strptime._parse_with_format\u001b[1;34m()\u001b[0m\n",
      "\u001b[1;31mValueError\u001b[0m: time data \"2025-27-5\" doesn't match format \"%Y-%m-%d\", at position 2. You might want to try:\n    - passing `format` if your strings have a consistent format;\n    - passing `format='ISO8601'` if your strings are all ISO8601 but not necessarily in exactly the same format;\n    - passing `format='mixed'`, and the format will be inferred for each element individually. You might want to use `dayfirst` alongside this."
     ]
    }
   ],
   "source": [
    "dt = pd.to_datetime(pd.Series([\"2025-2-3\",\"2025-2-4\",\"2025-27-5\"]),errors=\"raise\")#default\n",
    "dt"
   ]
  },
  {
   "cell_type": "markdown",
   "id": "1fdd578b-96f5-48e8-9d86-39cff996f72d",
   "metadata": {},
   "source": [
    "| Value      | What it does                                                       |\n",
    "| ---------- | ------------------------------------------------------------------ |\n",
    "| `'raise'`  | 🔥 **Raises an error** if any value can't be converted to datetime |\n",
    "| `'coerce'` | 🧊 **Converts invalid values to `NaT`** (Not a Time)               |\n",
    "| `'ignore'` | 🙈 **Returns input unchanged** if any invalid value is found       |\n"
   ]
  },
  {
   "cell_type": "code",
   "execution_count": 66,
   "id": "d1d85273-669c-4161-9d36-ae458eef0eb8",
   "metadata": {},
   "outputs": [
    {
     "data": {
      "text/html": [
       "<div>\n",
       "<style scoped>\n",
       "    .dataframe tbody tr th:only-of-type {\n",
       "        vertical-align: middle;\n",
       "    }\n",
       "\n",
       "    .dataframe tbody tr th {\n",
       "        vertical-align: top;\n",
       "    }\n",
       "\n",
       "    .dataframe thead th {\n",
       "        text-align: right;\n",
       "    }\n",
       "</style>\n",
       "<table border=\"1\" class=\"dataframe\">\n",
       "  <thead>\n",
       "    <tr style=\"text-align: right;\">\n",
       "      <th></th>\n",
       "      <th>Date</th>\n",
       "      <th>Account</th>\n",
       "      <th>Category</th>\n",
       "      <th>Subcategory</th>\n",
       "      <th>Note</th>\n",
       "      <th>INR</th>\n",
       "      <th>Income/Expense</th>\n",
       "      <th>Note.1</th>\n",
       "      <th>Amount</th>\n",
       "      <th>Currency</th>\n",
       "      <th>Account.1</th>\n",
       "    </tr>\n",
       "  </thead>\n",
       "  <tbody>\n",
       "    <tr>\n",
       "      <th>0</th>\n",
       "      <td>3/2/2022 10:11</td>\n",
       "      <td>CUB - online payment</td>\n",
       "      <td>Food</td>\n",
       "      <td>NaN</td>\n",
       "      <td>Brownie</td>\n",
       "      <td>50.0</td>\n",
       "      <td>Expense</td>\n",
       "      <td>NaN</td>\n",
       "      <td>50.0</td>\n",
       "      <td>INR</td>\n",
       "      <td>50.0</td>\n",
       "    </tr>\n",
       "    <tr>\n",
       "      <th>1</th>\n",
       "      <td>3/2/2022 10:11</td>\n",
       "      <td>CUB - online payment</td>\n",
       "      <td>Other</td>\n",
       "      <td>NaN</td>\n",
       "      <td>To lended people</td>\n",
       "      <td>300.0</td>\n",
       "      <td>Expense</td>\n",
       "      <td>NaN</td>\n",
       "      <td>300.0</td>\n",
       "      <td>INR</td>\n",
       "      <td>300.0</td>\n",
       "    </tr>\n",
       "    <tr>\n",
       "      <th>2</th>\n",
       "      <td>3/1/2022 19:50</td>\n",
       "      <td>CUB - online payment</td>\n",
       "      <td>Food</td>\n",
       "      <td>NaN</td>\n",
       "      <td>Dinner</td>\n",
       "      <td>78.0</td>\n",
       "      <td>Expense</td>\n",
       "      <td>NaN</td>\n",
       "      <td>78.0</td>\n",
       "      <td>INR</td>\n",
       "      <td>78.0</td>\n",
       "    </tr>\n",
       "    <tr>\n",
       "      <th>3</th>\n",
       "      <td>3/1/2022 18:56</td>\n",
       "      <td>CUB - online payment</td>\n",
       "      <td>Transportation</td>\n",
       "      <td>NaN</td>\n",
       "      <td>Metro</td>\n",
       "      <td>30.0</td>\n",
       "      <td>Expense</td>\n",
       "      <td>NaN</td>\n",
       "      <td>30.0</td>\n",
       "      <td>INR</td>\n",
       "      <td>30.0</td>\n",
       "    </tr>\n",
       "    <tr>\n",
       "      <th>4</th>\n",
       "      <td>3/1/2022 18:22</td>\n",
       "      <td>CUB - online payment</td>\n",
       "      <td>Food</td>\n",
       "      <td>NaN</td>\n",
       "      <td>Snacks</td>\n",
       "      <td>67.0</td>\n",
       "      <td>Expense</td>\n",
       "      <td>NaN</td>\n",
       "      <td>67.0</td>\n",
       "      <td>INR</td>\n",
       "      <td>67.0</td>\n",
       "    </tr>\n",
       "  </tbody>\n",
       "</table>\n",
       "</div>"
      ],
      "text/plain": [
       "             Date               Account        Category  Subcategory  \\\n",
       "0  3/2/2022 10:11  CUB - online payment            Food          NaN   \n",
       "1  3/2/2022 10:11  CUB - online payment           Other          NaN   \n",
       "2  3/1/2022 19:50  CUB - online payment            Food          NaN   \n",
       "3  3/1/2022 18:56  CUB - online payment  Transportation          NaN   \n",
       "4  3/1/2022 18:22  CUB - online payment            Food          NaN   \n",
       "\n",
       "               Note    INR Income/Expense  Note.1  Amount Currency  Account.1  \n",
       "0           Brownie   50.0        Expense     NaN    50.0      INR       50.0  \n",
       "1  To lended people  300.0        Expense     NaN   300.0      INR      300.0  \n",
       "2            Dinner   78.0        Expense     NaN    78.0      INR       78.0  \n",
       "3             Metro   30.0        Expense     NaN    30.0      INR       30.0  \n",
       "4            Snacks   67.0        Expense     NaN    67.0      INR       67.0  "
      ]
     },
     "execution_count": 66,
     "metadata": {},
     "output_type": "execute_result"
    }
   ],
   "source": [
    "df = pd.read_csv(\"07/expense_data.csv\")\n",
    "df.head()"
   ]
  },
  {
   "cell_type": "code",
   "execution_count": 67,
   "id": "bba97206-c7fa-4615-be7d-0de37e91ae7b",
   "metadata": {},
   "outputs": [
    {
     "name": "stdout",
     "output_type": "stream",
     "text": [
      "<class 'pandas.core.frame.DataFrame'>\n",
      "RangeIndex: 277 entries, 0 to 276\n",
      "Data columns (total 11 columns):\n",
      " #   Column          Non-Null Count  Dtype  \n",
      "---  ------          --------------  -----  \n",
      " 0   Date            277 non-null    object \n",
      " 1   Account         277 non-null    object \n",
      " 2   Category        277 non-null    object \n",
      " 3   Subcategory     0 non-null      float64\n",
      " 4   Note            273 non-null    object \n",
      " 5   INR             277 non-null    float64\n",
      " 6   Income/Expense  277 non-null    object \n",
      " 7   Note.1          0 non-null      float64\n",
      " 8   Amount          277 non-null    float64\n",
      " 9   Currency        277 non-null    object \n",
      " 10  Account.1       277 non-null    float64\n",
      "dtypes: float64(5), object(6)\n",
      "memory usage: 23.9+ KB\n"
     ]
    }
   ],
   "source": [
    "df.info()"
   ]
  },
  {
   "cell_type": "code",
   "execution_count": 68,
   "id": "11d2d016-b346-43fd-8b1c-c3dc3e5e379f",
   "metadata": {},
   "outputs": [],
   "source": [
    "df[\"Date\"] = pd.to_datetime(df[\"Date\"])"
   ]
  },
  {
   "cell_type": "code",
   "execution_count": 69,
   "id": "1c978e4e-5f4a-4578-8a85-dad6959f99a2",
   "metadata": {},
   "outputs": [
    {
     "name": "stdout",
     "output_type": "stream",
     "text": [
      "<class 'pandas.core.frame.DataFrame'>\n",
      "RangeIndex: 277 entries, 0 to 276\n",
      "Data columns (total 11 columns):\n",
      " #   Column          Non-Null Count  Dtype         \n",
      "---  ------          --------------  -----         \n",
      " 0   Date            277 non-null    datetime64[ns]\n",
      " 1   Account         277 non-null    object        \n",
      " 2   Category        277 non-null    object        \n",
      " 3   Subcategory     0 non-null      float64       \n",
      " 4   Note            273 non-null    object        \n",
      " 5   INR             277 non-null    float64       \n",
      " 6   Income/Expense  277 non-null    object        \n",
      " 7   Note.1          0 non-null      float64       \n",
      " 8   Amount          277 non-null    float64       \n",
      " 9   Currency        277 non-null    object        \n",
      " 10  Account.1       277 non-null    float64       \n",
      "dtypes: datetime64[ns](1), float64(5), object(5)\n",
      "memory usage: 23.9+ KB\n"
     ]
    }
   ],
   "source": [
    "df.info()"
   ]
  },
  {
   "cell_type": "markdown",
   "id": "e904ddab-32db-4d3a-89a3-814904ae9ef1",
   "metadata": {},
   "source": [
    "### dt accessor"
   ]
  },
  {
   "cell_type": "markdown",
   "id": "1eb86653-a508-4ecc-983f-1c31ed4f6756",
   "metadata": {},
   "source": [
    "the .dt accessor is used to access datetime properties of a Series with datetime64[ns] dtype (or datetime-like values such as Period, Timedelta, etc.)."
   ]
  },
  {
   "cell_type": "code",
   "execution_count": 70,
   "id": "ead0d5b1-6ded-405c-ab8b-0ddddad79db8",
   "metadata": {},
   "outputs": [
    {
     "data": {
      "text/plain": [
       "0      False\n",
       "1      False\n",
       "2      False\n",
       "3      False\n",
       "4      False\n",
       "       ...  \n",
       "272    False\n",
       "273    False\n",
       "274    False\n",
       "275    False\n",
       "276    False\n",
       "Name: Date, Length: 277, dtype: bool"
      ]
     },
     "execution_count": 70,
     "metadata": {},
     "output_type": "execute_result"
    }
   ],
   "source": [
    "df[\"Date\"].dt.is_month_end"
   ]
  },
  {
   "cell_type": "code",
   "execution_count": 71,
   "id": "47ced838-35a7-432d-b859-2f474afdcebe",
   "metadata": {},
   "outputs": [
    {
     "data": {
      "text/plain": [
       "0      False\n",
       "1      False\n",
       "2       True\n",
       "3       True\n",
       "4       True\n",
       "       ...  \n",
       "272    False\n",
       "273    False\n",
       "274    False\n",
       "275    False\n",
       "276    False\n",
       "Name: Date, Length: 277, dtype: bool"
      ]
     },
     "execution_count": 71,
     "metadata": {},
     "output_type": "execute_result"
    }
   ],
   "source": [
    "df[\"Date\"].dt.is_month_start"
   ]
  },
  {
   "cell_type": "code",
   "execution_count": 72,
   "id": "83d14c91-ff34-4f8a-8876-81664232b2b3",
   "metadata": {},
   "outputs": [
    {
     "data": {
      "text/plain": [
       "0      False\n",
       "1      False\n",
       "2      False\n",
       "3      False\n",
       "4      False\n",
       "       ...  \n",
       "272    False\n",
       "273    False\n",
       "274    False\n",
       "275    False\n",
       "276    False\n",
       "Name: Date, Length: 277, dtype: bool"
      ]
     },
     "execution_count": 72,
     "metadata": {},
     "output_type": "execute_result"
    }
   ],
   "source": [
    "df[\"Date\"].dt.is_quarter_end"
   ]
  },
  {
   "cell_type": "code",
   "execution_count": 73,
   "id": "ae4847bd-88f5-422c-b6c8-d2ea9b30fb27",
   "metadata": {},
   "outputs": [
    {
     "data": {
      "text/plain": [
       "0      False\n",
       "1      False\n",
       "2      False\n",
       "3      False\n",
       "4      False\n",
       "       ...  \n",
       "272    False\n",
       "273    False\n",
       "274    False\n",
       "275    False\n",
       "276    False\n",
       "Name: Date, Length: 277, dtype: bool"
      ]
     },
     "execution_count": 73,
     "metadata": {},
     "output_type": "execute_result"
    }
   ],
   "source": [
    "df[\"Date\"].dt.is_quarter_start"
   ]
  },
  {
   "cell_type": "markdown",
   "id": "30d85419-77a7-477a-a94f-843824b41b08",
   "metadata": {},
   "source": [
    "## Plotting Graphs"
   ]
  },
  {
   "cell_type": "code",
   "execution_count": 74,
   "id": "cf0e3abc-5a0e-48bb-99b1-e6c76f455364",
   "metadata": {},
   "outputs": [],
   "source": [
    "import matplotlib.pyplot as plt"
   ]
  },
  {
   "cell_type": "code",
   "execution_count": 75,
   "id": "741148a8-aed7-40db-afb0-8e1f0b65e7ca",
   "metadata": {},
   "outputs": [
    {
     "data": {
      "text/plain": [
       "[<matplotlib.lines.Line2D at 0x1d0923e6850>]"
      ]
     },
     "execution_count": 75,
     "metadata": {},
     "output_type": "execute_result"
    },
    {
     "data": {
      "image/png": "[encoded data removed]",
      "text/plain": [
       "<Figure size 640x480 with 1 Axes>"
      ]
     },
     "metadata": {},
     "output_type": "display_data"
    }
   ],
   "source": [
    "plt.plot(df[\"Date\"],df[\"INR\"])"
   ]
  },
  {
   "cell_type": "markdown",
   "id": "dac4b8eb-ed50-4515-a2cd-cdbacb455019",
   "metadata": {},
   "source": [
    "### Day name wise bar chart"
   ]
  },
  {
   "cell_type": "code",
   "execution_count": 76,
   "id": "dd77353f-ed18-47ed-84da-058fd6b4aa92",
   "metadata": {},
   "outputs": [
    {
     "data": {
      "text/html": [
       "<div>\n",
       "<style scoped>\n",
       "    .dataframe tbody tr th:only-of-type {\n",
       "        vertical-align: middle;\n",
       "    }\n",
       "\n",
       "    .dataframe tbody tr th {\n",
       "        vertical-align: top;\n",
       "    }\n",
       "\n",
       "    .dataframe thead th {\n",
       "        text-align: right;\n",
       "    }\n",
       "</style>\n",
       "<table border=\"1\" class=\"dataframe\">\n",
       "  <thead>\n",
       "    <tr style=\"text-align: right;\">\n",
       "      <th></th>\n",
       "      <th>Date</th>\n",
       "      <th>Account</th>\n",
       "      <th>Category</th>\n",
       "      <th>Subcategory</th>\n",
       "      <th>Note</th>\n",
       "      <th>INR</th>\n",
       "      <th>Income/Expense</th>\n",
       "      <th>Note.1</th>\n",
       "      <th>Amount</th>\n",
       "      <th>Currency</th>\n",
       "      <th>Account.1</th>\n",
       "      <th>M</th>\n",
       "    </tr>\n",
       "  </thead>\n",
       "  <tbody>\n",
       "    <tr>\n",
       "      <th>0</th>\n",
       "      <td>2022-03-02 10:11:00</td>\n",
       "      <td>CUB - online payment</td>\n",
       "      <td>Food</td>\n",
       "      <td>NaN</td>\n",
       "      <td>Brownie</td>\n",
       "      <td>50.0</td>\n",
       "      <td>Expense</td>\n",
       "      <td>NaN</td>\n",
       "      <td>50.0</td>\n",
       "      <td>INR</td>\n",
       "      <td>50.0</td>\n",
       "      <td>March</td>\n",
       "    </tr>\n",
       "    <tr>\n",
       "      <th>1</th>\n",
       "      <td>2022-03-02 10:11:00</td>\n",
       "      <td>CUB - online payment</td>\n",
       "      <td>Other</td>\n",
       "      <td>NaN</td>\n",
       "      <td>To lended people</td>\n",
       "      <td>300.0</td>\n",
       "      <td>Expense</td>\n",
       "      <td>NaN</td>\n",
       "      <td>300.0</td>\n",
       "      <td>INR</td>\n",
       "      <td>300.0</td>\n",
       "      <td>March</td>\n",
       "    </tr>\n",
       "    <tr>\n",
       "      <th>2</th>\n",
       "      <td>2022-03-01 19:50:00</td>\n",
       "      <td>CUB - online payment</td>\n",
       "      <td>Food</td>\n",
       "      <td>NaN</td>\n",
       "      <td>Dinner</td>\n",
       "      <td>78.0</td>\n",
       "      <td>Expense</td>\n",
       "      <td>NaN</td>\n",
       "      <td>78.0</td>\n",
       "      <td>INR</td>\n",
       "      <td>78.0</td>\n",
       "      <td>March</td>\n",
       "    </tr>\n",
       "    <tr>\n",
       "      <th>3</th>\n",
       "      <td>2022-03-01 18:56:00</td>\n",
       "      <td>CUB - online payment</td>\n",
       "      <td>Transportation</td>\n",
       "      <td>NaN</td>\n",
       "      <td>Metro</td>\n",
       "      <td>30.0</td>\n",
       "      <td>Expense</td>\n",
       "      <td>NaN</td>\n",
       "      <td>30.0</td>\n",
       "      <td>INR</td>\n",
       "      <td>30.0</td>\n",
       "      <td>March</td>\n",
       "    </tr>\n",
       "    <tr>\n",
       "      <th>4</th>\n",
       "      <td>2022-03-01 18:22:00</td>\n",
       "      <td>CUB - online payment</td>\n",
       "      <td>Food</td>\n",
       "      <td>NaN</td>\n",
       "      <td>Snacks</td>\n",
       "      <td>67.0</td>\n",
       "      <td>Expense</td>\n",
       "      <td>NaN</td>\n",
       "      <td>67.0</td>\n",
       "      <td>INR</td>\n",
       "      <td>67.0</td>\n",
       "      <td>March</td>\n",
       "    </tr>\n",
       "  </tbody>\n",
       "</table>\n",
       "</div>"
      ],
      "text/plain": [
       "                 Date               Account        Category  Subcategory  \\\n",
       "0 2022-03-02 10:11:00  CUB - online payment            Food          NaN   \n",
       "1 2022-03-02 10:11:00  CUB - online payment           Other          NaN   \n",
       "2 2022-03-01 19:50:00  CUB - online payment            Food          NaN   \n",
       "3 2022-03-01 18:56:00  CUB - online payment  Transportation          NaN   \n",
       "4 2022-03-01 18:22:00  CUB - online payment            Food          NaN   \n",
       "\n",
       "               Note    INR Income/Expense  Note.1  Amount Currency  Account.1  \\\n",
       "0           Brownie   50.0        Expense     NaN    50.0      INR       50.0   \n",
       "1  To lended people  300.0        Expense     NaN   300.0      INR      300.0   \n",
       "2            Dinner   78.0        Expense     NaN    78.0      INR       78.0   \n",
       "3             Metro   30.0        Expense     NaN    30.0      INR       30.0   \n",
       "4            Snacks   67.0        Expense     NaN    67.0      INR       67.0   \n",
       "\n",
       "       M  \n",
       "0  March  \n",
       "1  March  \n",
       "2  March  \n",
       "3  March  \n",
       "4  March  "
      ]
     },
     "execution_count": 76,
     "metadata": {},
     "output_type": "execute_result"
    }
   ],
   "source": [
    "df[\"M\"] = df[\"Date\"].dt.month_name()\n",
    "df.head()"
   ]
  },
  {
   "cell_type": "code",
   "execution_count": 77,
   "id": "b3cd1ec5-26f0-4d23-9b41-5310c062f0d5",
   "metadata": {},
   "outputs": [
    {
     "data": {
      "text/plain": [
       "M\n",
       "December    28644.44\n",
       "February    36064.65\n",
       "January     40320.51\n",
       "March        1125.00\n",
       "November     7623.40\n",
       "Name: INR, dtype: float64"
      ]
     },
     "execution_count": 77,
     "metadata": {},
     "output_type": "execute_result"
    }
   ],
   "source": [
    "df_m = df.groupby(df[\"M\"])[\"INR\"].sum()\n",
    "df_m"
   ]
  },
  {
   "cell_type": "code",
   "execution_count": 78,
   "id": "c76d3235-179d-478d-8605-ea834c64ca7f",
   "metadata": {},
   "outputs": [
    {
     "data": {
      "text/plain": [
       "<BarContainer object of 5 artists>"
      ]
     },
     "execution_count": 78,
     "metadata": {},
     "output_type": "execute_result"
    },
    {
     "data": {
      "image/png": "[encoded data removed]",
      "text/plain": [
       "<Figure size 640x480 with 1 Axes>"
      ]
     },
     "metadata": {},
     "output_type": "display_data"
    }
   ],
   "source": [
    "plt.bar(df_m.index,df_m)"
   ]
  },
  {
   "cell_type": "markdown",
   "id": "ddb59962-891e-405e-a741-bc84f969022c",
   "metadata": {},
   "source": [
    "### Day name wise bar chart"
   ]
  },
  {
   "cell_type": "code",
   "execution_count": 79,
   "id": "d9dd44ee-d6e6-4de7-8ac5-40ee7012acb7",
   "metadata": {},
   "outputs": [
    {
     "data": {
      "text/plain": [
       "D\n",
       "Friday        6910.00\n",
       "Monday        6248.95\n",
       "Saturday     34421.02\n",
       "Sunday       31542.40\n",
       "Thursday      9570.51\n",
       "Tuesday      17344.65\n",
       "Wednesday     7740.47\n",
       "Name: INR, dtype: float64"
      ]
     },
     "execution_count": 79,
     "metadata": {},
     "output_type": "execute_result"
    }
   ],
   "source": [
    "df[\"D\"] = df[\"Date\"].dt.day_name()\n",
    "df_d = df.groupby(df[\"D\"])[\"INR\"].sum()\n",
    "df_d"
   ]
  },
  {
   "cell_type": "code",
   "execution_count": 80,
   "id": "4f7accdf-d98a-4550-be84-d59ce982d663",
   "metadata": {},
   "outputs": [
    {
     "data": {
      "text/plain": [
       "<Axes: xlabel='D'>"
      ]
     },
     "execution_count": 80,
     "metadata": {},
     "output_type": "execute_result"
    },
    {
     "data": {
      "image/png": "[encoded data removed]",
      "text/plain": [
       "<Figure size 640x480 with 1 Axes>"
      ]
     },
     "metadata": {},
     "output_type": "display_data"
    }
   ],
   "source": [
    "df_d.plot(kind='bar')"
   ]
  },
  {
   "cell_type": "code",
   "execution_count": 81,
   "id": "5f9fbefd-3d51-42ce-abfb-a7c06bf5b933",
   "metadata": {},
   "outputs": [
    {
     "data": {
      "text/plain": [
       "['Friday', 'Monday', 'Saturday', 'Sunday', 'Thursday', 'Tuesday', 'Wednesday']"
      ]
     },
     "execution_count": 81,
     "metadata": {},
     "output_type": "execute_result"
    }
   ],
   "source": [
    "### ways to find the name of groups\n",
    "list(df.groupby(df[\"D\"]).groups)"
   ]
  },
  {
   "cell_type": "code",
   "execution_count": 82,
   "id": "436de725-6f29-475a-a714-bbf57dc273a8",
   "metadata": {},
   "outputs": [
    {
     "data": {
      "text/plain": [
       "dict_keys(['Friday', 'Monday', 'Saturday', 'Sunday', 'Thursday', 'Tuesday', 'Wednesday'])"
      ]
     },
     "execution_count": 82,
     "metadata": {},
     "output_type": "execute_result"
    }
   ],
   "source": [
    "df.groupby(df[\"D\"]).groups.keys()"
   ]
  },
  {
   "cell_type": "markdown",
   "id": "2a7ac2fb-5f02-4f55-a31e-b20e0e4f913d",
   "metadata": {},
   "source": [
    "### Month end bar chart"
   ]
  },
  {
   "cell_type": "code",
   "execution_count": 83,
   "id": "04b59e64-01d2-495e-978a-ced9a87118d8",
   "metadata": {},
   "outputs": [
    {
     "data": {
      "text/plain": [
       "<Axes: xlabel='M'>"
      ]
     },
     "execution_count": 83,
     "metadata": {},
     "output_type": "execute_result"
    },
    {
     "data": {
      "image/png": "[encoded data removed]",
      "text/plain": [
       "<Figure size 640x480 with 1 Axes>"
      ]
     },
     "metadata": {},
     "output_type": "display_data"
    }
   ],
   "source": [
    "df[df[\"Date\"].dt.is_month_end].groupby(df[\"M\"])[\"INR\"].sum().plot(kind=\"bar\")"
   ]
  },
  {
   "cell_type": "markdown",
   "id": "bb0fcc1c-55bf-4734-bf13-cfd3c43b835a",
   "metadata": {},
   "source": [
    "# Time Series from Corey Schafer"
   ]
  },
  {
   "cell_type": "code",
   "execution_count": 84,
   "id": "708d14de-9c1d-42e8-b307-357733125dc6",
   "metadata": {},
   "outputs": [
    {
     "data": {
      "text/html": [
       "<div>\n",
       "<style scoped>\n",
       "    .dataframe tbody tr th:only-of-type {\n",
       "        vertical-align: middle;\n",
       "    }\n",
       "\n",
       "    .dataframe tbody tr th {\n",
       "        vertical-align: top;\n",
       "    }\n",
       "\n",
       "    .dataframe thead th {\n",
       "        text-align: right;\n",
       "    }\n",
       "</style>\n",
       "<table border=\"1\" class=\"dataframe\">\n",
       "  <thead>\n",
       "    <tr style=\"text-align: right;\">\n",
       "      <th></th>\n",
       "      <th>Date</th>\n",
       "      <th>Symbol</th>\n",
       "      <th>Open</th>\n",
       "      <th>High</th>\n",
       "      <th>Low</th>\n",
       "      <th>Close</th>\n",
       "      <th>Volume</th>\n",
       "    </tr>\n",
       "  </thead>\n",
       "  <tbody>\n",
       "    <tr>\n",
       "      <th>0</th>\n",
       "      <td>2020-03-13 08-PM</td>\n",
       "      <td>ETHUSD</td>\n",
       "      <td>129.94</td>\n",
       "      <td>131.82</td>\n",
       "      <td>126.87</td>\n",
       "      <td>128.71</td>\n",
       "      <td>1940673.93</td>\n",
       "    </tr>\n",
       "    <tr>\n",
       "      <th>1</th>\n",
       "      <td>2020-03-13 07-PM</td>\n",
       "      <td>ETHUSD</td>\n",
       "      <td>119.51</td>\n",
       "      <td>132.02</td>\n",
       "      <td>117.10</td>\n",
       "      <td>129.94</td>\n",
       "      <td>7579741.09</td>\n",
       "    </tr>\n",
       "    <tr>\n",
       "      <th>2</th>\n",
       "      <td>2020-03-13 06-PM</td>\n",
       "      <td>ETHUSD</td>\n",
       "      <td>124.47</td>\n",
       "      <td>124.85</td>\n",
       "      <td>115.50</td>\n",
       "      <td>119.51</td>\n",
       "      <td>4898735.81</td>\n",
       "    </tr>\n",
       "    <tr>\n",
       "      <th>3</th>\n",
       "      <td>2020-03-13 05-PM</td>\n",
       "      <td>ETHUSD</td>\n",
       "      <td>124.08</td>\n",
       "      <td>127.42</td>\n",
       "      <td>121.63</td>\n",
       "      <td>124.47</td>\n",
       "      <td>2753450.92</td>\n",
       "    </tr>\n",
       "    <tr>\n",
       "      <th>4</th>\n",
       "      <td>2020-03-13 04-PM</td>\n",
       "      <td>ETHUSD</td>\n",
       "      <td>124.85</td>\n",
       "      <td>129.51</td>\n",
       "      <td>120.17</td>\n",
       "      <td>124.08</td>\n",
       "      <td>4461424.71</td>\n",
       "    </tr>\n",
       "  </tbody>\n",
       "</table>\n",
       "</div>"
      ],
      "text/plain": [
       "               Date  Symbol    Open    High     Low   Close      Volume\n",
       "0  2020-03-13 08-PM  ETHUSD  129.94  131.82  126.87  128.71  1940673.93\n",
       "1  2020-03-13 07-PM  ETHUSD  119.51  132.02  117.10  129.94  7579741.09\n",
       "2  2020-03-13 06-PM  ETHUSD  124.47  124.85  115.50  119.51  4898735.81\n",
       "3  2020-03-13 05-PM  ETHUSD  124.08  127.42  121.63  124.47  2753450.92\n",
       "4  2020-03-13 04-PM  ETHUSD  124.85  129.51  120.17  124.08  4461424.71"
      ]
     },
     "execution_count": 84,
     "metadata": {},
     "output_type": "execute_result"
    }
   ],
   "source": [
    "df1 = pd.read_csv(\"07/ETH_1h.csv\")\n",
    "df1.head()"
   ]
  },
  {
   "cell_type": "code",
   "execution_count": 85,
   "id": "d458a4f6-3d46-4876-8df4-b9556242bbd3",
   "metadata": {},
   "outputs": [
    {
     "data": {
      "text/plain": [
       "(23674, 7)"
      ]
     },
     "execution_count": 85,
     "metadata": {},
     "output_type": "execute_result"
    }
   ],
   "source": [
    "df1.shape"
   ]
  },
  {
   "cell_type": "code",
   "execution_count": 86,
   "id": "df52249b-8faf-43ae-9447-5d886ba20c13",
   "metadata": {},
   "outputs": [
    {
     "name": "stdout",
     "output_type": "stream",
     "text": [
      "<class 'pandas.core.frame.DataFrame'>\n",
      "RangeIndex: 23674 entries, 0 to 23673\n",
      "Data columns (total 7 columns):\n",
      " #   Column  Non-Null Count  Dtype  \n",
      "---  ------  --------------  -----  \n",
      " 0   Date    23674 non-null  object \n",
      " 1   Symbol  23674 non-null  object \n",
      " 2   Open    23674 non-null  float64\n",
      " 3   High    23674 non-null  float64\n",
      " 4   Low     23674 non-null  float64\n",
      " 5   Close   23674 non-null  float64\n",
      " 6   Volume  23674 non-null  float64\n",
      "dtypes: float64(5), object(2)\n",
      "memory usage: 1.3+ MB\n"
     ]
    }
   ],
   "source": [
    "df1.info()"
   ]
  },
  {
   "cell_type": "code",
   "execution_count": 87,
   "id": "860426f7-9dca-4529-bb5d-e1c220fc791b",
   "metadata": {},
   "outputs": [],
   "source": [
    "#df1[\"Date\"] = pd.to_datetime(df1[\"Date\"])"
   ]
  },
  {
   "cell_type": "markdown",
   "id": "43c73d7f-6766-4133-a889-71c10e3468f4",
   "metadata": {},
   "source": [
    "***its gives because it is not in a format that pandas could understand so we use forma attribute to parse***"
   ]
  },
  {
   "cell_type": "code",
   "execution_count": 88,
   "id": "2b67a7ae-835c-4a66-90bc-bb00794d972c",
   "metadata": {},
   "outputs": [
    {
     "data": {
      "text/plain": [
       "0       2020-03-13 20:00:00\n",
       "1       2020-03-13 19:00:00\n",
       "2       2020-03-13 18:00:00\n",
       "3       2020-03-13 17:00:00\n",
       "4       2020-03-13 16:00:00\n",
       "                ...        \n",
       "23669   2017-07-01 15:00:00\n",
       "23670   2017-07-01 14:00:00\n",
       "23671   2017-07-01 13:00:00\n",
       "23672   2017-07-01 12:00:00\n",
       "23673   2017-07-01 11:00:00\n",
       "Name: Date, Length: 23674, dtype: datetime64[ns]"
      ]
     },
     "execution_count": 88,
     "metadata": {},
     "output_type": "execute_result"
    }
   ],
   "source": [
    "df1[\"Date\"] = pd.to_datetime(df1[\"Date\"],format=\"%Y-%m-%d %I-%p\")\n",
    "df1[\"Date\"]"
   ]
  },
  {
   "cell_type": "code",
   "execution_count": 89,
   "id": "22e9ad5e-7ddc-4d15-bf7d-859e3569dbfd",
   "metadata": {},
   "outputs": [
    {
     "name": "stdout",
     "output_type": "stream",
     "text": [
      "<class 'pandas.core.frame.DataFrame'>\n",
      "RangeIndex: 23674 entries, 0 to 23673\n",
      "Data columns (total 7 columns):\n",
      " #   Column  Non-Null Count  Dtype         \n",
      "---  ------  --------------  -----         \n",
      " 0   Date    23674 non-null  datetime64[ns]\n",
      " 1   Symbol  23674 non-null  object        \n",
      " 2   Open    23674 non-null  float64       \n",
      " 3   High    23674 non-null  float64       \n",
      " 4   Low     23674 non-null  float64       \n",
      " 5   Close   23674 non-null  float64       \n",
      " 6   Volume  23674 non-null  float64       \n",
      "dtypes: datetime64[ns](1), float64(5), object(1)\n",
      "memory usage: 1.3+ MB\n"
     ]
    }
   ],
   "source": [
    "df1.info()"
   ]
  },
  {
   "cell_type": "markdown",
   "id": "12937468-d2cc-4abe-b9cc-591627312907",
   "metadata": {},
   "source": [
    "**We successfully converted it into datetime dtype**"
   ]
  },
  {
   "cell_type": "code",
   "execution_count": 90,
   "id": "2e3f9496-7689-40a5-a504-95ff40425035",
   "metadata": {},
   "outputs": [
    {
     "data": {
      "text/plain": [
       "'Friday'"
      ]
     },
     "execution_count": 90,
     "metadata": {},
     "output_type": "execute_result"
    }
   ],
   "source": [
    "df1.loc[0,\"Date\"].day_name()"
   ]
  },
  {
   "cell_type": "markdown",
   "id": "3716f593-4203-492d-8222-023d36212d9c",
   "metadata": {},
   "source": [
    "## Run datetime"
   ]
  },
  {
   "cell_type": "markdown",
   "id": "294c9713-6326-4bd8-ba35-1f094e1cf5ab",
   "metadata": {},
   "source": [
    "we can convert the columns into datetime dtype when reading csv using parse_dates(giving cols in a list to apply a function in which they are formatted)"
   ]
  },
  {
   "cell_type": "code",
   "execution_count": 91,
   "id": "683c3316-76b5-4031-b6ea-5bf80a36402a",
   "metadata": {},
   "outputs": [
    {
     "data": {
      "text/html": [
       "<div>\n",
       "<style scoped>\n",
       "    .dataframe tbody tr th:only-of-type {\n",
       "        vertical-align: middle;\n",
       "    }\n",
       "\n",
       "    .dataframe tbody tr th {\n",
       "        vertical-align: top;\n",
       "    }\n",
       "\n",
       "    .dataframe thead th {\n",
       "        text-align: right;\n",
       "    }\n",
       "</style>\n",
       "<table border=\"1\" class=\"dataframe\">\n",
       "  <thead>\n",
       "    <tr style=\"text-align: right;\">\n",
       "      <th></th>\n",
       "      <th>Date</th>\n",
       "      <th>Account</th>\n",
       "      <th>Category</th>\n",
       "      <th>Subcategory</th>\n",
       "      <th>Note</th>\n",
       "      <th>INR</th>\n",
       "      <th>Income/Expense</th>\n",
       "      <th>Note.1</th>\n",
       "      <th>Amount</th>\n",
       "      <th>Currency</th>\n",
       "      <th>Account.1</th>\n",
       "    </tr>\n",
       "  </thead>\n",
       "  <tbody>\n",
       "    <tr>\n",
       "      <th>0</th>\n",
       "      <td>2022-03-02 10:11:00</td>\n",
       "      <td>CUB - online payment</td>\n",
       "      <td>Food</td>\n",
       "      <td>NaN</td>\n",
       "      <td>Brownie</td>\n",
       "      <td>50.0</td>\n",
       "      <td>Expense</td>\n",
       "      <td>NaN</td>\n",
       "      <td>50.0</td>\n",
       "      <td>INR</td>\n",
       "      <td>50.0</td>\n",
       "    </tr>\n",
       "    <tr>\n",
       "      <th>1</th>\n",
       "      <td>2022-03-02 10:11:00</td>\n",
       "      <td>CUB - online payment</td>\n",
       "      <td>Other</td>\n",
       "      <td>NaN</td>\n",
       "      <td>To lended people</td>\n",
       "      <td>300.0</td>\n",
       "      <td>Expense</td>\n",
       "      <td>NaN</td>\n",
       "      <td>300.0</td>\n",
       "      <td>INR</td>\n",
       "      <td>300.0</td>\n",
       "    </tr>\n",
       "    <tr>\n",
       "      <th>2</th>\n",
       "      <td>2022-03-01 19:50:00</td>\n",
       "      <td>CUB - online payment</td>\n",
       "      <td>Food</td>\n",
       "      <td>NaN</td>\n",
       "      <td>Dinner</td>\n",
       "      <td>78.0</td>\n",
       "      <td>Expense</td>\n",
       "      <td>NaN</td>\n",
       "      <td>78.0</td>\n",
       "      <td>INR</td>\n",
       "      <td>78.0</td>\n",
       "    </tr>\n",
       "    <tr>\n",
       "      <th>3</th>\n",
       "      <td>2022-03-01 18:56:00</td>\n",
       "      <td>CUB - online payment</td>\n",
       "      <td>Transportation</td>\n",
       "      <td>NaN</td>\n",
       "      <td>Metro</td>\n",
       "      <td>30.0</td>\n",
       "      <td>Expense</td>\n",
       "      <td>NaN</td>\n",
       "      <td>30.0</td>\n",
       "      <td>INR</td>\n",
       "      <td>30.0</td>\n",
       "    </tr>\n",
       "    <tr>\n",
       "      <th>4</th>\n",
       "      <td>2022-03-01 18:22:00</td>\n",
       "      <td>CUB - online payment</td>\n",
       "      <td>Food</td>\n",
       "      <td>NaN</td>\n",
       "      <td>Snacks</td>\n",
       "      <td>67.0</td>\n",
       "      <td>Expense</td>\n",
       "      <td>NaN</td>\n",
       "      <td>67.0</td>\n",
       "      <td>INR</td>\n",
       "      <td>67.0</td>\n",
       "    </tr>\n",
       "    <tr>\n",
       "      <th>...</th>\n",
       "      <td>...</td>\n",
       "      <td>...</td>\n",
       "      <td>...</td>\n",
       "      <td>...</td>\n",
       "      <td>...</td>\n",
       "      <td>...</td>\n",
       "      <td>...</td>\n",
       "      <td>...</td>\n",
       "      <td>...</td>\n",
       "      <td>...</td>\n",
       "      <td>...</td>\n",
       "    </tr>\n",
       "    <tr>\n",
       "      <th>272</th>\n",
       "      <td>2021-11-22 14:16:00</td>\n",
       "      <td>CUB - online payment</td>\n",
       "      <td>Food</td>\n",
       "      <td>NaN</td>\n",
       "      <td>Dinner</td>\n",
       "      <td>90.0</td>\n",
       "      <td>Expense</td>\n",
       "      <td>NaN</td>\n",
       "      <td>90.0</td>\n",
       "      <td>INR</td>\n",
       "      <td>90.0</td>\n",
       "    </tr>\n",
       "    <tr>\n",
       "      <th>273</th>\n",
       "      <td>2021-11-22 14:16:00</td>\n",
       "      <td>CUB - online payment</td>\n",
       "      <td>Food</td>\n",
       "      <td>NaN</td>\n",
       "      <td>Lunch with company</td>\n",
       "      <td>97.0</td>\n",
       "      <td>Expense</td>\n",
       "      <td>NaN</td>\n",
       "      <td>97.0</td>\n",
       "      <td>INR</td>\n",
       "      <td>97.0</td>\n",
       "    </tr>\n",
       "    <tr>\n",
       "      <th>274</th>\n",
       "      <td>2021-11-21 17:07:00</td>\n",
       "      <td>CUB - online payment</td>\n",
       "      <td>Transportation</td>\n",
       "      <td>NaN</td>\n",
       "      <td>Rapido</td>\n",
       "      <td>130.0</td>\n",
       "      <td>Expense</td>\n",
       "      <td>NaN</td>\n",
       "      <td>130.0</td>\n",
       "      <td>INR</td>\n",
       "      <td>130.0</td>\n",
       "    </tr>\n",
       "    <tr>\n",
       "      <th>275</th>\n",
       "      <td>2021-11-21 15:50:00</td>\n",
       "      <td>CUB - online payment</td>\n",
       "      <td>Food</td>\n",
       "      <td>NaN</td>\n",
       "      <td>Lunch</td>\n",
       "      <td>875.0</td>\n",
       "      <td>Expense</td>\n",
       "      <td>NaN</td>\n",
       "      <td>875.0</td>\n",
       "      <td>INR</td>\n",
       "      <td>875.0</td>\n",
       "    </tr>\n",
       "    <tr>\n",
       "      <th>276</th>\n",
       "      <td>2021-11-21 13:30:00</td>\n",
       "      <td>CUB - online payment</td>\n",
       "      <td>Other</td>\n",
       "      <td>NaN</td>\n",
       "      <td>Got from gobi</td>\n",
       "      <td>2000.0</td>\n",
       "      <td>Income</td>\n",
       "      <td>NaN</td>\n",
       "      <td>2000.0</td>\n",
       "      <td>INR</td>\n",
       "      <td>2000.0</td>\n",
       "    </tr>\n",
       "  </tbody>\n",
       "</table>\n",
       "<p>277 rows × 11 columns</p>\n",
       "</div>"
      ],
      "text/plain": [
       "                   Date               Account        Category  Subcategory  \\\n",
       "0   2022-03-02 10:11:00  CUB - online payment            Food          NaN   \n",
       "1   2022-03-02 10:11:00  CUB - online payment           Other          NaN   \n",
       "2   2022-03-01 19:50:00  CUB - online payment            Food          NaN   \n",
       "3   2022-03-01 18:56:00  CUB - online payment  Transportation          NaN   \n",
       "4   2022-03-01 18:22:00  CUB - online payment            Food          NaN   \n",
       "..                  ...                   ...             ...          ...   \n",
       "272 2021-11-22 14:16:00  CUB - online payment            Food          NaN   \n",
       "273 2021-11-22 14:16:00  CUB - online payment            Food          NaN   \n",
       "274 2021-11-21 17:07:00  CUB - online payment  Transportation          NaN   \n",
       "275 2021-11-21 15:50:00  CUB - online payment            Food          NaN   \n",
       "276 2021-11-21 13:30:00  CUB - online payment           Other          NaN   \n",
       "\n",
       "                   Note     INR Income/Expense  Note.1  Amount Currency  \\\n",
       "0               Brownie    50.0        Expense     NaN    50.0      INR   \n",
       "1      To lended people   300.0        Expense     NaN   300.0      INR   \n",
       "2                Dinner    78.0        Expense     NaN    78.0      INR   \n",
       "3                 Metro    30.0        Expense     NaN    30.0      INR   \n",
       "4                Snacks    67.0        Expense     NaN    67.0      INR   \n",
       "..                  ...     ...            ...     ...     ...      ...   \n",
       "272              Dinner    90.0        Expense     NaN    90.0      INR   \n",
       "273  Lunch with company    97.0        Expense     NaN    97.0      INR   \n",
       "274              Rapido   130.0        Expense     NaN   130.0      INR   \n",
       "275               Lunch   875.0        Expense     NaN   875.0      INR   \n",
       "276       Got from gobi  2000.0         Income     NaN  2000.0      INR   \n",
       "\n",
       "     Account.1  \n",
       "0         50.0  \n",
       "1        300.0  \n",
       "2         78.0  \n",
       "3         30.0  \n",
       "4         67.0  \n",
       "..         ...  \n",
       "272       90.0  \n",
       "273       97.0  \n",
       "274      130.0  \n",
       "275      875.0  \n",
       "276     2000.0  \n",
       "\n",
       "[277 rows x 11 columns]"
      ]
     },
     "execution_count": 91,
     "metadata": {},
     "output_type": "execute_result"
    }
   ],
   "source": [
    "df = pd.read_csv(\"07/expense_data.csv\",parse_dates=[\"Date\"])\n",
    "df"
   ]
  },
  {
   "cell_type": "markdown",
   "id": "1ea5b8bd-c933-4301-8c32-171aa46139ee",
   "metadata": {},
   "source": [
    "**If format is diff then we have to do manually**"
   ]
  },
  {
   "cell_type": "code",
   "execution_count": 92,
   "id": "87bbc09e-f4c3-4c73-8b14-d0d163abf551",
   "metadata": {},
   "outputs": [
    {
     "data": {
      "text/plain": [
       "Timestamp('2020-03-13 20:00:00')"
      ]
     },
     "execution_count": 92,
     "metadata": {},
     "output_type": "execute_result"
    }
   ],
   "source": [
    "df1.loc[0,\"Date\"]"
   ]
  },
  {
   "cell_type": "markdown",
   "id": "37c4e42f-7774-4170-9ade-02ed7d0d4889",
   "metadata": {},
   "source": [
    "#### Oldest datetime value"
   ]
  },
  {
   "cell_type": "code",
   "execution_count": 93,
   "id": "f0a7ed2b-d32f-4408-ad19-d73a3021fa05",
   "metadata": {},
   "outputs": [
    {
     "data": {
      "text/plain": [
       "Timestamp('2017-07-01 11:00:00')"
      ]
     },
     "execution_count": 93,
     "metadata": {},
     "output_type": "execute_result"
    }
   ],
   "source": [
    "df1[\"Date\"].min()"
   ]
  },
  {
   "cell_type": "markdown",
   "id": "d5ee6996-8a36-4bc8-8a89-2acdf7cd6de8",
   "metadata": {},
   "source": [
    "#### Latest datetime value"
   ]
  },
  {
   "cell_type": "code",
   "execution_count": 94,
   "id": "56995659-beb8-4c16-898c-2a2b183f099f",
   "metadata": {},
   "outputs": [
    {
     "data": {
      "text/plain": [
       "Timestamp('2020-03-13 20:00:00')"
      ]
     },
     "execution_count": 94,
     "metadata": {},
     "output_type": "execute_result"
    }
   ],
   "source": [
    "df1[\"Date\"].max()"
   ]
  },
  {
   "cell_type": "code",
   "execution_count": 95,
   "id": "1c8cb45d-7078-48d2-a6d8-f392f6ccb07b",
   "metadata": {},
   "outputs": [
    {
     "data": {
      "text/plain": [
       "Timedelta('986 days 09:00:00')"
      ]
     },
     "execution_count": 95,
     "metadata": {},
     "output_type": "execute_result"
    }
   ],
   "source": [
    "df1[\"Date\"].max()-df1[\"Date\"].min()"
   ]
  },
  {
   "cell_type": "code",
   "execution_count": 96,
   "id": "c1ceb470-1cc4-4168-8fb7-1c3f1a7835e2",
   "metadata": {},
   "outputs": [
    {
     "data": {
      "text/plain": [
       "Timedelta('-987 days +15:00:00')"
      ]
     },
     "execution_count": 96,
     "metadata": {},
     "output_type": "execute_result"
    }
   ],
   "source": [
    "df1[\"Date\"].min()-df1[\"Date\"].max()"
   ]
  },
  {
   "cell_type": "markdown",
   "id": "b225642c-2fd6-4e8a-9abb-e825824aa50b",
   "metadata": {},
   "source": [
    "### Filtering"
   ]
  },
  {
   "cell_type": "code",
   "execution_count": 97,
   "id": "eb4247c8-979c-4651-bb5b-09fb4013f955",
   "metadata": {},
   "outputs": [
    {
     "data": {
      "text/html": [
       "<div>\n",
       "<style scoped>\n",
       "    .dataframe tbody tr th:only-of-type {\n",
       "        vertical-align: middle;\n",
       "    }\n",
       "\n",
       "    .dataframe tbody tr th {\n",
       "        vertical-align: top;\n",
       "    }\n",
       "\n",
       "    .dataframe thead th {\n",
       "        text-align: right;\n",
       "    }\n",
       "</style>\n",
       "<table border=\"1\" class=\"dataframe\">\n",
       "  <thead>\n",
       "    <tr style=\"text-align: right;\">\n",
       "      <th></th>\n",
       "      <th>Date</th>\n",
       "      <th>Symbol</th>\n",
       "      <th>Open</th>\n",
       "      <th>High</th>\n",
       "      <th>Low</th>\n",
       "      <th>Close</th>\n",
       "      <th>Volume</th>\n",
       "    </tr>\n",
       "  </thead>\n",
       "  <tbody>\n",
       "    <tr>\n",
       "      <th>0</th>\n",
       "      <td>2020-03-13 20:00:00</td>\n",
       "      <td>ETHUSD</td>\n",
       "      <td>129.94</td>\n",
       "      <td>131.82</td>\n",
       "      <td>126.87</td>\n",
       "      <td>128.71</td>\n",
       "      <td>1940673.93</td>\n",
       "    </tr>\n",
       "    <tr>\n",
       "      <th>1</th>\n",
       "      <td>2020-03-13 19:00:00</td>\n",
       "      <td>ETHUSD</td>\n",
       "      <td>119.51</td>\n",
       "      <td>132.02</td>\n",
       "      <td>117.10</td>\n",
       "      <td>129.94</td>\n",
       "      <td>7579741.09</td>\n",
       "    </tr>\n",
       "    <tr>\n",
       "      <th>2</th>\n",
       "      <td>2020-03-13 18:00:00</td>\n",
       "      <td>ETHUSD</td>\n",
       "      <td>124.47</td>\n",
       "      <td>124.85</td>\n",
       "      <td>115.50</td>\n",
       "      <td>119.51</td>\n",
       "      <td>4898735.81</td>\n",
       "    </tr>\n",
       "    <tr>\n",
       "      <th>3</th>\n",
       "      <td>2020-03-13 17:00:00</td>\n",
       "      <td>ETHUSD</td>\n",
       "      <td>124.08</td>\n",
       "      <td>127.42</td>\n",
       "      <td>121.63</td>\n",
       "      <td>124.47</td>\n",
       "      <td>2753450.92</td>\n",
       "    </tr>\n",
       "    <tr>\n",
       "      <th>4</th>\n",
       "      <td>2020-03-13 16:00:00</td>\n",
       "      <td>ETHUSD</td>\n",
       "      <td>124.85</td>\n",
       "      <td>129.51</td>\n",
       "      <td>120.17</td>\n",
       "      <td>124.08</td>\n",
       "      <td>4461424.71</td>\n",
       "    </tr>\n",
       "    <tr>\n",
       "      <th>...</th>\n",
       "      <td>...</td>\n",
       "      <td>...</td>\n",
       "      <td>...</td>\n",
       "      <td>...</td>\n",
       "      <td>...</td>\n",
       "      <td>...</td>\n",
       "      <td>...</td>\n",
       "    </tr>\n",
       "    <tr>\n",
       "      <th>19263</th>\n",
       "      <td>2018-01-01 05:00:00</td>\n",
       "      <td>ETHUSD</td>\n",
       "      <td>747.90</td>\n",
       "      <td>747.91</td>\n",
       "      <td>739.99</td>\n",
       "      <td>746.89</td>\n",
       "      <td>2693552.60</td>\n",
       "    </tr>\n",
       "    <tr>\n",
       "      <th>19264</th>\n",
       "      <td>2018-01-01 04:00:00</td>\n",
       "      <td>ETHUSD</td>\n",
       "      <td>739.70</td>\n",
       "      <td>748.07</td>\n",
       "      <td>733.02</td>\n",
       "      <td>747.90</td>\n",
       "      <td>3180304.69</td>\n",
       "    </tr>\n",
       "    <tr>\n",
       "      <th>19265</th>\n",
       "      <td>2018-01-01 03:00:00</td>\n",
       "      <td>ETHUSD</td>\n",
       "      <td>730.01</td>\n",
       "      <td>739.70</td>\n",
       "      <td>728.66</td>\n",
       "      <td>739.70</td>\n",
       "      <td>3461348.11</td>\n",
       "    </tr>\n",
       "    <tr>\n",
       "      <th>19266</th>\n",
       "      <td>2018-01-01 02:00:00</td>\n",
       "      <td>ETHUSD</td>\n",
       "      <td>730.02</td>\n",
       "      <td>730.50</td>\n",
       "      <td>727.14</td>\n",
       "      <td>730.01</td>\n",
       "      <td>2950627.37</td>\n",
       "    </tr>\n",
       "    <tr>\n",
       "      <th>19267</th>\n",
       "      <td>2018-01-01 01:00:00</td>\n",
       "      <td>ETHUSD</td>\n",
       "      <td>734.59</td>\n",
       "      <td>735.10</td>\n",
       "      <td>730.01</td>\n",
       "      <td>730.02</td>\n",
       "      <td>1886624.01</td>\n",
       "    </tr>\n",
       "  </tbody>\n",
       "</table>\n",
       "<p>19268 rows × 7 columns</p>\n",
       "</div>"
      ],
      "text/plain": [
       "                     Date  Symbol    Open    High     Low   Close      Volume\n",
       "0     2020-03-13 20:00:00  ETHUSD  129.94  131.82  126.87  128.71  1940673.93\n",
       "1     2020-03-13 19:00:00  ETHUSD  119.51  132.02  117.10  129.94  7579741.09\n",
       "2     2020-03-13 18:00:00  ETHUSD  124.47  124.85  115.50  119.51  4898735.81\n",
       "3     2020-03-13 17:00:00  ETHUSD  124.08  127.42  121.63  124.47  2753450.92\n",
       "4     2020-03-13 16:00:00  ETHUSD  124.85  129.51  120.17  124.08  4461424.71\n",
       "...                   ...     ...     ...     ...     ...     ...         ...\n",
       "19263 2018-01-01 05:00:00  ETHUSD  747.90  747.91  739.99  746.89  2693552.60\n",
       "19264 2018-01-01 04:00:00  ETHUSD  739.70  748.07  733.02  747.90  3180304.69\n",
       "19265 2018-01-01 03:00:00  ETHUSD  730.01  739.70  728.66  739.70  3461348.11\n",
       "19266 2018-01-01 02:00:00  ETHUSD  730.02  730.50  727.14  730.01  2950627.37\n",
       "19267 2018-01-01 01:00:00  ETHUSD  734.59  735.10  730.01  730.02  1886624.01\n",
       "\n",
       "[19268 rows x 7 columns]"
      ]
     },
     "execution_count": 97,
     "metadata": {},
     "output_type": "execute_result"
    }
   ],
   "source": [
    "df1[df1[\"Date\"] > \"2018\"]"
   ]
  },
  {
   "cell_type": "code",
   "execution_count": 98,
   "id": "c999cd0d-2493-438c-94f2-0f2e8ed76497",
   "metadata": {},
   "outputs": [
    {
     "data": {
      "text/html": [
       "<div>\n",
       "<style scoped>\n",
       "    .dataframe tbody tr th:only-of-type {\n",
       "        vertical-align: middle;\n",
       "    }\n",
       "\n",
       "    .dataframe tbody tr th {\n",
       "        vertical-align: top;\n",
       "    }\n",
       "\n",
       "    .dataframe thead th {\n",
       "        text-align: right;\n",
       "    }\n",
       "</style>\n",
       "<table border=\"1\" class=\"dataframe\">\n",
       "  <thead>\n",
       "    <tr style=\"text-align: right;\">\n",
       "      <th></th>\n",
       "      <th>Date</th>\n",
       "      <th>Symbol</th>\n",
       "      <th>Open</th>\n",
       "      <th>High</th>\n",
       "      <th>Low</th>\n",
       "      <th>Close</th>\n",
       "      <th>Volume</th>\n",
       "    </tr>\n",
       "  </thead>\n",
       "  <tbody>\n",
       "    <tr>\n",
       "      <th>10509</th>\n",
       "      <td>2018-12-31 23:00:00</td>\n",
       "      <td>ETHUSD</td>\n",
       "      <td>130.62</td>\n",
       "      <td>131.36</td>\n",
       "      <td>130.20</td>\n",
       "      <td>130.53</td>\n",
       "      <td>869026.39</td>\n",
       "    </tr>\n",
       "    <tr>\n",
       "      <th>10510</th>\n",
       "      <td>2018-12-31 22:00:00</td>\n",
       "      <td>ETHUSD</td>\n",
       "      <td>129.97</td>\n",
       "      <td>131.00</td>\n",
       "      <td>129.07</td>\n",
       "      <td>130.62</td>\n",
       "      <td>1972726.62</td>\n",
       "    </tr>\n",
       "    <tr>\n",
       "      <th>10511</th>\n",
       "      <td>2018-12-31 21:00:00</td>\n",
       "      <td>ETHUSD</td>\n",
       "      <td>130.90</td>\n",
       "      <td>130.90</td>\n",
       "      <td>129.47</td>\n",
       "      <td>129.97</td>\n",
       "      <td>1079617.65</td>\n",
       "    </tr>\n",
       "    <tr>\n",
       "      <th>10512</th>\n",
       "      <td>2018-12-31 20:00:00</td>\n",
       "      <td>ETHUSD</td>\n",
       "      <td>131.17</td>\n",
       "      <td>131.58</td>\n",
       "      <td>130.36</td>\n",
       "      <td>130.90</td>\n",
       "      <td>1775465.69</td>\n",
       "    </tr>\n",
       "    <tr>\n",
       "      <th>10513</th>\n",
       "      <td>2018-12-31 19:00:00</td>\n",
       "      <td>ETHUSD</td>\n",
       "      <td>134.83</td>\n",
       "      <td>134.90</td>\n",
       "      <td>128.50</td>\n",
       "      <td>131.17</td>\n",
       "      <td>3380282.07</td>\n",
       "    </tr>\n",
       "    <tr>\n",
       "      <th>...</th>\n",
       "      <td>...</td>\n",
       "      <td>...</td>\n",
       "      <td>...</td>\n",
       "      <td>...</td>\n",
       "      <td>...</td>\n",
       "      <td>...</td>\n",
       "      <td>...</td>\n",
       "    </tr>\n",
       "    <tr>\n",
       "      <th>19263</th>\n",
       "      <td>2018-01-01 05:00:00</td>\n",
       "      <td>ETHUSD</td>\n",
       "      <td>747.90</td>\n",
       "      <td>747.91</td>\n",
       "      <td>739.99</td>\n",
       "      <td>746.89</td>\n",
       "      <td>2693552.60</td>\n",
       "    </tr>\n",
       "    <tr>\n",
       "      <th>19264</th>\n",
       "      <td>2018-01-01 04:00:00</td>\n",
       "      <td>ETHUSD</td>\n",
       "      <td>739.70</td>\n",
       "      <td>748.07</td>\n",
       "      <td>733.02</td>\n",
       "      <td>747.90</td>\n",
       "      <td>3180304.69</td>\n",
       "    </tr>\n",
       "    <tr>\n",
       "      <th>19265</th>\n",
       "      <td>2018-01-01 03:00:00</td>\n",
       "      <td>ETHUSD</td>\n",
       "      <td>730.01</td>\n",
       "      <td>739.70</td>\n",
       "      <td>728.66</td>\n",
       "      <td>739.70</td>\n",
       "      <td>3461348.11</td>\n",
       "    </tr>\n",
       "    <tr>\n",
       "      <th>19266</th>\n",
       "      <td>2018-01-01 02:00:00</td>\n",
       "      <td>ETHUSD</td>\n",
       "      <td>730.02</td>\n",
       "      <td>730.50</td>\n",
       "      <td>727.14</td>\n",
       "      <td>730.01</td>\n",
       "      <td>2950627.37</td>\n",
       "    </tr>\n",
       "    <tr>\n",
       "      <th>19267</th>\n",
       "      <td>2018-01-01 01:00:00</td>\n",
       "      <td>ETHUSD</td>\n",
       "      <td>734.59</td>\n",
       "      <td>735.10</td>\n",
       "      <td>730.01</td>\n",
       "      <td>730.02</td>\n",
       "      <td>1886624.01</td>\n",
       "    </tr>\n",
       "  </tbody>\n",
       "</table>\n",
       "<p>8759 rows × 7 columns</p>\n",
       "</div>"
      ],
      "text/plain": [
       "                     Date  Symbol    Open    High     Low   Close      Volume\n",
       "10509 2018-12-31 23:00:00  ETHUSD  130.62  131.36  130.20  130.53   869026.39\n",
       "10510 2018-12-31 22:00:00  ETHUSD  129.97  131.00  129.07  130.62  1972726.62\n",
       "10511 2018-12-31 21:00:00  ETHUSD  130.90  130.90  129.47  129.97  1079617.65\n",
       "10512 2018-12-31 20:00:00  ETHUSD  131.17  131.58  130.36  130.90  1775465.69\n",
       "10513 2018-12-31 19:00:00  ETHUSD  134.83  134.90  128.50  131.17  3380282.07\n",
       "...                   ...     ...     ...     ...     ...     ...         ...\n",
       "19263 2018-01-01 05:00:00  ETHUSD  747.90  747.91  739.99  746.89  2693552.60\n",
       "19264 2018-01-01 04:00:00  ETHUSD  739.70  748.07  733.02  747.90  3180304.69\n",
       "19265 2018-01-01 03:00:00  ETHUSD  730.01  739.70  728.66  739.70  3461348.11\n",
       "19266 2018-01-01 02:00:00  ETHUSD  730.02  730.50  727.14  730.01  2950627.37\n",
       "19267 2018-01-01 01:00:00  ETHUSD  734.59  735.10  730.01  730.02  1886624.01\n",
       "\n",
       "[8759 rows x 7 columns]"
      ]
     },
     "execution_count": 98,
     "metadata": {},
     "output_type": "execute_result"
    }
   ],
   "source": [
    "df1[(df1[\"Date\"] > \"2018\") & (df1[\"Date\"] < \"2019\")]"
   ]
  },
  {
   "cell_type": "code",
   "execution_count": 99,
   "id": "0da67b05-71b6-4ad1-b2aa-9b5c78b141e5",
   "metadata": {},
   "outputs": [
    {
     "data": {
      "text/html": [
       "<div>\n",
       "<style scoped>\n",
       "    .dataframe tbody tr th:only-of-type {\n",
       "        vertical-align: middle;\n",
       "    }\n",
       "\n",
       "    .dataframe tbody tr th {\n",
       "        vertical-align: top;\n",
       "    }\n",
       "\n",
       "    .dataframe thead th {\n",
       "        text-align: right;\n",
       "    }\n",
       "</style>\n",
       "<table border=\"1\" class=\"dataframe\">\n",
       "  <thead>\n",
       "    <tr style=\"text-align: right;\">\n",
       "      <th></th>\n",
       "      <th>Date</th>\n",
       "      <th>Symbol</th>\n",
       "      <th>Open</th>\n",
       "      <th>High</th>\n",
       "      <th>Low</th>\n",
       "      <th>Close</th>\n",
       "      <th>Volume</th>\n",
       "    </tr>\n",
       "  </thead>\n",
       "  <tbody>\n",
       "    <tr>\n",
       "      <th>5157</th>\n",
       "      <td>2019-08-11 23:00:00</td>\n",
       "      <td>ETHUSD</td>\n",
       "      <td>214.88</td>\n",
       "      <td>216.58</td>\n",
       "      <td>214.83</td>\n",
       "      <td>216.06</td>\n",
       "      <td>398950.22</td>\n",
       "    </tr>\n",
       "    <tr>\n",
       "      <th>5158</th>\n",
       "      <td>2019-08-11 22:00:00</td>\n",
       "      <td>ETHUSD</td>\n",
       "      <td>214.31</td>\n",
       "      <td>215.57</td>\n",
       "      <td>212.98</td>\n",
       "      <td>214.88</td>\n",
       "      <td>354166.35</td>\n",
       "    </tr>\n",
       "    <tr>\n",
       "      <th>5159</th>\n",
       "      <td>2019-08-11 21:00:00</td>\n",
       "      <td>ETHUSD</td>\n",
       "      <td>215.12</td>\n",
       "      <td>215.60</td>\n",
       "      <td>213.40</td>\n",
       "      <td>214.31</td>\n",
       "      <td>505508.79</td>\n",
       "    </tr>\n",
       "    <tr>\n",
       "      <th>5160</th>\n",
       "      <td>2019-08-11 20:00:00</td>\n",
       "      <td>ETHUSD</td>\n",
       "      <td>214.98</td>\n",
       "      <td>215.74</td>\n",
       "      <td>214.14</td>\n",
       "      <td>215.12</td>\n",
       "      <td>685926.82</td>\n",
       "    </tr>\n",
       "    <tr>\n",
       "      <th>5161</th>\n",
       "      <td>2019-08-11 19:00:00</td>\n",
       "      <td>ETHUSD</td>\n",
       "      <td>215.41</td>\n",
       "      <td>216.12</td>\n",
       "      <td>214.89</td>\n",
       "      <td>214.98</td>\n",
       "      <td>446207.37</td>\n",
       "    </tr>\n",
       "    <tr>\n",
       "      <th>...</th>\n",
       "      <td>...</td>\n",
       "      <td>...</td>\n",
       "      <td>...</td>\n",
       "      <td>...</td>\n",
       "      <td>...</td>\n",
       "      <td>...</td>\n",
       "      <td>...</td>\n",
       "    </tr>\n",
       "    <tr>\n",
       "      <th>12903</th>\n",
       "      <td>2018-09-23 05:00:00</td>\n",
       "      <td>ETHUSD</td>\n",
       "      <td>240.24</td>\n",
       "      <td>242.50</td>\n",
       "      <td>239.33</td>\n",
       "      <td>241.17</td>\n",
       "      <td>768633.99</td>\n",
       "    </tr>\n",
       "    <tr>\n",
       "      <th>12904</th>\n",
       "      <td>2018-09-23 04:00:00</td>\n",
       "      <td>ETHUSD</td>\n",
       "      <td>238.99</td>\n",
       "      <td>240.25</td>\n",
       "      <td>238.99</td>\n",
       "      <td>240.24</td>\n",
       "      <td>376170.94</td>\n",
       "    </tr>\n",
       "    <tr>\n",
       "      <th>12905</th>\n",
       "      <td>2018-09-23 03:00:00</td>\n",
       "      <td>ETHUSD</td>\n",
       "      <td>238.18</td>\n",
       "      <td>239.58</td>\n",
       "      <td>238.18</td>\n",
       "      <td>238.99</td>\n",
       "      <td>472826.06</td>\n",
       "    </tr>\n",
       "    <tr>\n",
       "      <th>12906</th>\n",
       "      <td>2018-09-23 02:00:00</td>\n",
       "      <td>ETHUSD</td>\n",
       "      <td>238.07</td>\n",
       "      <td>239.44</td>\n",
       "      <td>237.14</td>\n",
       "      <td>238.18</td>\n",
       "      <td>385709.70</td>\n",
       "    </tr>\n",
       "    <tr>\n",
       "      <th>12907</th>\n",
       "      <td>2018-09-23 01:00:00</td>\n",
       "      <td>ETHUSD</td>\n",
       "      <td>240.11</td>\n",
       "      <td>240.15</td>\n",
       "      <td>237.10</td>\n",
       "      <td>238.07</td>\n",
       "      <td>835243.58</td>\n",
       "    </tr>\n",
       "  </tbody>\n",
       "</table>\n",
       "<p>7751 rows × 7 columns</p>\n",
       "</div>"
      ],
      "text/plain": [
       "                     Date  Symbol    Open    High     Low   Close     Volume\n",
       "5157  2019-08-11 23:00:00  ETHUSD  214.88  216.58  214.83  216.06  398950.22\n",
       "5158  2019-08-11 22:00:00  ETHUSD  214.31  215.57  212.98  214.88  354166.35\n",
       "5159  2019-08-11 21:00:00  ETHUSD  215.12  215.60  213.40  214.31  505508.79\n",
       "5160  2019-08-11 20:00:00  ETHUSD  214.98  215.74  214.14  215.12  685926.82\n",
       "5161  2019-08-11 19:00:00  ETHUSD  215.41  216.12  214.89  214.98  446207.37\n",
       "...                   ...     ...     ...     ...     ...     ...        ...\n",
       "12903 2018-09-23 05:00:00  ETHUSD  240.24  242.50  239.33  241.17  768633.99\n",
       "12904 2018-09-23 04:00:00  ETHUSD  238.99  240.25  238.99  240.24  376170.94\n",
       "12905 2018-09-23 03:00:00  ETHUSD  238.18  239.58  238.18  238.99  472826.06\n",
       "12906 2018-09-23 02:00:00  ETHUSD  238.07  239.44  237.14  238.18  385709.70\n",
       "12907 2018-09-23 01:00:00  ETHUSD  240.11  240.15  237.10  238.07  835243.58\n",
       "\n",
       "[7751 rows x 7 columns]"
      ]
     },
     "execution_count": 99,
     "metadata": {},
     "output_type": "execute_result"
    }
   ],
   "source": [
    "df1[(df1[\"Date\"] > \"2018-09-23\") & (df1[\"Date\"] < \"2019-08-12\")]"
   ]
  },
  {
   "cell_type": "code",
   "execution_count": 100,
   "id": "2f9eb74c-b4f9-4105-b670-b8b305bd994c",
   "metadata": {},
   "outputs": [
    {
     "data": {
      "text/html": [
       "<div>\n",
       "<style scoped>\n",
       "    .dataframe tbody tr th:only-of-type {\n",
       "        vertical-align: middle;\n",
       "    }\n",
       "\n",
       "    .dataframe tbody tr th {\n",
       "        vertical-align: top;\n",
       "    }\n",
       "\n",
       "    .dataframe thead th {\n",
       "        text-align: right;\n",
       "    }\n",
       "</style>\n",
       "<table border=\"1\" class=\"dataframe\">\n",
       "  <thead>\n",
       "    <tr style=\"text-align: right;\">\n",
       "      <th></th>\n",
       "      <th>Date</th>\n",
       "      <th>Symbol</th>\n",
       "      <th>Open</th>\n",
       "      <th>High</th>\n",
       "      <th>Low</th>\n",
       "      <th>Close</th>\n",
       "      <th>Volume</th>\n",
       "    </tr>\n",
       "  </thead>\n",
       "  <tbody>\n",
       "    <tr>\n",
       "      <th>5157</th>\n",
       "      <td>2019-08-11 23:00:00</td>\n",
       "      <td>ETHUSD</td>\n",
       "      <td>214.88</td>\n",
       "      <td>216.58</td>\n",
       "      <td>214.83</td>\n",
       "      <td>216.06</td>\n",
       "      <td>398950.22</td>\n",
       "    </tr>\n",
       "    <tr>\n",
       "      <th>5158</th>\n",
       "      <td>2019-08-11 22:00:00</td>\n",
       "      <td>ETHUSD</td>\n",
       "      <td>214.31</td>\n",
       "      <td>215.57</td>\n",
       "      <td>212.98</td>\n",
       "      <td>214.88</td>\n",
       "      <td>354166.35</td>\n",
       "    </tr>\n",
       "    <tr>\n",
       "      <th>5159</th>\n",
       "      <td>2019-08-11 21:00:00</td>\n",
       "      <td>ETHUSD</td>\n",
       "      <td>215.12</td>\n",
       "      <td>215.60</td>\n",
       "      <td>213.40</td>\n",
       "      <td>214.31</td>\n",
       "      <td>505508.79</td>\n",
       "    </tr>\n",
       "    <tr>\n",
       "      <th>5160</th>\n",
       "      <td>2019-08-11 20:00:00</td>\n",
       "      <td>ETHUSD</td>\n",
       "      <td>214.98</td>\n",
       "      <td>215.74</td>\n",
       "      <td>214.14</td>\n",
       "      <td>215.12</td>\n",
       "      <td>685926.82</td>\n",
       "    </tr>\n",
       "    <tr>\n",
       "      <th>5161</th>\n",
       "      <td>2019-08-11 19:00:00</td>\n",
       "      <td>ETHUSD</td>\n",
       "      <td>215.41</td>\n",
       "      <td>216.12</td>\n",
       "      <td>214.89</td>\n",
       "      <td>214.98</td>\n",
       "      <td>446207.37</td>\n",
       "    </tr>\n",
       "    <tr>\n",
       "      <th>...</th>\n",
       "      <td>...</td>\n",
       "      <td>...</td>\n",
       "      <td>...</td>\n",
       "      <td>...</td>\n",
       "      <td>...</td>\n",
       "      <td>...</td>\n",
       "      <td>...</td>\n",
       "    </tr>\n",
       "    <tr>\n",
       "      <th>12903</th>\n",
       "      <td>2018-09-23 05:00:00</td>\n",
       "      <td>ETHUSD</td>\n",
       "      <td>240.24</td>\n",
       "      <td>242.50</td>\n",
       "      <td>239.33</td>\n",
       "      <td>241.17</td>\n",
       "      <td>768633.99</td>\n",
       "    </tr>\n",
       "    <tr>\n",
       "      <th>12904</th>\n",
       "      <td>2018-09-23 04:00:00</td>\n",
       "      <td>ETHUSD</td>\n",
       "      <td>238.99</td>\n",
       "      <td>240.25</td>\n",
       "      <td>238.99</td>\n",
       "      <td>240.24</td>\n",
       "      <td>376170.94</td>\n",
       "    </tr>\n",
       "    <tr>\n",
       "      <th>12905</th>\n",
       "      <td>2018-09-23 03:00:00</td>\n",
       "      <td>ETHUSD</td>\n",
       "      <td>238.18</td>\n",
       "      <td>239.58</td>\n",
       "      <td>238.18</td>\n",
       "      <td>238.99</td>\n",
       "      <td>472826.06</td>\n",
       "    </tr>\n",
       "    <tr>\n",
       "      <th>12906</th>\n",
       "      <td>2018-09-23 02:00:00</td>\n",
       "      <td>ETHUSD</td>\n",
       "      <td>238.07</td>\n",
       "      <td>239.44</td>\n",
       "      <td>237.14</td>\n",
       "      <td>238.18</td>\n",
       "      <td>385709.70</td>\n",
       "    </tr>\n",
       "    <tr>\n",
       "      <th>12907</th>\n",
       "      <td>2018-09-23 01:00:00</td>\n",
       "      <td>ETHUSD</td>\n",
       "      <td>240.11</td>\n",
       "      <td>240.15</td>\n",
       "      <td>237.10</td>\n",
       "      <td>238.07</td>\n",
       "      <td>835243.58</td>\n",
       "    </tr>\n",
       "  </tbody>\n",
       "</table>\n",
       "<p>7751 rows × 7 columns</p>\n",
       "</div>"
      ],
      "text/plain": [
       "                     Date  Symbol    Open    High     Low   Close     Volume\n",
       "5157  2019-08-11 23:00:00  ETHUSD  214.88  216.58  214.83  216.06  398950.22\n",
       "5158  2019-08-11 22:00:00  ETHUSD  214.31  215.57  212.98  214.88  354166.35\n",
       "5159  2019-08-11 21:00:00  ETHUSD  215.12  215.60  213.40  214.31  505508.79\n",
       "5160  2019-08-11 20:00:00  ETHUSD  214.98  215.74  214.14  215.12  685926.82\n",
       "5161  2019-08-11 19:00:00  ETHUSD  215.41  216.12  214.89  214.98  446207.37\n",
       "...                   ...     ...     ...     ...     ...     ...        ...\n",
       "12903 2018-09-23 05:00:00  ETHUSD  240.24  242.50  239.33  241.17  768633.99\n",
       "12904 2018-09-23 04:00:00  ETHUSD  238.99  240.25  238.99  240.24  376170.94\n",
       "12905 2018-09-23 03:00:00  ETHUSD  238.18  239.58  238.18  238.99  472826.06\n",
       "12906 2018-09-23 02:00:00  ETHUSD  238.07  239.44  237.14  238.18  385709.70\n",
       "12907 2018-09-23 01:00:00  ETHUSD  240.11  240.15  237.10  238.07  835243.58\n",
       "\n",
       "[7751 rows x 7 columns]"
      ]
     },
     "execution_count": 100,
     "metadata": {},
     "output_type": "execute_result"
    }
   ],
   "source": [
    "df1[(df1[\"Date\"] > pd.to_datetime(\"2018-09-23\")) & (df1[\"Date\"] < pd.to_datetime(\"2019-08-12\"))]"
   ]
  },
  {
   "cell_type": "code",
   "execution_count": 101,
   "id": "927121bb-383a-416f-a04a-3aff144b7fd5",
   "metadata": {},
   "outputs": [
    {
     "data": {
      "text/html": [
       "<div>\n",
       "<style scoped>\n",
       "    .dataframe tbody tr th:only-of-type {\n",
       "        vertical-align: middle;\n",
       "    }\n",
       "\n",
       "    .dataframe tbody tr th {\n",
       "        vertical-align: top;\n",
       "    }\n",
       "\n",
       "    .dataframe thead th {\n",
       "        text-align: right;\n",
       "    }\n",
       "</style>\n",
       "<table border=\"1\" class=\"dataframe\">\n",
       "  <thead>\n",
       "    <tr style=\"text-align: right;\">\n",
       "      <th></th>\n",
       "      <th>Symbol</th>\n",
       "      <th>Open</th>\n",
       "      <th>High</th>\n",
       "      <th>Low</th>\n",
       "      <th>Close</th>\n",
       "      <th>Volume</th>\n",
       "    </tr>\n",
       "    <tr>\n",
       "      <th>Date</th>\n",
       "      <th></th>\n",
       "      <th></th>\n",
       "      <th></th>\n",
       "      <th></th>\n",
       "      <th></th>\n",
       "      <th></th>\n",
       "    </tr>\n",
       "  </thead>\n",
       "  <tbody>\n",
       "    <tr>\n",
       "      <th>2020-03-13 20:00:00</th>\n",
       "      <td>ETHUSD</td>\n",
       "      <td>129.94</td>\n",
       "      <td>131.82</td>\n",
       "      <td>126.87</td>\n",
       "      <td>128.71</td>\n",
       "      <td>1940673.93</td>\n",
       "    </tr>\n",
       "    <tr>\n",
       "      <th>2020-03-13 19:00:00</th>\n",
       "      <td>ETHUSD</td>\n",
       "      <td>119.51</td>\n",
       "      <td>132.02</td>\n",
       "      <td>117.10</td>\n",
       "      <td>129.94</td>\n",
       "      <td>7579741.09</td>\n",
       "    </tr>\n",
       "    <tr>\n",
       "      <th>2020-03-13 18:00:00</th>\n",
       "      <td>ETHUSD</td>\n",
       "      <td>124.47</td>\n",
       "      <td>124.85</td>\n",
       "      <td>115.50</td>\n",
       "      <td>119.51</td>\n",
       "      <td>4898735.81</td>\n",
       "    </tr>\n",
       "    <tr>\n",
       "      <th>2020-03-13 17:00:00</th>\n",
       "      <td>ETHUSD</td>\n",
       "      <td>124.08</td>\n",
       "      <td>127.42</td>\n",
       "      <td>121.63</td>\n",
       "      <td>124.47</td>\n",
       "      <td>2753450.92</td>\n",
       "    </tr>\n",
       "    <tr>\n",
       "      <th>2020-03-13 16:00:00</th>\n",
       "      <td>ETHUSD</td>\n",
       "      <td>124.85</td>\n",
       "      <td>129.51</td>\n",
       "      <td>120.17</td>\n",
       "      <td>124.08</td>\n",
       "      <td>4461424.71</td>\n",
       "    </tr>\n",
       "    <tr>\n",
       "      <th>...</th>\n",
       "      <td>...</td>\n",
       "      <td>...</td>\n",
       "      <td>...</td>\n",
       "      <td>...</td>\n",
       "      <td>...</td>\n",
       "      <td>...</td>\n",
       "    </tr>\n",
       "    <tr>\n",
       "      <th>2017-07-01 15:00:00</th>\n",
       "      <td>ETHUSD</td>\n",
       "      <td>265.74</td>\n",
       "      <td>272.74</td>\n",
       "      <td>265.00</td>\n",
       "      <td>272.57</td>\n",
       "      <td>1500282.55</td>\n",
       "    </tr>\n",
       "    <tr>\n",
       "      <th>2017-07-01 14:00:00</th>\n",
       "      <td>ETHUSD</td>\n",
       "      <td>268.79</td>\n",
       "      <td>269.90</td>\n",
       "      <td>265.00</td>\n",
       "      <td>265.74</td>\n",
       "      <td>1702536.85</td>\n",
       "    </tr>\n",
       "    <tr>\n",
       "      <th>2017-07-01 13:00:00</th>\n",
       "      <td>ETHUSD</td>\n",
       "      <td>274.83</td>\n",
       "      <td>274.93</td>\n",
       "      <td>265.00</td>\n",
       "      <td>268.79</td>\n",
       "      <td>3010787.99</td>\n",
       "    </tr>\n",
       "    <tr>\n",
       "      <th>2017-07-01 12:00:00</th>\n",
       "      <td>ETHUSD</td>\n",
       "      <td>275.01</td>\n",
       "      <td>275.01</td>\n",
       "      <td>271.00</td>\n",
       "      <td>274.83</td>\n",
       "      <td>824362.87</td>\n",
       "    </tr>\n",
       "    <tr>\n",
       "      <th>2017-07-01 11:00:00</th>\n",
       "      <td>ETHUSD</td>\n",
       "      <td>279.98</td>\n",
       "      <td>279.99</td>\n",
       "      <td>272.10</td>\n",
       "      <td>275.01</td>\n",
       "      <td>679358.87</td>\n",
       "    </tr>\n",
       "  </tbody>\n",
       "</table>\n",
       "<p>23674 rows × 6 columns</p>\n",
       "</div>"
      ],
      "text/plain": [
       "                     Symbol    Open    High     Low   Close      Volume\n",
       "Date                                                                   \n",
       "2020-03-13 20:00:00  ETHUSD  129.94  131.82  126.87  128.71  1940673.93\n",
       "2020-03-13 19:00:00  ETHUSD  119.51  132.02  117.10  129.94  7579741.09\n",
       "2020-03-13 18:00:00  ETHUSD  124.47  124.85  115.50  119.51  4898735.81\n",
       "2020-03-13 17:00:00  ETHUSD  124.08  127.42  121.63  124.47  2753450.92\n",
       "2020-03-13 16:00:00  ETHUSD  124.85  129.51  120.17  124.08  4461424.71\n",
       "...                     ...     ...     ...     ...     ...         ...\n",
       "2017-07-01 15:00:00  ETHUSD  265.74  272.74  265.00  272.57  1500282.55\n",
       "2017-07-01 14:00:00  ETHUSD  268.79  269.90  265.00  265.74  1702536.85\n",
       "2017-07-01 13:00:00  ETHUSD  274.83  274.93  265.00  268.79  3010787.99\n",
       "2017-07-01 12:00:00  ETHUSD  275.01  275.01  271.00  274.83   824362.87\n",
       "2017-07-01 11:00:00  ETHUSD  279.98  279.99  272.10  275.01   679358.87\n",
       "\n",
       "[23674 rows x 6 columns]"
      ]
     },
     "execution_count": 101,
     "metadata": {},
     "output_type": "execute_result"
    }
   ],
   "source": [
    "df1.set_index(\"Date\",inplace=True)\n",
    "df1"
   ]
  },
  {
   "cell_type": "code",
   "execution_count": 111,
   "id": "5768dcd4-0d80-4388-a499-6e185f00b5d0",
   "metadata": {},
   "outputs": [
    {
     "data": {
      "text/html": [
       "<div>\n",
       "<style scoped>\n",
       "    .dataframe tbody tr th:only-of-type {\n",
       "        vertical-align: middle;\n",
       "    }\n",
       "\n",
       "    .dataframe tbody tr th {\n",
       "        vertical-align: top;\n",
       "    }\n",
       "\n",
       "    .dataframe thead th {\n",
       "        text-align: right;\n",
       "    }\n",
       "</style>\n",
       "<table border=\"1\" class=\"dataframe\">\n",
       "  <thead>\n",
       "    <tr style=\"text-align: right;\">\n",
       "      <th></th>\n",
       "      <th>Symbol</th>\n",
       "      <th>Open</th>\n",
       "      <th>High</th>\n",
       "      <th>Low</th>\n",
       "      <th>Close</th>\n",
       "      <th>Volume</th>\n",
       "    </tr>\n",
       "    <tr>\n",
       "      <th>Date</th>\n",
       "      <th></th>\n",
       "      <th></th>\n",
       "      <th></th>\n",
       "      <th></th>\n",
       "      <th></th>\n",
       "      <th></th>\n",
       "    </tr>\n",
       "  </thead>\n",
       "  <tbody>\n",
       "    <tr>\n",
       "      <th>2020-03-13 20:00:00</th>\n",
       "      <td>ETHUSD</td>\n",
       "      <td>129.94</td>\n",
       "      <td>131.82</td>\n",
       "      <td>126.87</td>\n",
       "      <td>128.71</td>\n",
       "      <td>1940673.93</td>\n",
       "    </tr>\n",
       "    <tr>\n",
       "      <th>2020-03-13 19:00:00</th>\n",
       "      <td>ETHUSD</td>\n",
       "      <td>119.51</td>\n",
       "      <td>132.02</td>\n",
       "      <td>117.10</td>\n",
       "      <td>129.94</td>\n",
       "      <td>7579741.09</td>\n",
       "    </tr>\n",
       "    <tr>\n",
       "      <th>2020-03-13 18:00:00</th>\n",
       "      <td>ETHUSD</td>\n",
       "      <td>124.47</td>\n",
       "      <td>124.85</td>\n",
       "      <td>115.50</td>\n",
       "      <td>119.51</td>\n",
       "      <td>4898735.81</td>\n",
       "    </tr>\n",
       "    <tr>\n",
       "      <th>2020-03-13 17:00:00</th>\n",
       "      <td>ETHUSD</td>\n",
       "      <td>124.08</td>\n",
       "      <td>127.42</td>\n",
       "      <td>121.63</td>\n",
       "      <td>124.47</td>\n",
       "      <td>2753450.92</td>\n",
       "    </tr>\n",
       "    <tr>\n",
       "      <th>2020-03-13 16:00:00</th>\n",
       "      <td>ETHUSD</td>\n",
       "      <td>124.85</td>\n",
       "      <td>129.51</td>\n",
       "      <td>120.17</td>\n",
       "      <td>124.08</td>\n",
       "      <td>4461424.71</td>\n",
       "    </tr>\n",
       "    <tr>\n",
       "      <th>...</th>\n",
       "      <td>...</td>\n",
       "      <td>...</td>\n",
       "      <td>...</td>\n",
       "      <td>...</td>\n",
       "      <td>...</td>\n",
       "      <td>...</td>\n",
       "    </tr>\n",
       "    <tr>\n",
       "      <th>2020-01-01 04:00:00</th>\n",
       "      <td>ETHUSD</td>\n",
       "      <td>129.57</td>\n",
       "      <td>130.00</td>\n",
       "      <td>129.50</td>\n",
       "      <td>129.56</td>\n",
       "      <td>702786.82</td>\n",
       "    </tr>\n",
       "    <tr>\n",
       "      <th>2020-01-01 03:00:00</th>\n",
       "      <td>ETHUSD</td>\n",
       "      <td>130.37</td>\n",
       "      <td>130.44</td>\n",
       "      <td>129.38</td>\n",
       "      <td>129.57</td>\n",
       "      <td>496704.23</td>\n",
       "    </tr>\n",
       "    <tr>\n",
       "      <th>2020-01-01 02:00:00</th>\n",
       "      <td>ETHUSD</td>\n",
       "      <td>130.14</td>\n",
       "      <td>130.50</td>\n",
       "      <td>129.91</td>\n",
       "      <td>130.37</td>\n",
       "      <td>396315.72</td>\n",
       "    </tr>\n",
       "    <tr>\n",
       "      <th>2020-01-01 01:00:00</th>\n",
       "      <td>ETHUSD</td>\n",
       "      <td>128.34</td>\n",
       "      <td>130.14</td>\n",
       "      <td>128.32</td>\n",
       "      <td>130.14</td>\n",
       "      <td>635419.40</td>\n",
       "    </tr>\n",
       "    <tr>\n",
       "      <th>2020-01-01 00:00:00</th>\n",
       "      <td>ETHUSD</td>\n",
       "      <td>128.54</td>\n",
       "      <td>128.54</td>\n",
       "      <td>128.12</td>\n",
       "      <td>128.34</td>\n",
       "      <td>245119.91</td>\n",
       "    </tr>\n",
       "  </tbody>\n",
       "</table>\n",
       "<p>1749 rows × 6 columns</p>\n",
       "</div>"
      ],
      "text/plain": [
       "                     Symbol    Open    High     Low   Close      Volume\n",
       "Date                                                                   \n",
       "2020-03-13 20:00:00  ETHUSD  129.94  131.82  126.87  128.71  1940673.93\n",
       "2020-03-13 19:00:00  ETHUSD  119.51  132.02  117.10  129.94  7579741.09\n",
       "2020-03-13 18:00:00  ETHUSD  124.47  124.85  115.50  119.51  4898735.81\n",
       "2020-03-13 17:00:00  ETHUSD  124.08  127.42  121.63  124.47  2753450.92\n",
       "2020-03-13 16:00:00  ETHUSD  124.85  129.51  120.17  124.08  4461424.71\n",
       "...                     ...     ...     ...     ...     ...         ...\n",
       "2020-01-01 04:00:00  ETHUSD  129.57  130.00  129.50  129.56   702786.82\n",
       "2020-01-01 03:00:00  ETHUSD  130.37  130.44  129.38  129.57   496704.23\n",
       "2020-01-01 02:00:00  ETHUSD  130.14  130.50  129.91  130.37   396315.72\n",
       "2020-01-01 01:00:00  ETHUSD  128.34  130.14  128.32  130.14   635419.40\n",
       "2020-01-01 00:00:00  ETHUSD  128.54  128.54  128.12  128.34   245119.91\n",
       "\n",
       "[1749 rows x 6 columns]"
      ]
     },
     "execution_count": 111,
     "metadata": {},
     "output_type": "execute_result"
    }
   ],
   "source": [
    "df1.loc[\"2020\"]"
   ]
  },
  {
   "cell_type": "code",
   "execution_count": 116,
   "id": "88fbd2f6-b5ab-4b4f-b82f-233b013c0438",
   "metadata": {},
   "outputs": [],
   "source": [
    "#df1.loc[\"2020-01\":\"2020-02\"]"
   ]
  },
  {
   "cell_type": "markdown",
   "id": "8548f8e5-a208-4dc6-87ea-5a935ef3a9f0",
   "metadata": {},
   "source": [
    "***It will give error as the index is not in order first we will conert it in order then do it***"
   ]
  },
  {
   "cell_type": "code",
   "execution_count": 119,
   "id": "3d0d57a2-6d5d-4abe-bacc-7572bed27ffc",
   "metadata": {},
   "outputs": [
    {
     "data": {
      "text/html": [
       "<div>\n",
       "<style scoped>\n",
       "    .dataframe tbody tr th:only-of-type {\n",
       "        vertical-align: middle;\n",
       "    }\n",
       "\n",
       "    .dataframe tbody tr th {\n",
       "        vertical-align: top;\n",
       "    }\n",
       "\n",
       "    .dataframe thead th {\n",
       "        text-align: right;\n",
       "    }\n",
       "</style>\n",
       "<table border=\"1\" class=\"dataframe\">\n",
       "  <thead>\n",
       "    <tr style=\"text-align: right;\">\n",
       "      <th></th>\n",
       "      <th>Symbol</th>\n",
       "      <th>Open</th>\n",
       "      <th>High</th>\n",
       "      <th>Low</th>\n",
       "      <th>Close</th>\n",
       "      <th>Volume</th>\n",
       "    </tr>\n",
       "    <tr>\n",
       "      <th>Date</th>\n",
       "      <th></th>\n",
       "      <th></th>\n",
       "      <th></th>\n",
       "      <th></th>\n",
       "      <th></th>\n",
       "      <th></th>\n",
       "    </tr>\n",
       "  </thead>\n",
       "  <tbody>\n",
       "    <tr>\n",
       "      <th>2017-07-01 11:00:00</th>\n",
       "      <td>ETHUSD</td>\n",
       "      <td>279.98</td>\n",
       "      <td>279.99</td>\n",
       "      <td>272.10</td>\n",
       "      <td>275.01</td>\n",
       "      <td>679358.87</td>\n",
       "    </tr>\n",
       "    <tr>\n",
       "      <th>2017-07-01 12:00:00</th>\n",
       "      <td>ETHUSD</td>\n",
       "      <td>275.01</td>\n",
       "      <td>275.01</td>\n",
       "      <td>271.00</td>\n",
       "      <td>274.83</td>\n",
       "      <td>824362.87</td>\n",
       "    </tr>\n",
       "    <tr>\n",
       "      <th>2017-07-01 13:00:00</th>\n",
       "      <td>ETHUSD</td>\n",
       "      <td>274.83</td>\n",
       "      <td>274.93</td>\n",
       "      <td>265.00</td>\n",
       "      <td>268.79</td>\n",
       "      <td>3010787.99</td>\n",
       "    </tr>\n",
       "    <tr>\n",
       "      <th>2017-07-01 14:00:00</th>\n",
       "      <td>ETHUSD</td>\n",
       "      <td>268.79</td>\n",
       "      <td>269.90</td>\n",
       "      <td>265.00</td>\n",
       "      <td>265.74</td>\n",
       "      <td>1702536.85</td>\n",
       "    </tr>\n",
       "    <tr>\n",
       "      <th>2017-07-01 15:00:00</th>\n",
       "      <td>ETHUSD</td>\n",
       "      <td>265.74</td>\n",
       "      <td>272.74</td>\n",
       "      <td>265.00</td>\n",
       "      <td>272.57</td>\n",
       "      <td>1500282.55</td>\n",
       "    </tr>\n",
       "    <tr>\n",
       "      <th>...</th>\n",
       "      <td>...</td>\n",
       "      <td>...</td>\n",
       "      <td>...</td>\n",
       "      <td>...</td>\n",
       "      <td>...</td>\n",
       "      <td>...</td>\n",
       "    </tr>\n",
       "    <tr>\n",
       "      <th>2020-03-13 16:00:00</th>\n",
       "      <td>ETHUSD</td>\n",
       "      <td>124.85</td>\n",
       "      <td>129.51</td>\n",
       "      <td>120.17</td>\n",
       "      <td>124.08</td>\n",
       "      <td>4461424.71</td>\n",
       "    </tr>\n",
       "    <tr>\n",
       "      <th>2020-03-13 17:00:00</th>\n",
       "      <td>ETHUSD</td>\n",
       "      <td>124.08</td>\n",
       "      <td>127.42</td>\n",
       "      <td>121.63</td>\n",
       "      <td>124.47</td>\n",
       "      <td>2753450.92</td>\n",
       "    </tr>\n",
       "    <tr>\n",
       "      <th>2020-03-13 18:00:00</th>\n",
       "      <td>ETHUSD</td>\n",
       "      <td>124.47</td>\n",
       "      <td>124.85</td>\n",
       "      <td>115.50</td>\n",
       "      <td>119.51</td>\n",
       "      <td>4898735.81</td>\n",
       "    </tr>\n",
       "    <tr>\n",
       "      <th>2020-03-13 19:00:00</th>\n",
       "      <td>ETHUSD</td>\n",
       "      <td>119.51</td>\n",
       "      <td>132.02</td>\n",
       "      <td>117.10</td>\n",
       "      <td>129.94</td>\n",
       "      <td>7579741.09</td>\n",
       "    </tr>\n",
       "    <tr>\n",
       "      <th>2020-03-13 20:00:00</th>\n",
       "      <td>ETHUSD</td>\n",
       "      <td>129.94</td>\n",
       "      <td>131.82</td>\n",
       "      <td>126.87</td>\n",
       "      <td>128.71</td>\n",
       "      <td>1940673.93</td>\n",
       "    </tr>\n",
       "  </tbody>\n",
       "</table>\n",
       "<p>23674 rows × 6 columns</p>\n",
       "</div>"
      ],
      "text/plain": [
       "                     Symbol    Open    High     Low   Close      Volume\n",
       "Date                                                                   \n",
       "2017-07-01 11:00:00  ETHUSD  279.98  279.99  272.10  275.01   679358.87\n",
       "2017-07-01 12:00:00  ETHUSD  275.01  275.01  271.00  274.83   824362.87\n",
       "2017-07-01 13:00:00  ETHUSD  274.83  274.93  265.00  268.79  3010787.99\n",
       "2017-07-01 14:00:00  ETHUSD  268.79  269.90  265.00  265.74  1702536.85\n",
       "2017-07-01 15:00:00  ETHUSD  265.74  272.74  265.00  272.57  1500282.55\n",
       "...                     ...     ...     ...     ...     ...         ...\n",
       "2020-03-13 16:00:00  ETHUSD  124.85  129.51  120.17  124.08  4461424.71\n",
       "2020-03-13 17:00:00  ETHUSD  124.08  127.42  121.63  124.47  2753450.92\n",
       "2020-03-13 18:00:00  ETHUSD  124.47  124.85  115.50  119.51  4898735.81\n",
       "2020-03-13 19:00:00  ETHUSD  119.51  132.02  117.10  129.94  7579741.09\n",
       "2020-03-13 20:00:00  ETHUSD  129.94  131.82  126.87  128.71  1940673.93\n",
       "\n",
       "[23674 rows x 6 columns]"
      ]
     },
     "execution_count": 119,
     "metadata": {},
     "output_type": "execute_result"
    }
   ],
   "source": [
    "df1.sort_index(inplace=True)\n",
    "df1"
   ]
  },
  {
   "cell_type": "code",
   "execution_count": 120,
   "id": "6c999ebc-00a6-48a8-9785-cd5d919fb113",
   "metadata": {},
   "outputs": [
    {
     "data": {
      "text/html": [
       "<div>\n",
       "<style scoped>\n",
       "    .dataframe tbody tr th:only-of-type {\n",
       "        vertical-align: middle;\n",
       "    }\n",
       "\n",
       "    .dataframe tbody tr th {\n",
       "        vertical-align: top;\n",
       "    }\n",
       "\n",
       "    .dataframe thead th {\n",
       "        text-align: right;\n",
       "    }\n",
       "</style>\n",
       "<table border=\"1\" class=\"dataframe\">\n",
       "  <thead>\n",
       "    <tr style=\"text-align: right;\">\n",
       "      <th></th>\n",
       "      <th>Symbol</th>\n",
       "      <th>Open</th>\n",
       "      <th>High</th>\n",
       "      <th>Low</th>\n",
       "      <th>Close</th>\n",
       "      <th>Volume</th>\n",
       "    </tr>\n",
       "    <tr>\n",
       "      <th>Date</th>\n",
       "      <th></th>\n",
       "      <th></th>\n",
       "      <th></th>\n",
       "      <th></th>\n",
       "      <th></th>\n",
       "      <th></th>\n",
       "    </tr>\n",
       "  </thead>\n",
       "  <tbody>\n",
       "    <tr>\n",
       "      <th>2020-01-01 00:00:00</th>\n",
       "      <td>ETHUSD</td>\n",
       "      <td>128.54</td>\n",
       "      <td>128.54</td>\n",
       "      <td>128.12</td>\n",
       "      <td>128.34</td>\n",
       "      <td>245119.91</td>\n",
       "    </tr>\n",
       "    <tr>\n",
       "      <th>2020-01-01 01:00:00</th>\n",
       "      <td>ETHUSD</td>\n",
       "      <td>128.34</td>\n",
       "      <td>130.14</td>\n",
       "      <td>128.32</td>\n",
       "      <td>130.14</td>\n",
       "      <td>635419.40</td>\n",
       "    </tr>\n",
       "    <tr>\n",
       "      <th>2020-01-01 02:00:00</th>\n",
       "      <td>ETHUSD</td>\n",
       "      <td>130.14</td>\n",
       "      <td>130.50</td>\n",
       "      <td>129.91</td>\n",
       "      <td>130.37</td>\n",
       "      <td>396315.72</td>\n",
       "    </tr>\n",
       "    <tr>\n",
       "      <th>2020-01-01 03:00:00</th>\n",
       "      <td>ETHUSD</td>\n",
       "      <td>130.37</td>\n",
       "      <td>130.44</td>\n",
       "      <td>129.38</td>\n",
       "      <td>129.57</td>\n",
       "      <td>496704.23</td>\n",
       "    </tr>\n",
       "    <tr>\n",
       "      <th>2020-01-01 04:00:00</th>\n",
       "      <td>ETHUSD</td>\n",
       "      <td>129.57</td>\n",
       "      <td>130.00</td>\n",
       "      <td>129.50</td>\n",
       "      <td>129.56</td>\n",
       "      <td>702786.82</td>\n",
       "    </tr>\n",
       "    <tr>\n",
       "      <th>...</th>\n",
       "      <td>...</td>\n",
       "      <td>...</td>\n",
       "      <td>...</td>\n",
       "      <td>...</td>\n",
       "      <td>...</td>\n",
       "      <td>...</td>\n",
       "    </tr>\n",
       "    <tr>\n",
       "      <th>2020-02-29 19:00:00</th>\n",
       "      <td>ETHUSD</td>\n",
       "      <td>225.09</td>\n",
       "      <td>225.85</td>\n",
       "      <td>223.87</td>\n",
       "      <td>225.31</td>\n",
       "      <td>1250856.20</td>\n",
       "    </tr>\n",
       "    <tr>\n",
       "      <th>2020-02-29 20:00:00</th>\n",
       "      <td>ETHUSD</td>\n",
       "      <td>225.31</td>\n",
       "      <td>225.33</td>\n",
       "      <td>223.50</td>\n",
       "      <td>224.63</td>\n",
       "      <td>511648.65</td>\n",
       "    </tr>\n",
       "    <tr>\n",
       "      <th>2020-02-29 21:00:00</th>\n",
       "      <td>ETHUSD</td>\n",
       "      <td>224.63</td>\n",
       "      <td>225.14</td>\n",
       "      <td>222.74</td>\n",
       "      <td>223.48</td>\n",
       "      <td>561158.03</td>\n",
       "    </tr>\n",
       "    <tr>\n",
       "      <th>2020-02-29 22:00:00</th>\n",
       "      <td>ETHUSD</td>\n",
       "      <td>223.48</td>\n",
       "      <td>223.59</td>\n",
       "      <td>222.14</td>\n",
       "      <td>223.35</td>\n",
       "      <td>535998.57</td>\n",
       "    </tr>\n",
       "    <tr>\n",
       "      <th>2020-02-29 23:00:00</th>\n",
       "      <td>ETHUSD</td>\n",
       "      <td>223.35</td>\n",
       "      <td>223.58</td>\n",
       "      <td>216.83</td>\n",
       "      <td>217.31</td>\n",
       "      <td>1927939.88</td>\n",
       "    </tr>\n",
       "  </tbody>\n",
       "</table>\n",
       "<p>1440 rows × 6 columns</p>\n",
       "</div>"
      ],
      "text/plain": [
       "                     Symbol    Open    High     Low   Close      Volume\n",
       "Date                                                                   \n",
       "2020-01-01 00:00:00  ETHUSD  128.54  128.54  128.12  128.34   245119.91\n",
       "2020-01-01 01:00:00  ETHUSD  128.34  130.14  128.32  130.14   635419.40\n",
       "2020-01-01 02:00:00  ETHUSD  130.14  130.50  129.91  130.37   396315.72\n",
       "2020-01-01 03:00:00  ETHUSD  130.37  130.44  129.38  129.57   496704.23\n",
       "2020-01-01 04:00:00  ETHUSD  129.57  130.00  129.50  129.56   702786.82\n",
       "...                     ...     ...     ...     ...     ...         ...\n",
       "2020-02-29 19:00:00  ETHUSD  225.09  225.85  223.87  225.31  1250856.20\n",
       "2020-02-29 20:00:00  ETHUSD  225.31  225.33  223.50  224.63   511648.65\n",
       "2020-02-29 21:00:00  ETHUSD  224.63  225.14  222.74  223.48   561158.03\n",
       "2020-02-29 22:00:00  ETHUSD  223.48  223.59  222.14  223.35   535998.57\n",
       "2020-02-29 23:00:00  ETHUSD  223.35  223.58  216.83  217.31  1927939.88\n",
       "\n",
       "[1440 rows x 6 columns]"
      ]
     },
     "execution_count": 120,
     "metadata": {},
     "output_type": "execute_result"
    }
   ],
   "source": [
    "df1.loc[\"2020-01\":\"2020-02\"]"
   ]
  },
  {
   "cell_type": "markdown",
   "id": "4d77b27b-efb9-444d-9f20-4a26cffc9310",
   "metadata": {},
   "source": [
    "## What is Resampling in Time Series?\n",
    "Resampling is a time-series operation that involves changing the frequency of your time-indexed data."
   ]
  },
  {
   "cell_type": "code",
   "execution_count": 125,
   "id": "de8570ab-2068-44ef-a2a8-907366f90096",
   "metadata": {},
   "outputs": [
    {
     "data": {
      "text/plain": [
       "Date\n",
       "2017-07-01    279.99\n",
       "2017-07-02    293.73\n",
       "2017-07-03    285.00\n",
       "2017-07-04    282.83\n",
       "2017-07-05    274.97\n",
       "               ...  \n",
       "2020-03-09    208.65\n",
       "2020-03-10    206.28\n",
       "2020-03-11    202.98\n",
       "2020-03-12    195.64\n",
       "2020-03-13    148.00\n",
       "Freq: D, Name: High, Length: 987, dtype: float64"
      ]
     },
     "execution_count": 125,
     "metadata": {},
     "output_type": "execute_result"
    }
   ],
   "source": [
    "highs = df1[\"High\"].resample(\"D\").max()\n",
    "highs"
   ]
  },
  {
   "cell_type": "code",
   "execution_count": 127,
   "id": "de0c12b7-6876-47c2-9b85-9906966084b7",
   "metadata": {},
   "outputs": [
    {
     "data": {
      "text/plain": [
       "202.98"
      ]
     },
     "execution_count": 127,
     "metadata": {},
     "output_type": "execute_result"
    }
   ],
   "source": [
    "highs[\"2020-03-11\"]"
   ]
  },
  {
   "cell_type": "code",
   "execution_count": 128,
   "id": "4d4875ea-89c6-4363-9125-fa372c2a278b",
   "metadata": {},
   "outputs": [
    {
     "data": {
      "text/plain": [
       "<Axes: xlabel='Date'>"
      ]
     },
     "execution_count": 128,
     "metadata": {},
     "output_type": "execute_result"
    },
    {
     "data": {
      "image/png": "[encoded data removed]",
      "text/plain": [
       "<Figure size 640x480 with 1 Axes>"
      ]
     },
     "metadata": {},
     "output_type": "display_data"
    }
   ],
   "source": [
    "highs.plot()"
   ]
  },
  {
   "cell_type": "markdown",
   "id": "3b4c7936-27c6-466c-9bf4-afcd6fde1d07",
   "metadata": {},
   "source": [
    "### Resampling with multiple columns"
   ]
  },
  {
   "cell_type": "code",
   "execution_count": 132,
   "id": "d49cd0dc-b631-4841-842e-b0538f0a5443",
   "metadata": {},
   "outputs": [
    {
     "data": {
      "text/html": [
       "<div>\n",
       "<style scoped>\n",
       "    .dataframe tbody tr th:only-of-type {\n",
       "        vertical-align: middle;\n",
       "    }\n",
       "\n",
       "    .dataframe tbody tr th {\n",
       "        vertical-align: top;\n",
       "    }\n",
       "\n",
       "    .dataframe thead th {\n",
       "        text-align: right;\n",
       "    }\n",
       "</style>\n",
       "<table border=\"1\" class=\"dataframe\">\n",
       "  <thead>\n",
       "    <tr style=\"text-align: right;\">\n",
       "      <th></th>\n",
       "      <th>Open</th>\n",
       "      <th>High</th>\n",
       "      <th>Low</th>\n",
       "      <th>Close</th>\n",
       "      <th>Volume</th>\n",
       "    </tr>\n",
       "    <tr>\n",
       "      <th>Date</th>\n",
       "      <th></th>\n",
       "      <th></th>\n",
       "      <th></th>\n",
       "      <th></th>\n",
       "      <th></th>\n",
       "    </tr>\n",
       "  </thead>\n",
       "  <tbody>\n",
       "    <tr>\n",
       "      <th>2017-07-02</th>\n",
       "      <td>268.066486</td>\n",
       "      <td>271.124595</td>\n",
       "      <td>264.819730</td>\n",
       "      <td>268.202162</td>\n",
       "      <td>2.185035e+06</td>\n",
       "    </tr>\n",
       "    <tr>\n",
       "      <th>2017-07-09</th>\n",
       "      <td>261.337024</td>\n",
       "      <td>262.872917</td>\n",
       "      <td>259.186190</td>\n",
       "      <td>261.062083</td>\n",
       "      <td>1.337349e+06</td>\n",
       "    </tr>\n",
       "    <tr>\n",
       "      <th>2017-07-16</th>\n",
       "      <td>196.193214</td>\n",
       "      <td>199.204405</td>\n",
       "      <td>192.722321</td>\n",
       "      <td>195.698393</td>\n",
       "      <td>2.986756e+06</td>\n",
       "    </tr>\n",
       "    <tr>\n",
       "      <th>2017-07-23</th>\n",
       "      <td>212.351429</td>\n",
       "      <td>215.779286</td>\n",
       "      <td>209.126310</td>\n",
       "      <td>212.783750</td>\n",
       "      <td>4.298593e+06</td>\n",
       "    </tr>\n",
       "    <tr>\n",
       "      <th>2017-07-30</th>\n",
       "      <td>203.496190</td>\n",
       "      <td>205.110357</td>\n",
       "      <td>201.714048</td>\n",
       "      <td>203.309524</td>\n",
       "      <td>1.581729e+06</td>\n",
       "    </tr>\n",
       "    <tr>\n",
       "      <th>...</th>\n",
       "      <td>...</td>\n",
       "      <td>...</td>\n",
       "      <td>...</td>\n",
       "      <td>...</td>\n",
       "      <td>...</td>\n",
       "    </tr>\n",
       "    <tr>\n",
       "      <th>2020-02-16</th>\n",
       "      <td>255.021667</td>\n",
       "      <td>257.255238</td>\n",
       "      <td>252.679762</td>\n",
       "      <td>255.198452</td>\n",
       "      <td>2.329087e+06</td>\n",
       "    </tr>\n",
       "    <tr>\n",
       "      <th>2020-02-23</th>\n",
       "      <td>265.220833</td>\n",
       "      <td>267.263690</td>\n",
       "      <td>262.948512</td>\n",
       "      <td>265.321905</td>\n",
       "      <td>1.826094e+06</td>\n",
       "    </tr>\n",
       "    <tr>\n",
       "      <th>2020-03-01</th>\n",
       "      <td>236.720536</td>\n",
       "      <td>238.697500</td>\n",
       "      <td>234.208750</td>\n",
       "      <td>236.373988</td>\n",
       "      <td>2.198762e+06</td>\n",
       "    </tr>\n",
       "    <tr>\n",
       "      <th>2020-03-08</th>\n",
       "      <td>229.923571</td>\n",
       "      <td>231.284583</td>\n",
       "      <td>228.373810</td>\n",
       "      <td>229.817619</td>\n",
       "      <td>1.628910e+06</td>\n",
       "    </tr>\n",
       "    <tr>\n",
       "      <th>2020-03-15</th>\n",
       "      <td>176.937521</td>\n",
       "      <td>179.979487</td>\n",
       "      <td>172.936239</td>\n",
       "      <td>176.332821</td>\n",
       "      <td>4.259828e+06</td>\n",
       "    </tr>\n",
       "  </tbody>\n",
       "</table>\n",
       "<p>142 rows × 5 columns</p>\n",
       "</div>"
      ],
      "text/plain": [
       "                  Open        High         Low       Close        Volume\n",
       "Date                                                                    \n",
       "2017-07-02  268.066486  271.124595  264.819730  268.202162  2.185035e+06\n",
       "2017-07-09  261.337024  262.872917  259.186190  261.062083  1.337349e+06\n",
       "2017-07-16  196.193214  199.204405  192.722321  195.698393  2.986756e+06\n",
       "2017-07-23  212.351429  215.779286  209.126310  212.783750  4.298593e+06\n",
       "2017-07-30  203.496190  205.110357  201.714048  203.309524  1.581729e+06\n",
       "...                ...         ...         ...         ...           ...\n",
       "2020-02-16  255.021667  257.255238  252.679762  255.198452  2.329087e+06\n",
       "2020-02-23  265.220833  267.263690  262.948512  265.321905  1.826094e+06\n",
       "2020-03-01  236.720536  238.697500  234.208750  236.373988  2.198762e+06\n",
       "2020-03-08  229.923571  231.284583  228.373810  229.817619  1.628910e+06\n",
       "2020-03-15  176.937521  179.979487  172.936239  176.332821  4.259828e+06\n",
       "\n",
       "[142 rows x 5 columns]"
      ]
     },
     "execution_count": 132,
     "metadata": {},
     "output_type": "execute_result"
    }
   ],
   "source": [
    "resampled_df1 = df1.resample(\"W\")\n",
    "resampled_df1[[\"Open\",\"High\",\"Low\",\"Close\",\"Volume\"]].mean()"
   ]
  },
  {
   "cell_type": "markdown",
   "id": "d5a51a09-c648-4970-b9e9-a19e1530a186",
   "metadata": {},
   "source": [
    "* ***gives average of every column by week***"
   ]
  },
  {
   "cell_type": "markdown",
   "id": "aad128ad-3280-47c5-a810-02bce8406e47",
   "metadata": {},
   "source": [
    "#### If we want to apply different agg on different columns we could use agg"
   ]
  },
  {
   "cell_type": "code",
   "execution_count": 133,
   "id": "2552e6c9-9704-46b9-bb84-ca63d030e44c",
   "metadata": {},
   "outputs": [
    {
     "data": {
      "text/html": [
       "<div>\n",
       "<style scoped>\n",
       "    .dataframe tbody tr th:only-of-type {\n",
       "        vertical-align: middle;\n",
       "    }\n",
       "\n",
       "    .dataframe tbody tr th {\n",
       "        vertical-align: top;\n",
       "    }\n",
       "\n",
       "    .dataframe thead th {\n",
       "        text-align: right;\n",
       "    }\n",
       "</style>\n",
       "<table border=\"1\" class=\"dataframe\">\n",
       "  <thead>\n",
       "    <tr style=\"text-align: right;\">\n",
       "      <th></th>\n",
       "      <th>Open</th>\n",
       "      <th>High</th>\n",
       "      <th>Low</th>\n",
       "      <th>Close</th>\n",
       "      <th>Volume</th>\n",
       "    </tr>\n",
       "    <tr>\n",
       "      <th>Date</th>\n",
       "      <th></th>\n",
       "      <th></th>\n",
       "      <th></th>\n",
       "      <th></th>\n",
       "      <th></th>\n",
       "    </tr>\n",
       "  </thead>\n",
       "  <tbody>\n",
       "    <tr>\n",
       "      <th>2017-07-02</th>\n",
       "      <td>268.066486</td>\n",
       "      <td>293.73</td>\n",
       "      <td>253.23</td>\n",
       "      <td>268.202162</td>\n",
       "      <td>8.084631e+07</td>\n",
       "    </tr>\n",
       "    <tr>\n",
       "      <th>2017-07-09</th>\n",
       "      <td>261.337024</td>\n",
       "      <td>285.00</td>\n",
       "      <td>231.25</td>\n",
       "      <td>261.062083</td>\n",
       "      <td>2.246746e+08</td>\n",
       "    </tr>\n",
       "    <tr>\n",
       "      <th>2017-07-16</th>\n",
       "      <td>196.193214</td>\n",
       "      <td>240.33</td>\n",
       "      <td>130.26</td>\n",
       "      <td>195.698393</td>\n",
       "      <td>5.017750e+08</td>\n",
       "    </tr>\n",
       "    <tr>\n",
       "      <th>2017-07-23</th>\n",
       "      <td>212.351429</td>\n",
       "      <td>249.40</td>\n",
       "      <td>153.25</td>\n",
       "      <td>212.783750</td>\n",
       "      <td>7.221637e+08</td>\n",
       "    </tr>\n",
       "    <tr>\n",
       "      <th>2017-07-30</th>\n",
       "      <td>203.496190</td>\n",
       "      <td>229.99</td>\n",
       "      <td>178.03</td>\n",
       "      <td>203.309524</td>\n",
       "      <td>2.657305e+08</td>\n",
       "    </tr>\n",
       "    <tr>\n",
       "      <th>...</th>\n",
       "      <td>...</td>\n",
       "      <td>...</td>\n",
       "      <td>...</td>\n",
       "      <td>...</td>\n",
       "      <td>...</td>\n",
       "    </tr>\n",
       "    <tr>\n",
       "      <th>2020-02-16</th>\n",
       "      <td>255.021667</td>\n",
       "      <td>290.00</td>\n",
       "      <td>216.31</td>\n",
       "      <td>255.198452</td>\n",
       "      <td>3.912867e+08</td>\n",
       "    </tr>\n",
       "    <tr>\n",
       "      <th>2020-02-23</th>\n",
       "      <td>265.220833</td>\n",
       "      <td>287.13</td>\n",
       "      <td>242.36</td>\n",
       "      <td>265.321905</td>\n",
       "      <td>3.067838e+08</td>\n",
       "    </tr>\n",
       "    <tr>\n",
       "      <th>2020-03-01</th>\n",
       "      <td>236.720536</td>\n",
       "      <td>278.13</td>\n",
       "      <td>209.26</td>\n",
       "      <td>236.373988</td>\n",
       "      <td>3.693920e+08</td>\n",
       "    </tr>\n",
       "    <tr>\n",
       "      <th>2020-03-08</th>\n",
       "      <td>229.923571</td>\n",
       "      <td>253.01</td>\n",
       "      <td>196.00</td>\n",
       "      <td>229.817619</td>\n",
       "      <td>2.736569e+08</td>\n",
       "    </tr>\n",
       "    <tr>\n",
       "      <th>2020-03-15</th>\n",
       "      <td>176.937521</td>\n",
       "      <td>208.65</td>\n",
       "      <td>90.00</td>\n",
       "      <td>176.332821</td>\n",
       "      <td>4.983998e+08</td>\n",
       "    </tr>\n",
       "  </tbody>\n",
       "</table>\n",
       "<p>142 rows × 5 columns</p>\n",
       "</div>"
      ],
      "text/plain": [
       "                  Open    High     Low       Close        Volume\n",
       "Date                                                            \n",
       "2017-07-02  268.066486  293.73  253.23  268.202162  8.084631e+07\n",
       "2017-07-09  261.337024  285.00  231.25  261.062083  2.246746e+08\n",
       "2017-07-16  196.193214  240.33  130.26  195.698393  5.017750e+08\n",
       "2017-07-23  212.351429  249.40  153.25  212.783750  7.221637e+08\n",
       "2017-07-30  203.496190  229.99  178.03  203.309524  2.657305e+08\n",
       "...                ...     ...     ...         ...           ...\n",
       "2020-02-16  255.021667  290.00  216.31  255.198452  3.912867e+08\n",
       "2020-02-23  265.220833  287.13  242.36  265.321905  3.067838e+08\n",
       "2020-03-01  236.720536  278.13  209.26  236.373988  3.693920e+08\n",
       "2020-03-08  229.923571  253.01  196.00  229.817619  2.736569e+08\n",
       "2020-03-15  176.937521  208.65   90.00  176.332821  4.983998e+08\n",
       "\n",
       "[142 rows x 5 columns]"
      ]
     },
     "execution_count": 133,
     "metadata": {},
     "output_type": "execute_result"
    }
   ],
   "source": [
    "resampled_df1.agg({\n",
    "    \"Open\":\"mean\",\n",
    "    \"High\":\"max\",\n",
    "    \"Low\":\"min\",\n",
    "    \"Close\":\"mean\",\n",
    "    \"Volume\":\"sum\"\n",
    "})"
   ]
  },
  {
   "cell_type": "markdown",
   "id": "ccf24a4b-512a-47cc-ac85-4396e6a02145",
   "metadata": {},
   "source": [
    "### Types of sampling"
   ]
  },
  {
   "cell_type": "markdown",
   "id": "820b1cc8-737f-4dea-96f0-76d304ed3be8",
   "metadata": {},
   "source": [
    "1. **Down-Sampling**\n",
    "2. **Up-Sampling**"
   ]
  },
  {
   "cell_type": "markdown",
   "id": "1ca62f36-2582-4262-8fbc-3c5511a276fe",
   "metadata": {},
   "source": [
    "#### 1. Down-Sampling:\n",
    "from higher to lower frequency (e.g., daily → monthly)"
   ]
  },
  {
   "cell_type": "code",
   "execution_count": 143,
   "id": "23224d67-b45e-402f-aad0-71c04c302c2d",
   "metadata": {},
   "outputs": [
    {
     "data": {
      "text/plain": [
       "Date\n",
       "2017-01-01    354.775251\n",
       "2018-01-01    484.673551\n",
       "2019-01-01    181.766612\n",
       "2020-01-01    199.030543\n",
       "Freq: YS-JAN, Name: High, dtype: float64"
      ]
     },
     "execution_count": 143,
     "metadata": {},
     "output_type": "execute_result"
    }
   ],
   "source": [
    "df1.resample(\"YS\")[\"High\"].mean() #day and month doest matter it is mean of whole year"
   ]
  },
  {
   "cell_type": "markdown",
   "id": "70794c0a-f0ba-4129-b623-b9007605201d",
   "metadata": {},
   "source": [
    "#### 2. Up-Sampling:\n",
    "from lower to higher frequency (e.g., monthly → daily)\n",
    "\n"
   ]
  },
  {
   "cell_type": "code",
   "execution_count": 156,
   "id": "8fd50334-d94b-46a2-bde5-1441344e79c3",
   "metadata": {},
   "outputs": [
    {
     "name": "stderr",
     "output_type": "stream",
     "text": [
      "C:\\Users\\AK\\AppData\\Local\\Temp\\ipykernel_8380\\15780440.py:2: FutureWarning: 'T' is deprecated and will be removed in a future version, please use 'min' instead.\n",
      "  df1.loc[\"2020-01-01\":\"2020-01-01\"].resample(\"T\")[\"High\"].mean()\n"
     ]
    },
    {
     "data": {
      "text/plain": [
       "Date\n",
       "2020-01-01 00:00:00    128.54\n",
       "2020-01-01 00:01:00       NaN\n",
       "2020-01-01 00:02:00       NaN\n",
       "2020-01-01 00:03:00       NaN\n",
       "2020-01-01 00:04:00       NaN\n",
       "                        ...  \n",
       "2020-01-01 22:56:00       NaN\n",
       "2020-01-01 22:57:00       NaN\n",
       "2020-01-01 22:58:00       NaN\n",
       "2020-01-01 22:59:00       NaN\n",
       "2020-01-01 23:00:00    130.27\n",
       "Freq: min, Name: High, Length: 1381, dtype: float64"
      ]
     },
     "execution_count": 156,
     "metadata": {},
     "output_type": "execute_result"
    }
   ],
   "source": [
    "# Up-sample to minutely (will fill with NaN by default)\n",
    "df1.loc[\"2020-01-01\":\"2020-01-01\"].resample(\"T\")[\"High\"].mean()"
   ]
  },
  {
   "cell_type": "code",
   "execution_count": 160,
   "id": "9c2e6013-65fb-4e0d-abfb-2788d6b9e785",
   "metadata": {},
   "outputs": [
    {
     "data": {
      "text/plain": [
       "Date\n",
       "2020-01-01 00:00:00    128.54\n",
       "2020-01-01 00:01:00    128.54\n",
       "2020-01-01 00:02:00    128.54\n",
       "2020-01-01 00:03:00    128.54\n",
       "2020-01-01 00:04:00    128.54\n",
       "                        ...  \n",
       "2020-01-01 22:56:00    131.41\n",
       "2020-01-01 22:57:00    131.41\n",
       "2020-01-01 22:58:00    131.41\n",
       "2020-01-01 22:59:00    131.41\n",
       "2020-01-01 23:00:00    130.27\n",
       "Freq: min, Name: High, Length: 1381, dtype: float64"
      ]
     },
     "execution_count": 160,
     "metadata": {},
     "output_type": "execute_result"
    }
   ],
   "source": [
    "# Optionally fill missing data\n",
    "df1.loc[\"2020-01-01\":\"2020-01-01\"].resample(\"min\")[\"High\"].mean().ffill()"
   ]
  },
  {
   "cell_type": "markdown",
   "id": "f0773423-92ef-4dd6-9497-98b317a25eb4",
   "metadata": {},
   "source": [
    "## Time Shifting and Lagging"
   ]
  },
  {
   "cell_type": "markdown",
   "id": "6742f1f1-100f-4516-8890-b0dfc54bd51e",
   "metadata": {},
   "source": [
    "Time shifting moves data values forward or backward in time."
   ]
  },
  {
   "cell_type": "code",
   "execution_count": 169,
   "id": "b0c088d3-79b4-4d92-9d7d-5d21bcd6bdcd",
   "metadata": {},
   "outputs": [
    {
     "name": "stdout",
     "output_type": "stream",
     "text": [
      "Original:\n",
      "2023-01-01    10\n",
      "2023-01-02    20\n",
      "2023-01-03    30\n",
      "2023-01-04    40\n",
      "2023-01-05    50\n",
      "Freq: D, dtype: int64\n"
     ]
    }
   ],
   "source": [
    "dates = pd.date_range('2023-01-01', periods=5, freq='D')\n",
    "data = pd.Series([10, 20, 30, 40, 50], index=dates)\n",
    "print(\"Original:\\n\",data,sep=\"\")"
   ]
  },
  {
   "cell_type": "code",
   "execution_count": 170,
   "id": "b17bc999-96d4-4f70-9d07-9bd461cbbdf8",
   "metadata": {},
   "outputs": [
    {
     "data": {
      "text/plain": [
       "2023-01-01     NaN\n",
       "2023-01-02    10.0\n",
       "2023-01-03    20.0\n",
       "2023-01-04    30.0\n",
       "2023-01-05    40.0\n",
       "Freq: D, dtype: float64"
      ]
     },
     "execution_count": 170,
     "metadata": {},
     "output_type": "execute_result"
    }
   ],
   "source": [
    "data.shift(1)"
   ]
  },
  {
   "cell_type": "code",
   "execution_count": 175,
   "id": "52f7ff5c-5ce8-4313-9bf1-243b429900be",
   "metadata": {},
   "outputs": [
    {
     "data": {
      "text/plain": [
       "2023-01-01    20.0\n",
       "2023-01-02    30.0\n",
       "2023-01-03    40.0\n",
       "2023-01-04    50.0\n",
       "2023-01-05     NaN\n",
       "Freq: D, dtype: float64"
      ]
     },
     "execution_count": 175,
     "metadata": {},
     "output_type": "execute_result"
    }
   ],
   "source": [
    "data.shift(-1)"
   ]
  },
  {
   "cell_type": "markdown",
   "id": "e12709a5-16b0-48a8-8036-b83bccd2e2b5",
   "metadata": {},
   "source": [
    "| Use Case                  | Method                 |\n",
    "| ------------------------- | ---------------------- |\n",
    "| Find day-to-day change    | `data - data.shift(1)` |\n",
    "| Predict future using past | Lag features           |\n",
    "| Detect patterns (trend)   | Use multiple lags      |\n",
    "| Time delay correlation    | Lagging helps check    |\n"
   ]
  },
  {
   "cell_type": "markdown",
   "id": "f68bfbd8-34fd-4d83-99f3-44adf13b2993",
   "metadata": {},
   "source": [
    "## Rolling Window Operations (Moving Averages)\n",
    "Rolling window operations are used to apply a function over a sliding window of your time series data — commonly used for smoothing, trend detection, or volatility analysis."
   ]
  },
  {
   "cell_type": "code",
   "execution_count": 177,
   "id": "eb29d8c2-9e94-4604-b776-fa8e2ed19783",
   "metadata": {},
   "outputs": [
    {
     "data": {
      "text/plain": [
       "2023-01-01    10\n",
       "2023-01-02    20\n",
       "2023-01-03    30\n",
       "2023-01-04    40\n",
       "2023-01-05    50\n",
       "2023-01-06    60\n",
       "Freq: D, dtype: int64"
      ]
     },
     "execution_count": 177,
     "metadata": {},
     "output_type": "execute_result"
    }
   ],
   "source": [
    "data = pd.Series(\n",
    "    [10, 20, 30, 40, 50, 60],\n",
    "    index=pd.date_range('2023-01-01', periods=6, freq='D')\n",
    ")\n",
    "data"
   ]
  },
  {
   "cell_type": "code",
   "execution_count": 179,
   "id": "77bc1284-6f7f-4948-bb80-04066d14aa22",
   "metadata": {},
   "outputs": [
    {
     "data": {
      "text/plain": [
       "2023-01-01     NaN\n",
       "2023-01-02     NaN\n",
       "2023-01-03    20.0\n",
       "2023-01-04    30.0\n",
       "2023-01-05    40.0\n",
       "2023-01-06    50.0\n",
       "Freq: D, dtype: float64"
      ]
     },
     "execution_count": 179,
     "metadata": {},
     "output_type": "execute_result"
    }
   ],
   "source": [
    "data.rolling(3).mean()"
   ]
  },
  {
   "cell_type": "code",
   "execution_count": 182,
   "id": "5c4a5187-8308-475c-b8a8-5f638037796f",
   "metadata": {},
   "outputs": [
    {
     "data": {
      "text/plain": [
       "2023-01-01      NaN\n",
       "2023-01-02     30.0\n",
       "2023-01-03     50.0\n",
       "2023-01-04     70.0\n",
       "2023-01-05     90.0\n",
       "2023-01-06    110.0\n",
       "Freq: D, dtype: float64"
      ]
     },
     "execution_count": 182,
     "metadata": {},
     "output_type": "execute_result"
    }
   ],
   "source": [
    "data.rolling(2).sum()"
   ]
  },
  {
   "cell_type": "code",
   "execution_count": 183,
   "id": "e575c6a3-76fd-47e6-b943-be700857ae37",
   "metadata": {},
   "outputs": [
    {
     "data": {
      "text/plain": [
       "2023-01-01      NaN\n",
       "2023-01-02      NaN\n",
       "2023-01-03     60.0\n",
       "2023-01-04     90.0\n",
       "2023-01-05    120.0\n",
       "2023-01-06    150.0\n",
       "Freq: D, dtype: float64"
      ]
     },
     "execution_count": 183,
     "metadata": {},
     "output_type": "execute_result"
    }
   ],
   "source": [
    "data.rolling(window=3).sum()     # Rolling sum"
   ]
  },
  {
   "cell_type": "code",
   "execution_count": 184,
   "id": "e8b009e0-7754-4a33-95cd-0886bc418851",
   "metadata": {},
   "outputs": [
    {
     "data": {
      "text/plain": [
       "2023-01-01     NaN\n",
       "2023-01-02     NaN\n",
       "2023-01-03    10.0\n",
       "2023-01-04    10.0\n",
       "2023-01-05    10.0\n",
       "2023-01-06    10.0\n",
       "Freq: D, dtype: float64"
      ]
     },
     "execution_count": 184,
     "metadata": {},
     "output_type": "execute_result"
    }
   ],
   "source": [
    "data.rolling(window=3).std()     # Rolling standard deviation"
   ]
  },
  {
   "cell_type": "code",
   "execution_count": 185,
   "id": "aeee25e4-6631-44b7-ac04-eb3f215084a5",
   "metadata": {},
   "outputs": [
    {
     "data": {
      "text/plain": [
       "2023-01-01     NaN\n",
       "2023-01-02     NaN\n",
       "2023-01-03    30.0\n",
       "2023-01-04    40.0\n",
       "2023-01-05    50.0\n",
       "2023-01-06    60.0\n",
       "Freq: D, dtype: float64"
      ]
     },
     "execution_count": 185,
     "metadata": {},
     "output_type": "execute_result"
    }
   ],
   "source": [
    "data.rolling(window=3).max()     # Rolling max"
   ]
  },
  {
   "cell_type": "code",
   "execution_count": 186,
   "id": "ac44670f-e7f9-4121-ae27-ccf301afe35a",
   "metadata": {},
   "outputs": [
    {
     "data": {
      "text/plain": [
       "2023-01-01     NaN\n",
       "2023-01-02     NaN\n",
       "2023-01-03    10.0\n",
       "2023-01-04    20.0\n",
       "2023-01-05    30.0\n",
       "2023-01-06    40.0\n",
       "Freq: D, dtype: float64"
      ]
     },
     "execution_count": 186,
     "metadata": {},
     "output_type": "execute_result"
    }
   ],
   "source": [
    "data.rolling(window=3).min()     # Rolling min"
   ]
  },
  {
   "cell_type": "code",
   "execution_count": 189,
   "id": "8153e8fc-bdf6-4fa6-b39d-82e2f57c06da",
   "metadata": {},
   "outputs": [
    {
     "data": {
      "image/png": "[encoded data removed]",
      "text/plain": [
       "<Figure size 640x480 with 1 Axes>"
      ]
     },
     "metadata": {},
     "output_type": "display_data"
    }
   ],
   "source": [
    "data.plot(label=\"Original\", linestyle=\"--\", marker=\"o\")\n",
    "data.rolling(window=3).mean().plot(label=\"3-Day Moving Average\")\n",
    "plt.legend()\n",
    "plt.title(\"Rolling Mean Example\")\n",
    "plt.grid(True)\n",
    "plt.show()"
   ]
  },
  {
   "cell_type": "markdown",
   "id": "33c5a57a-63d0-4722-a3f6-cea9ea4b296d",
   "metadata": {},
   "source": [
    "| Goal                           | Use Rolling...                        |\n",
    "| ------------------------------ | ------------------------------------- |\n",
    "| Smooth noisy time series       | `rolling().mean()`                    |\n",
    "| Detect volatility              | `rolling().std()`                     |\n",
    "| Create lagged features         | `rolling().mean().shift(1)`           |\n",
    "| Calculate financial indicators | e.g., moving average, Bollinger bands |\n"
   ]
  },
  {
   "cell_type": "code",
   "execution_count": null,
   "id": "7e116620-74c8-4e57-a34f-b4d90c4278fc",
   "metadata": {},
   "outputs": [],
   "source": []
  }
 ],
 "metadata": {
  "kernelspec": {
   "display_name": "Python 3 (ipykernel)",
   "language": "python",
   "name": "python3"
  },
  "language_info": {
   "codemirror_mode": {
    "name": "ipython",
    "version": 3
   },
   "file_extension": ".py",
   "mimetype": "text/x-python",
   "name": "python",
   "nbconvert_exporter": "python",
   "pygments_lexer": "ipython3",
   "version": "3.11.5"
  }
 },
 "nbformat": 4,
 "nbformat_minor": 5
}
