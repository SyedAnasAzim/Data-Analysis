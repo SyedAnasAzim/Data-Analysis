{
 "cells": [
  {
   "cell_type": "code",
   "execution_count": 1,
   "id": "d1c9a8e9-1329-4b3d-a4f2-c01394806dad",
   "metadata": {},
   "outputs": [],
   "source": [
    "import pandas as pd\n",
    "import numpy as np"
   ]
  },
  {
   "cell_type": "code",
   "execution_count": 2,
   "id": "0d6f3e4e-ebc5-4039-89a1-f13dc63af63f",
   "metadata": {},
   "outputs": [
    {
     "data": {
      "text/plain": [
       "0    Pakistan\n",
       "1       India\n",
       "2         USA\n",
       "dtype: object"
      ]
     },
     "execution_count": 2,
     "metadata": {},
     "output_type": "execute_result"
    }
   ],
   "source": [
    "#string\n",
    "obj = pd.Series([\"Pakistan\",\"India\",\"USA\"])\n",
    "obj#mostly dtpye is object for str"
   ]
  },
  {
   "cell_type": "code",
   "execution_count": 3,
   "id": "9c2f6a9a-0356-4091-a5fb-fc14e6e6f04b",
   "metadata": {},
   "outputs": [
    {
     "data": {
      "text/plain": [
       "Math    54\n",
       "Bio     64\n",
       "DLD     67\n",
       "CP      66\n",
       "dtype: int64"
      ]
     },
     "execution_count": 3,
     "metadata": {},
     "output_type": "execute_result"
    }
   ],
   "source": [
    "marks = pd.Series([54,64,67,66],index=[\"Math\",\"Bio\",\"DLD\",\"CP\"])\n",
    "marks"
   ]
  },
  {
   "cell_type": "code",
   "execution_count": 4,
   "id": "e8736fec-0e8e-4288-a36a-3b66abcac52c",
   "metadata": {},
   "outputs": [
    {
     "data": {
      "text/plain": [
       "Messi      857\n",
       "Ronaldo    952\n",
       "Pele       776\n",
       "Dinho      203\n",
       "dtype: int64"
      ]
     },
     "execution_count": 4,
     "metadata": {},
     "output_type": "execute_result"
    }
   ],
   "source": [
    "#series using dict\n",
    "goals = {\n",
    "    \"Messi\":857,\n",
    "    \"Ronaldo\":952,\n",
    "    \"Pele\":776,\n",
    "    \"Dinho\":203\n",
    "}\n",
    "goals_by_players = pd.Series(goals)\n",
    "goals_by_players\n",
    "#keys --> index and value --> value"
   ]
  },
  {
   "cell_type": "markdown",
   "id": "5a2a2a68-1f34-4d6a-9f05-577027e0a674",
   "metadata": {},
   "source": [
    "The name of a Series becomes its index or column name if it is used to form a DataFrame. It is also used whenever displaying the Series using the interpreter."
   ]
  },
  {
   "cell_type": "code",
   "execution_count": 5,
   "id": "8e866640-85ff-4246-bce2-36dd737b5de1",
   "metadata": {},
   "outputs": [
    {
     "data": {
      "text/plain": [
       "4"
      ]
     },
     "execution_count": 5,
     "metadata": {},
     "output_type": "execute_result"
    }
   ],
   "source": [
    "#size-->attribute\n",
    "#tells how many items are there in series\n",
    "goals_by_players.size"
   ]
  },
  {
   "cell_type": "code",
   "execution_count": 6,
   "id": "4e198903-642c-48ae-9502-cd4a90580c77",
   "metadata": {},
   "outputs": [
    {
     "data": {
      "text/plain": [
       "dtype('int64')"
      ]
     },
     "execution_count": 6,
     "metadata": {},
     "output_type": "execute_result"
    }
   ],
   "source": [
    "#dtype-->attribute\n",
    "goals_by_players.dtype\n"
   ]
  },
  {
   "cell_type": "code",
   "execution_count": 7,
   "id": "4dfbf003-5537-410d-90e8-8ddf8ec9f78e",
   "metadata": {},
   "outputs": [
    {
     "data": {
      "text/plain": [
       "'Scorers'"
      ]
     },
     "execution_count": 7,
     "metadata": {},
     "output_type": "execute_result"
    }
   ],
   "source": [
    "#name-->attribute\n",
    "goals_by_players.name = \"Scorers\"\n",
    "goals_by_players.name"
   ]
  },
  {
   "cell_type": "code",
   "execution_count": 8,
   "id": "197bad3c-a530-4c51-9c1f-54a6f1beae65",
   "metadata": {},
   "outputs": [
    {
     "data": {
      "text/plain": [
       "False"
      ]
     },
     "execution_count": 8,
     "metadata": {},
     "output_type": "execute_result"
    }
   ],
   "source": [
    "#is_unique-->attribute\n",
    "pd.Series([1,2,1,2]).is_unique"
   ]
  },
  {
   "cell_type": "code",
   "execution_count": 9,
   "id": "781842ec-e8e4-4b93-95c5-3d26572ec23d",
   "metadata": {},
   "outputs": [
    {
     "data": {
      "text/plain": [
       "Index(['Messi', 'Ronaldo', 'Pele', 'Dinho'], dtype='object')"
      ]
     },
     "execution_count": 9,
     "metadata": {},
     "output_type": "execute_result"
    }
   ],
   "source": [
    "#index\n",
    "goals_by_players.index"
   ]
  },
  {
   "cell_type": "code",
   "execution_count": 10,
   "id": "0dfd310a-5d20-46bc-87ef-423542a1c5dc",
   "metadata": {},
   "outputs": [
    {
     "data": {
      "text/plain": [
       "RangeIndex(start=0, stop=4, step=1)"
      ]
     },
     "execution_count": 10,
     "metadata": {},
     "output_type": "execute_result"
    }
   ],
   "source": [
    "pd.Series([1,2,1,2]).index"
   ]
  },
  {
   "cell_type": "code",
   "execution_count": 11,
   "id": "0e7ba793-0d7d-43fb-9a6d-53994b3f9286",
   "metadata": {},
   "outputs": [
    {
     "data": {
      "text/plain": [
       "array([857, 952, 776, 203], dtype=int64)"
      ]
     },
     "execution_count": 11,
     "metadata": {},
     "output_type": "execute_result"
    }
   ],
   "source": [
    "goals_by_players.values #returns numpy array"
   ]
  },
  {
   "cell_type": "markdown",
   "id": "d56cc4a2-0cfc-42ab-b925-34819eca12e3",
   "metadata": {},
   "source": [
    "Whenever read_csv function gets the data , gets it in the form of dataframe not series"
   ]
  },
  {
   "cell_type": "markdown",
   "id": "0dbf9372-2594-4ca1-b5bb-4249259d6c44",
   "metadata": {},
   "source": [
    "### with one column"
   ]
  },
  {
   "cell_type": "code",
   "execution_count": 12,
   "id": "bd52b715-0363-4f43-a1c2-271d5d0eee04",
   "metadata": {},
   "outputs": [
    {
     "data": {
      "text/html": [
       "<div>\n",
       "<style scoped>\n",
       "    .dataframe tbody tr th:only-of-type {\n",
       "        vertical-align: middle;\n",
       "    }\n",
       "\n",
       "    .dataframe tbody tr th {\n",
       "        vertical-align: top;\n",
       "    }\n",
       "\n",
       "    .dataframe thead th {\n",
       "        text-align: right;\n",
       "    }\n",
       "</style>\n",
       "<table border=\"1\" class=\"dataframe\">\n",
       "  <thead>\n",
       "    <tr style=\"text-align: right;\">\n",
       "      <th></th>\n",
       "      <th>Subscribers gained</th>\n",
       "    </tr>\n",
       "  </thead>\n",
       "  <tbody>\n",
       "    <tr>\n",
       "      <th>0</th>\n",
       "      <td>48</td>\n",
       "    </tr>\n",
       "    <tr>\n",
       "      <th>1</th>\n",
       "      <td>57</td>\n",
       "    </tr>\n",
       "    <tr>\n",
       "      <th>2</th>\n",
       "      <td>40</td>\n",
       "    </tr>\n",
       "    <tr>\n",
       "      <th>3</th>\n",
       "      <td>43</td>\n",
       "    </tr>\n",
       "    <tr>\n",
       "      <th>4</th>\n",
       "      <td>44</td>\n",
       "    </tr>\n",
       "    <tr>\n",
       "      <th>...</th>\n",
       "      <td>...</td>\n",
       "    </tr>\n",
       "    <tr>\n",
       "      <th>360</th>\n",
       "      <td>231</td>\n",
       "    </tr>\n",
       "    <tr>\n",
       "      <th>361</th>\n",
       "      <td>226</td>\n",
       "    </tr>\n",
       "    <tr>\n",
       "      <th>362</th>\n",
       "      <td>155</td>\n",
       "    </tr>\n",
       "    <tr>\n",
       "      <th>363</th>\n",
       "      <td>144</td>\n",
       "    </tr>\n",
       "    <tr>\n",
       "      <th>364</th>\n",
       "      <td>172</td>\n",
       "    </tr>\n",
       "  </tbody>\n",
       "</table>\n",
       "<p>365 rows × 1 columns</p>\n",
       "</div>"
      ],
      "text/plain": [
       "     Subscribers gained\n",
       "0                    48\n",
       "1                    57\n",
       "2                    40\n",
       "3                    43\n",
       "4                    44\n",
       "..                  ...\n",
       "360                 231\n",
       "361                 226\n",
       "362                 155\n",
       "363                 144\n",
       "364                 172\n",
       "\n",
       "[365 rows x 1 columns]"
      ]
     },
     "execution_count": 12,
     "metadata": {},
     "output_type": "execute_result"
    }
   ],
   "source": [
    "#with one column\n",
    "obj = pd.read_csv(\"01/subs.csv\")\n",
    "type(obj)\n",
    "obj"
   ]
  },
  {
   "cell_type": "markdown",
   "id": "3bd0a8a9-405b-45d9-8476-b6754bf52c93",
   "metadata": {},
   "source": [
    "to convert it into we use squeeze function of read_csv. This will convert the DataFrame into a Series only if the CSV file contains a single column. Otherwise, it remains a DataFrame."
   ]
  },
  {
   "cell_type": "code",
   "execution_count": 13,
   "id": "87940552-ca9b-4bcb-99fe-6056a8ecf3dd",
   "metadata": {},
   "outputs": [
    {
     "data": {
      "text/plain": [
       "pandas.core.frame.DataFrame"
      ]
     },
     "execution_count": 13,
     "metadata": {},
     "output_type": "execute_result"
    }
   ],
   "source": [
    "subs = pd.read_csv(\"01/subs.csv\").squeeze(\"columns\")\n",
    "type(obj)"
   ]
  },
  {
   "cell_type": "code",
   "execution_count": 14,
   "id": "13576115-d3c2-4256-896a-65077b806a47",
   "metadata": {},
   "outputs": [
    {
     "data": {
      "text/plain": [
       "0       48\n",
       "1       57\n",
       "2       40\n",
       "3       43\n",
       "4       44\n",
       "      ... \n",
       "360    231\n",
       "361    226\n",
       "362    155\n",
       "363    144\n",
       "364    172\n",
       "Name: Subscribers gained, Length: 365, dtype: int64"
      ]
     },
     "execution_count": 14,
     "metadata": {},
     "output_type": "execute_result"
    }
   ],
   "source": [
    "subs"
   ]
  },
  {
   "cell_type": "markdown",
   "id": "66f42ff0-27f7-4d69-86d8-631c38bacf11",
   "metadata": {},
   "source": [
    "### with multiple column"
   ]
  },
  {
   "cell_type": "markdown",
   "id": "d7e0384a-4577-4464-ba67-699c3a937c6d",
   "metadata": {},
   "source": [
    "here index_col attribute makes the column \"match_no into index\""
   ]
  },
  {
   "cell_type": "code",
   "execution_count": 167,
   "id": "126ff2a9-5a5f-41de-aa64-e20064201f14",
   "metadata": {},
   "outputs": [
    {
     "data": {
      "text/plain": [
       "match_no\n",
       "211     0\n",
       "212    20\n",
       "213    73\n",
       "214    25\n",
       "215     7\n",
       "Name: runs, dtype: int64"
      ]
     },
     "execution_count": 167,
     "metadata": {},
     "output_type": "execute_result"
    }
   ],
   "source": [
    "runs = pd.read_csv(\"01/kohli_ipl.csv\",index_col=\"match_no\").squeeze(\"columns\")\n",
    "runs.tail()"
   ]
  },
  {
   "cell_type": "markdown",
   "id": "a4b751d8-fcc0-4594-9a76-efc7bb999871",
   "metadata": {},
   "source": [
    "Others ways to do it with not just 2 columns but multiple columns"
   ]
  },
  {
   "cell_type": "code",
   "execution_count": 16,
   "id": "b3c20161-2b6c-479e-a394-a645f28d7c83",
   "metadata": {},
   "outputs": [],
   "source": [
    "# obj = pd.read_csv(\"01/subs.csv\", usecols=[\"column_name\"]).squeeze()\n",
    "# df = pd.read_csv(\"01/subs.csv\")\n",
    "# obj = df.iloc[:, 0]  # Extract the first column as a Series"
   ]
  },
  {
   "cell_type": "code",
   "execution_count": 17,
   "id": "15a8439e-9d5e-409f-b033-0b7261965baa",
   "metadata": {},
   "outputs": [
    {
     "data": {
      "text/plain": [
       "movie\n",
       "Uri: The Surgical Strike                   Vicky Kaushal\n",
       "Battalion 609                                Vicky Ahuja\n",
       "The Accidental Prime Minister (film)         Anupam Kher\n",
       "Why Cheat India                            Emraan Hashmi\n",
       "Evening Shadows                         Mona Ambegaonkar\n",
       "Name: lead, dtype: object"
      ]
     },
     "execution_count": 17,
     "metadata": {},
     "output_type": "execute_result"
    }
   ],
   "source": [
    "movies = pd.read_csv(\"01/bollywood.csv\",index_col=\"movie\").squeeze(\"columns\")\n",
    "movies.head()"
   ]
  },
  {
   "cell_type": "markdown",
   "id": "1332382c-28c2-4be1-8321-0e9f55a4ca32",
   "metadata": {},
   "source": [
    "name will alawys be the column of the value"
   ]
  },
  {
   "cell_type": "markdown",
   "id": "c5e9c506-bf6f-44da-a403-f1be0d159c19",
   "metadata": {},
   "source": [
    "### sample"
   ]
  },
  {
   "cell_type": "markdown",
   "id": "a21c6f57-4f25-43a4-be6f-6b8917baae3f",
   "metadata": {},
   "source": [
    "It randoming pick a row item us"
   ]
  },
  {
   "cell_type": "code",
   "execution_count": 18,
   "id": "13c818f6-0213-448e-b126-3d6ce25a52e1",
   "metadata": {},
   "outputs": [
    {
     "data": {
      "text/plain": [
       "movie\n",
       "Dil Diya Hai    Emraan Hashmi\n",
       "Name: lead, dtype: object"
      ]
     },
     "execution_count": 18,
     "metadata": {},
     "output_type": "execute_result"
    }
   ],
   "source": [
    "movies.sample() #default --> 1"
   ]
  },
  {
   "cell_type": "code",
   "execution_count": 19,
   "id": "73af34c3-2352-46b5-9bcc-fc56ced75250",
   "metadata": {},
   "outputs": [
    {
     "data": {
      "text/plain": [
       "movie\n",
       "Bumm Bumm Bole             Atul Kulkarni\n",
       "Bombay Talkies (film)       Rani Mukerji\n",
       "Setters (film)           Shreyas Talpade\n",
       "Name: lead, dtype: object"
      ]
     },
     "execution_count": 19,
     "metadata": {},
     "output_type": "execute_result"
    }
   ],
   "source": [
    "movies.sample(3)"
   ]
  },
  {
   "cell_type": "markdown",
   "id": "5d953437-889c-4a7f-ace2-f3098b49f6fb",
   "metadata": {},
   "source": [
    "### value_counts"
   ]
  },
  {
   "cell_type": "markdown",
   "id": "3156d2a1-b9f4-4c79-8a6e-6da0df4f776c",
   "metadata": {},
   "source": [
    "tells the frequency of a item in descending"
   ]
  },
  {
   "cell_type": "code",
   "execution_count": 20,
   "id": "799765c9-f2c5-4848-afd7-c4de13e75410",
   "metadata": {},
   "outputs": [
    {
     "data": {
      "text/plain": [
       "lead\n",
       "Akshay Kumar        48\n",
       "Amitabh Bachchan    45\n",
       "Ajay Devgn          38\n",
       "Salman Khan         31\n",
       "Sanjay Dutt         26\n",
       "                    ..\n",
       "Diganth              1\n",
       "Parveen Kaur         1\n",
       "Seema Azmi           1\n",
       "Akanksha Puri        1\n",
       "Edwin Fernandes      1\n",
       "Name: count, Length: 566, dtype: int64"
      ]
     },
     "execution_count": 20,
     "metadata": {},
     "output_type": "execute_result"
    }
   ],
   "source": [
    "movies.value_counts()"
   ]
  },
  {
   "cell_type": "markdown",
   "id": "0ff4a757-5810-4c82-a39a-469e7362bb4c",
   "metadata": {},
   "source": [
    "### sort_values"
   ]
  },
  {
   "cell_type": "markdown",
   "id": "05fe1780-49c7-445d-a32e-e890276d131a",
   "metadata": {},
   "source": [
    "sort the obj in ascending value"
   ]
  },
  {
   "cell_type": "code",
   "execution_count": 21,
   "id": "d7c8f960-17c5-4ffa-a063-6bbc90fa5287",
   "metadata": {},
   "outputs": [
    {
     "data": {
      "text/plain": [
       "match_no\n",
       "87       0\n",
       "211      0\n",
       "207      0\n",
       "206      0\n",
       "91       0\n",
       "      ... \n",
       "164    100\n",
       "120    100\n",
       "123    108\n",
       "126    109\n",
       "128    113\n",
       "Name: runs, Length: 215, dtype: int64"
      ]
     },
     "execution_count": 21,
     "metadata": {},
     "output_type": "execute_result"
    }
   ],
   "source": [
    "runs.sort_values()"
   ]
  },
  {
   "cell_type": "code",
   "execution_count": 22,
   "id": "2bae7041-105f-4e72-a1ec-df49505445c7",
   "metadata": {},
   "outputs": [
    {
     "data": {
      "text/plain": [
       "113"
      ]
     },
     "execution_count": 22,
     "metadata": {},
     "output_type": "execute_result"
    }
   ],
   "source": [
    "runs.sort_values(ascending=False).head(1).values[0] # to tell the highest score"
   ]
  },
  {
   "cell_type": "markdown",
   "id": "7cb8236d-59f9-498a-9cf1-07299674a554",
   "metadata": {},
   "source": [
    "sort_values make temporary changes not permenant,inplcae could be used to sort permenantly"
   ]
  },
  {
   "cell_type": "code",
   "execution_count": 23,
   "id": "a0da132f-f947-4404-8b7a-4da102633664",
   "metadata": {},
   "outputs": [
    {
     "data": {
      "text/plain": [
       "match_no\n",
       "87       0\n",
       "211      0\n",
       "207      0\n",
       "206      0\n",
       "91       0\n",
       "      ... \n",
       "164    100\n",
       "120    100\n",
       "123    108\n",
       "126    109\n",
       "128    113\n",
       "Name: runs, Length: 215, dtype: int64"
      ]
     },
     "execution_count": 23,
     "metadata": {},
     "output_type": "execute_result"
    }
   ],
   "source": [
    "runs = runs.copy()\n",
    "runs.sort_values(inplace=True)\n",
    "runs"
   ]
  },
  {
   "cell_type": "code",
   "execution_count": 24,
   "id": "b375ef9c-3e1f-4449-b46d-794d0609b4c8",
   "metadata": {},
   "outputs": [
    {
     "data": {
      "text/plain": [
       "match_no\n",
       "87     0\n",
       "211    0\n",
       "207    0\n",
       "206    0\n",
       "91     0\n",
       "Name: runs, dtype: int64"
      ]
     },
     "execution_count": 24,
     "metadata": {},
     "output_type": "execute_result"
    }
   ],
   "source": [
    "runs.head()"
   ]
  },
  {
   "cell_type": "markdown",
   "id": "751685b5-85af-4a93-a272-375fb3a1bcdd",
   "metadata": {},
   "source": [
    "### sort_index"
   ]
  },
  {
   "cell_type": "markdown",
   "id": "593d3a26-e4d9-4f94-bee3-dcb8717de709",
   "metadata": {},
   "source": [
    "sort the index in ascending order"
   ]
  },
  {
   "cell_type": "code",
   "execution_count": 25,
   "id": "bd8325e5-c338-45e5-a256-584ee8b6b60b",
   "metadata": {},
   "outputs": [
    {
     "data": {
      "text/plain": [
       "movie\n",
       "1920 (film)                   Rajniesh Duggall\n",
       "1920: London                     Sharman Joshi\n",
       "1920: The Evil Returns             Vicky Ahuja\n",
       "1971 (2007 film)                Manoj Bajpayee\n",
       "2 States (2014 film)              Arjun Kapoor\n",
       "                                   ...        \n",
       "Zindagi 50-50                      Veena Malik\n",
       "Zindagi Na Milegi Dobara        Hrithik Roshan\n",
       "Zindagi Tere Naam           Mithun Chakraborty\n",
       "Zokkomon                       Darsheel Safary\n",
       "Zor Lagaa Ke...Haiya!            Meghan Jadhav\n",
       "Name: lead, Length: 1500, dtype: object"
      ]
     },
     "execution_count": 25,
     "metadata": {},
     "output_type": "execute_result"
    }
   ],
   "source": [
    "movies.sort_index()"
   ]
  },
  {
   "cell_type": "code",
   "execution_count": 26,
   "id": "e27b207b-b5f8-4425-a5f5-fe5f0deea99c",
   "metadata": {},
   "outputs": [
    {
     "data": {
      "text/plain": [
       "movie\n",
       "Zor Lagaa Ke...Haiya!            Meghan Jadhav\n",
       "Zokkomon                       Darsheel Safary\n",
       "Zindagi Tere Naam           Mithun Chakraborty\n",
       "Zindagi Na Milegi Dobara        Hrithik Roshan\n",
       "Zindagi 50-50                      Veena Malik\n",
       "                                   ...        \n",
       "2 States (2014 film)              Arjun Kapoor\n",
       "1971 (2007 film)                Manoj Bajpayee\n",
       "1920: The Evil Returns             Vicky Ahuja\n",
       "1920: London                     Sharman Joshi\n",
       "1920 (film)                   Rajniesh Duggall\n",
       "Name: lead, Length: 1500, dtype: object"
      ]
     },
     "execution_count": 26,
     "metadata": {},
     "output_type": "execute_result"
    }
   ],
   "source": [
    "movies.sort_index(inplace=True,ascending=False)\n",
    "movies"
   ]
  },
  {
   "cell_type": "code",
   "execution_count": 27,
   "id": "91ea2328-a8cc-43a4-9e52-1e09274b6315",
   "metadata": {},
   "outputs": [
    {
     "data": {
      "text/plain": [
       "movie\n",
       "Zor Lagaa Ke...Haiya!            Meghan Jadhav\n",
       "Zokkomon                       Darsheel Safary\n",
       "Zindagi Tere Naam           Mithun Chakraborty\n",
       "Zindagi Na Milegi Dobara        Hrithik Roshan\n",
       "Zindagi 50-50                      Veena Malik\n",
       "                                   ...        \n",
       "2 States (2014 film)              Arjun Kapoor\n",
       "1971 (2007 film)                Manoj Bajpayee\n",
       "1920: The Evil Returns             Vicky Ahuja\n",
       "1920: London                     Sharman Joshi\n",
       "1920 (film)                   Rajniesh Duggall\n",
       "Name: lead, Length: 1500, dtype: object"
      ]
     },
     "execution_count": 27,
     "metadata": {},
     "output_type": "execute_result"
    }
   ],
   "source": [
    "movies"
   ]
  },
  {
   "cell_type": "markdown",
   "id": "d97d4bf8-0689-433f-b559-7697b6da526f",
   "metadata": {},
   "source": [
    "## Series Math Methods"
   ]
  },
  {
   "cell_type": "markdown",
   "id": "d31e767c-7595-4776-a635-2e644334a686",
   "metadata": {},
   "source": [
    "### count"
   ]
  },
  {
   "cell_type": "markdown",
   "id": "138dd14f-328e-4795-aa74-951137c3663f",
   "metadata": {},
   "source": [
    "returns the count of non-missing values"
   ]
  },
  {
   "cell_type": "code",
   "execution_count": 28,
   "id": "cf1d9efe-4700-4030-a29d-4e965176efcf",
   "metadata": {},
   "outputs": [
    {
     "data": {
      "text/plain": [
       "215"
      ]
     },
     "execution_count": 28,
     "metadata": {},
     "output_type": "execute_result"
    }
   ],
   "source": [
    "runs.count()"
   ]
  },
  {
   "cell_type": "markdown",
   "id": "95f35d96-7311-4054-a997-4435d34e8f04",
   "metadata": {},
   "source": [
    "### sum"
   ]
  },
  {
   "cell_type": "code",
   "execution_count": 29,
   "id": "e775cda1-0215-40ad-9ca0-28669dda1e1d",
   "metadata": {},
   "outputs": [
    {
     "data": {
      "text/plain": [
       "49510"
      ]
     },
     "execution_count": 29,
     "metadata": {},
     "output_type": "execute_result"
    }
   ],
   "source": [
    "subs.sum()"
   ]
  },
  {
   "cell_type": "markdown",
   "id": "3d843694-bb58-496a-bab8-2172070b9b1f",
   "metadata": {},
   "source": [
    "### product"
   ]
  },
  {
   "cell_type": "code",
   "execution_count": 30,
   "id": "0e9dde64-7cee-4c47-a120-04f221c88f06",
   "metadata": {},
   "outputs": [
    {
     "data": {
      "text/plain": [
       "0"
      ]
     },
     "execution_count": 30,
     "metadata": {},
     "output_type": "execute_result"
    }
   ],
   "source": [
    "subs.product()"
   ]
  },
  {
   "cell_type": "markdown",
   "id": "46bd8593-beec-4541-9397-c5156ccbe3b7",
   "metadata": {},
   "source": [
    "### mean,median,mode,std,var"
   ]
  },
  {
   "cell_type": "code",
   "execution_count": 31,
   "id": "571ac602-81d4-46d6-989f-311538c7f4e4",
   "metadata": {},
   "outputs": [
    {
     "data": {
      "text/plain": [
       "135.64383561643837"
      ]
     },
     "execution_count": 31,
     "metadata": {},
     "output_type": "execute_result"
    }
   ],
   "source": [
    "subs.mean()"
   ]
  },
  {
   "cell_type": "code",
   "execution_count": 32,
   "id": "3cc6e712-4ade-49f9-af12-d9d41c3ff359",
   "metadata": {},
   "outputs": [
    {
     "data": {
      "text/plain": [
       "24.0"
      ]
     },
     "execution_count": 32,
     "metadata": {},
     "output_type": "execute_result"
    }
   ],
   "source": [
    "runs.median()"
   ]
  },
  {
   "cell_type": "code",
   "execution_count": 33,
   "id": "8ee47c4b-c61b-4884-be42-1d0b8937e94e",
   "metadata": {},
   "outputs": [
    {
     "data": {
      "text/plain": [
       "0    Akshay Kumar\n",
       "Name: lead, dtype: object"
      ]
     },
     "execution_count": 33,
     "metadata": {},
     "output_type": "execute_result"
    }
   ],
   "source": [
    "movies.mode() #returns most frequenct value"
   ]
  },
  {
   "cell_type": "code",
   "execution_count": 34,
   "id": "3d9852de-56ad-4d3d-b457-648be69f2dd7",
   "metadata": {},
   "outputs": [
    {
     "data": {
      "text/plain": [
       "26.22980132830278"
      ]
     },
     "execution_count": 34,
     "metadata": {},
     "output_type": "execute_result"
    }
   ],
   "source": [
    "runs.std()"
   ]
  },
  {
   "cell_type": "code",
   "execution_count": 35,
   "id": "568600f5-2064-4a8d-8075-cd6b1131b6bc",
   "metadata": {},
   "outputs": [
    {
     "data": {
      "text/plain": [
       "688.0024777222343"
      ]
     },
     "execution_count": 35,
     "metadata": {},
     "output_type": "execute_result"
    }
   ],
   "source": [
    "runs.var() #variance"
   ]
  },
  {
   "cell_type": "markdown",
   "id": "643f6dd9-66d3-4a76-8fad-3fd747945ecd",
   "metadata": {},
   "source": [
    "### min/max"
   ]
  },
  {
   "cell_type": "code",
   "execution_count": 36,
   "id": "460be563-157d-4aa4-83a5-684afb617542",
   "metadata": {},
   "outputs": [
    {
     "data": {
      "text/plain": [
       "33"
      ]
     },
     "execution_count": 36,
     "metadata": {},
     "output_type": "execute_result"
    }
   ],
   "source": [
    "subs.min()"
   ]
  },
  {
   "cell_type": "code",
   "execution_count": 37,
   "id": "9a1d9062-ec73-4c8c-99aa-0e365ee3e48b",
   "metadata": {},
   "outputs": [
    {
     "data": {
      "text/plain": [
       "396"
      ]
     },
     "execution_count": 37,
     "metadata": {},
     "output_type": "execute_result"
    }
   ],
   "source": [
    "subs.max()"
   ]
  },
  {
   "cell_type": "markdown",
   "id": "fcb35709-3bc0-4ebb-9b2e-74af0d13d866",
   "metadata": {},
   "source": [
    "### describe"
   ]
  },
  {
   "cell_type": "markdown",
   "id": "ea20d023-40e5-4e68-b605-284e53148392",
   "metadata": {},
   "source": [
    "gives summary"
   ]
  },
  {
   "cell_type": "code",
   "execution_count": 38,
   "id": "e68d9ef4-35dd-4f25-bfc4-04d0a323e4a0",
   "metadata": {},
   "outputs": [
    {
     "data": {
      "text/plain": [
       "count    215.000000\n",
       "mean      30.855814\n",
       "std       26.229801\n",
       "min        0.000000\n",
       "25%        9.000000\n",
       "50%       24.000000\n",
       "75%       48.000000\n",
       "max      113.000000\n",
       "Name: runs, dtype: float64"
      ]
     },
     "execution_count": 38,
     "metadata": {},
     "output_type": "execute_result"
    }
   ],
   "source": [
    "runs.describe()"
   ]
  },
  {
   "cell_type": "code",
   "execution_count": 39,
   "id": "d16a377b-e42c-4419-a816-8a4429f03a46",
   "metadata": {},
   "outputs": [
    {
     "data": {
      "text/plain": [
       "count    365.000000\n",
       "mean     135.643836\n",
       "std       62.675023\n",
       "min       33.000000\n",
       "25%       88.000000\n",
       "50%      123.000000\n",
       "75%      177.000000\n",
       "max      396.000000\n",
       "Name: Subscribers gained, dtype: float64"
      ]
     },
     "execution_count": 39,
     "metadata": {},
     "output_type": "execute_result"
    }
   ],
   "source": [
    "subs.describe()"
   ]
  },
  {
   "cell_type": "code",
   "execution_count": 40,
   "id": "3b3becd1-74cc-4959-ab0b-2f10b64f3a41",
   "metadata": {},
   "outputs": [
    {
     "data": {
      "text/plain": [
       "match_no\n",
       "1     1\n",
       "3    13\n",
       "5     1\n",
       "7    34\n",
       "2    23\n",
       "Name: runs, dtype: int64"
      ]
     },
     "execution_count": 40,
     "metadata": {},
     "output_type": "execute_result"
    }
   ],
   "source": [
    "#Fancing Indexing\n",
    "runs[[1,3,5,7,2]]"
   ]
  },
  {
   "cell_type": "code",
   "execution_count": 41,
   "id": "d6f5a9f1-850b-41c4-89cc-9af3b94ccb37",
   "metadata": {},
   "outputs": [
    {
     "data": {
      "text/plain": [
       "Math    54\n",
       "Bio     64\n",
       "DLD     67\n",
       "CP      66\n",
       "dtype: int64"
      ]
     },
     "execution_count": 41,
     "metadata": {},
     "output_type": "execute_result"
    }
   ],
   "source": [
    "marks"
   ]
  },
  {
   "cell_type": "code",
   "execution_count": 42,
   "id": "15de06f5-c4da-480f-b157-7bdad4825a84",
   "metadata": {},
   "outputs": [
    {
     "data": {
      "text/plain": [
       "Math     54\n",
       "Bio     100\n",
       "DLD     100\n",
       "CP       66\n",
       "dtype: int64"
      ]
     },
     "execution_count": 42,
     "metadata": {},
     "output_type": "execute_result"
    }
   ],
   "source": [
    "marks[1:3] = 100\n",
    "marks"
   ]
  },
  {
   "cell_type": "code",
   "execution_count": 43,
   "id": "436405f2-2f36-420c-a721-4bc0108d2d40",
   "metadata": {},
   "outputs": [
    {
     "data": {
      "text/plain": [
       "Math      8\n",
       "Bio     100\n",
       "DLD     100\n",
       "CP       65\n",
       "dtype: int64"
      ]
     },
     "execution_count": 43,
     "metadata": {},
     "output_type": "execute_result"
    }
   ],
   "source": [
    "# Fancy Index Editing\n",
    "marks.iloc[[0,3]] = [8,65]\n",
    "marks"
   ]
  },
  {
   "cell_type": "markdown",
   "id": "eb26394f-25f8-4390-94bb-052bdd52d639",
   "metadata": {},
   "source": [
    "## Series with Python functionalities"
   ]
  },
  {
   "cell_type": "markdown",
   "id": "f405dee5-5c55-4779-9943-c36989f3f978",
   "metadata": {},
   "source": [
    "### len/sorted/type/dir/sorted/min/max"
   ]
  },
  {
   "cell_type": "code",
   "execution_count": 44,
   "id": "74d3a26e-dfc8-4a61-af47-e0785446e961",
   "metadata": {},
   "outputs": [
    {
     "name": "stdout",
     "output_type": "stream",
     "text": [
      "365\n"
     ]
    }
   ],
   "source": [
    "print(len(subs))"
   ]
  },
  {
   "cell_type": "code",
   "execution_count": 45,
   "id": "2bcb93cb-4540-4bf6-982e-d342ae043327",
   "metadata": {},
   "outputs": [
    {
     "name": "stdout",
     "output_type": "stream",
     "text": [
      "<class 'pandas.core.series.Series'>\n"
     ]
    }
   ],
   "source": [
    "print(type(subs))"
   ]
  },
  {
   "cell_type": "code",
   "execution_count": 47,
   "id": "1d45130b-2229-4965-86fc-46d84747053d",
   "metadata": {},
   "outputs": [
    {
     "name": "stdout",
     "output_type": "stream",
     "text": [
      "['T', '_AXIS_LEN', '_AXIS_ORDERS', '_AXIS_TO_AXIS_NUMBER', '_HANDLED_TYPES', '__abs__', '__add__', '__and__', '__annotations__', '__array__', '__array_priority__', '__array_ufunc__', '__bool__', '__class__', '__column_consortium_standard__', '__contains__', '__copy__', '__deepcopy__', '__delattr__', '__delitem__', '__dict__', '__dir__', '__divmod__', '__doc__', '__eq__', '__finalize__', '__float__', '__floordiv__', '__format__', '__ge__', '__getattr__', '__getattribute__', '__getitem__', '__getstate__', '__gt__', '__hash__', '__iadd__', '__iand__', '__ifloordiv__', '__imod__', '__imul__', '__init__', '__init_subclass__', '__int__', '__invert__', '__ior__', '__ipow__', '__isub__', '__iter__', '__itruediv__', '__ixor__', '__le__', '__len__', '__lt__', '__matmul__', '__mod__', '__module__', '__mul__', '__ne__', '__neg__', '__new__', '__nonzero__', '__or__', '__pandas_priority__', '__pos__', '__pow__', '__radd__', '__rand__', '__rdivmod__', '__reduce__', '__reduce_ex__', '__repr__', '__rfloordiv__', '__rmatmul__', '__rmod__', '__rmul__', '__ror__', '__round__', '__rpow__', '__rsub__', '__rtruediv__', '__rxor__', '__setattr__', '__setitem__', '__setstate__', '__sizeof__', '__str__', '__sub__', '__subclasshook__', '__truediv__', '__weakref__', '__xor__', '_accessors', '_accum_func', '_agg_examples_doc', '_agg_see_also_doc', '_align_for_op', '_align_frame', '_align_series', '_append', '_arith_method', '_as_manager', '_attrs', '_binop', '_cacher', '_can_hold_na', '_check_inplace_and_allows_duplicate_labels', '_check_is_chained_assignment_possible', '_check_label_or_level_ambiguity', '_check_setitem_copy', '_clear_item_cache', '_clip_with_one_bound', '_clip_with_scalar', '_cmp_method', '_consolidate', '_consolidate_inplace', '_construct_axes_dict', '_construct_result', '_constructor', '_constructor_expanddim', '_constructor_expanddim_from_mgr', '_constructor_from_mgr', '_data', '_deprecate_downcast', '_dir_additions', '_dir_deletions', '_drop_axis', '_drop_labels_or_levels', '_duplicated', '_find_valid_index', '_flags', '_flex_method', '_from_mgr', '_get_axis', '_get_axis_name', '_get_axis_number', '_get_axis_resolvers', '_get_block_manager_axis', '_get_bool_data', '_get_cacher', '_get_cleaned_column_resolvers', '_get_index_resolvers', '_get_label_or_level_values', '_get_numeric_data', '_get_rows_with_mask', '_get_value', '_get_values_tuple', '_get_with', '_getitem_slice', '_gotitem', '_hidden_attrs', '_indexed_same', '_info_axis', '_info_axis_name', '_info_axis_number', '_init_dict', '_init_mgr', '_inplace_method', '_internal_names', '_internal_names_set', '_is_cached', '_is_copy', '_is_label_or_level_reference', '_is_label_reference', '_is_level_reference', '_is_mixed_type', '_is_view', '_is_view_after_cow_rules', '_item_cache', '_ixs', '_logical_func', '_logical_method', '_map_values', '_maybe_update_cacher', '_memory_usage', '_metadata', '_mgr', '_min_count_stat_function', '_name', '_needs_reindex_multi', '_pad_or_backfill', '_protect_consolidate', '_reduce', '_references', '_reindex_axes', '_reindex_indexer', '_reindex_multi', '_reindex_with_indexers', '_rename', '_replace_single', '_repr_data_resource_', '_repr_latex_', '_reset_cache', '_reset_cacher', '_set_as_cached', '_set_axis', '_set_axis_name', '_set_axis_nocheck', '_set_is_copy', '_set_labels', '_set_name', '_set_value', '_set_values', '_set_with', '_set_with_engine', '_shift_with_freq', '_slice', '_stat_function', '_stat_function_ddof', '_take_with_is_copy', '_to_latex_via_styler', '_typ', '_update_inplace', '_validate_dtype', '_values', '_where', 'abs', 'add', 'add_prefix', 'add_suffix', 'agg', 'aggregate', 'align', 'all', 'any', 'apply', 'argmax', 'argmin', 'argsort', 'array', 'asfreq', 'asof', 'astype', 'at', 'at_time', 'attrs', 'autocorr', 'axes', 'backfill', 'between', 'between_time', 'bfill', 'bool', 'case_when', 'clip', 'combine', 'combine_first', 'compare', 'convert_dtypes', 'copy', 'corr', 'count', 'cov', 'cummax', 'cummin', 'cumprod', 'cumsum', 'describe', 'diff', 'div', 'divide', 'divmod', 'dot', 'drop', 'drop_duplicates', 'droplevel', 'dropna', 'dtype', 'dtypes', 'duplicated', 'empty', 'eq', 'equals', 'ewm', 'expanding', 'explode', 'factorize', 'ffill', 'fillna', 'filter', 'first', 'first_valid_index', 'flags', 'floordiv', 'ge', 'get', 'groupby', 'gt', 'hasnans', 'head', 'hist', 'iat', 'idxmax', 'idxmin', 'iloc', 'index', 'infer_objects', 'info', 'interpolate', 'is_monotonic_decreasing', 'is_monotonic_increasing', 'is_unique', 'isin', 'isna', 'isnull', 'item', 'items', 'keys', 'kurt', 'kurtosis', 'last', 'last_valid_index', 'le', 'list', 'loc', 'lt', 'map', 'mask', 'max', 'mean', 'median', 'memory_usage', 'min', 'mod', 'mode', 'mul', 'multiply', 'name', 'nbytes', 'ndim', 'ne', 'nlargest', 'notna', 'notnull', 'nsmallest', 'nunique', 'pad', 'pct_change', 'pipe', 'plot', 'pop', 'pow', 'prod', 'product', 'quantile', 'radd', 'rank', 'ravel', 'rdiv', 'rdivmod', 'reindex', 'reindex_like', 'rename', 'rename_axis', 'reorder_levels', 'repeat', 'replace', 'resample', 'reset_index', 'rfloordiv', 'rmod', 'rmul', 'rolling', 'round', 'rpow', 'rsub', 'rtruediv', 'sample', 'searchsorted', 'sem', 'set_axis', 'set_flags', 'shape', 'shift', 'size', 'skew', 'sort_index', 'sort_values', 'squeeze', 'std', 'struct', 'sub', 'subtract', 'sum', 'swapaxes', 'swaplevel', 'tail', 'take', 'to_clipboard', 'to_csv', 'to_dict', 'to_excel', 'to_frame', 'to_hdf', 'to_json', 'to_latex', 'to_list', 'to_markdown', 'to_numpy', 'to_period', 'to_pickle', 'to_sql', 'to_string', 'to_timestamp', 'to_xarray', 'transform', 'transpose', 'truediv', 'truncate', 'tz_convert', 'tz_localize', 'unique', 'unstack', 'update', 'value_counts', 'values', 'var', 'view', 'where', 'xs']\n"
     ]
    }
   ],
   "source": [
    "print(dir(subs)) #tells the attribue and functions"
   ]
  },
  {
   "cell_type": "code",
   "execution_count": 48,
   "id": "be6e2bfb-162d-4daf-a499-80f26e8c2494",
   "metadata": {},
   "outputs": [
    {
     "name": "stdout",
     "output_type": "stream",
     "text": [
      "[33, 33, 35, 37, 39, 40, 40, 40, 40, 42, 42, 43, 44, 44, 44, 45, 46, 46, 48, 49, 49, 49, 49, 50, 50, 50, 51, 54, 56, 56, 56, 56, 57, 61, 62, 64, 65, 65, 66, 66, 66, 66, 67, 68, 70, 70, 70, 71, 71, 72, 72, 72, 72, 72, 73, 74, 74, 75, 76, 76, 76, 76, 77, 77, 78, 78, 78, 79, 79, 80, 80, 80, 81, 81, 82, 82, 83, 83, 83, 84, 84, 84, 85, 86, 86, 86, 87, 87, 87, 87, 88, 88, 88, 88, 88, 89, 89, 89, 90, 90, 90, 90, 91, 92, 92, 92, 93, 93, 93, 93, 95, 95, 96, 96, 96, 96, 97, 97, 98, 98, 99, 99, 100, 100, 100, 101, 101, 101, 102, 102, 103, 103, 104, 104, 104, 105, 105, 105, 105, 105, 105, 105, 105, 105, 108, 108, 108, 108, 108, 108, 109, 109, 110, 110, 110, 111, 111, 112, 113, 113, 113, 114, 114, 114, 114, 115, 115, 115, 115, 117, 117, 117, 118, 118, 119, 119, 119, 119, 120, 122, 123, 123, 123, 123, 123, 124, 125, 126, 127, 128, 128, 129, 130, 131, 131, 132, 132, 134, 134, 134, 135, 135, 136, 136, 136, 137, 138, 138, 138, 139, 140, 144, 145, 146, 146, 146, 146, 147, 149, 150, 150, 150, 150, 151, 152, 152, 152, 153, 153, 153, 154, 154, 154, 155, 155, 156, 156, 156, 156, 157, 157, 157, 157, 158, 158, 159, 159, 160, 160, 160, 160, 162, 164, 166, 167, 167, 168, 170, 170, 170, 170, 171, 172, 172, 173, 173, 173, 174, 174, 175, 175, 176, 176, 177, 178, 179, 179, 180, 180, 180, 182, 183, 183, 183, 184, 184, 184, 185, 185, 185, 185, 186, 186, 186, 188, 189, 190, 190, 192, 192, 192, 196, 196, 196, 197, 197, 202, 202, 202, 203, 204, 206, 207, 209, 210, 210, 211, 212, 213, 214, 216, 219, 220, 221, 221, 222, 222, 224, 225, 225, 226, 227, 228, 229, 230, 231, 233, 236, 236, 237, 241, 243, 244, 245, 247, 249, 254, 254, 258, 259, 259, 261, 261, 265, 267, 268, 269, 276, 276, 290, 295, 301, 306, 312, 396]\n"
     ]
    }
   ],
   "source": [
    "print(sorted(subs)) #saves in the form of list"
   ]
  },
  {
   "cell_type": "code",
   "execution_count": 50,
   "id": "98667195-947f-4a8c-8633-15e6562dce2f",
   "metadata": {},
   "outputs": [
    {
     "name": "stdout",
     "output_type": "stream",
     "text": [
      "33\n"
     ]
    }
   ],
   "source": [
    "print(min(subs))"
   ]
  },
  {
   "cell_type": "code",
   "execution_count": 51,
   "id": "212fb502-575b-4a7e-a12d-1c670a9c2b49",
   "metadata": {},
   "outputs": [
    {
     "name": "stdout",
     "output_type": "stream",
     "text": [
      "396\n"
     ]
    }
   ],
   "source": [
    "print(max(subs))"
   ]
  },
  {
   "cell_type": "markdown",
   "id": "776dd241-7e15-4d10-a43b-1e2fa3a04b32",
   "metadata": {},
   "source": [
    "### Type Conversions"
   ]
  },
  {
   "cell_type": "code",
   "execution_count": 53,
   "id": "3e09d954-baa5-41a7-9038-a02665df194d",
   "metadata": {},
   "outputs": [
    {
     "data": {
      "text/plain": [
       "Math      8\n",
       "Bio     100\n",
       "DLD     100\n",
       "CP       65\n",
       "dtype: int64"
      ]
     },
     "execution_count": 53,
     "metadata": {},
     "output_type": "execute_result"
    }
   ],
   "source": [
    "marks"
   ]
  },
  {
   "cell_type": "code",
   "execution_count": 54,
   "id": "d3dffe0e-c0a4-470f-a251-7d414ac3bf53",
   "metadata": {},
   "outputs": [
    {
     "data": {
      "text/plain": [
       "[8, 100, 100, 65]"
      ]
     },
     "execution_count": 54,
     "metadata": {},
     "output_type": "execute_result"
    }
   ],
   "source": [
    "list(marks)"
   ]
  },
  {
   "cell_type": "code",
   "execution_count": 55,
   "id": "f949b4be-0f67-4c0b-8b3b-b0c743f1ee19",
   "metadata": {},
   "outputs": [
    {
     "data": {
      "text/plain": [
       "{'Math': 8, 'Bio': 100, 'DLD': 100, 'CP': 65}"
      ]
     },
     "execution_count": 55,
     "metadata": {},
     "output_type": "execute_result"
    }
   ],
   "source": [
    "dict(marks)"
   ]
  },
  {
   "cell_type": "markdown",
   "id": "358bbaf5-f7e6-4e4d-a7e5-f031df33263b",
   "metadata": {},
   "source": [
    "### Membership operator"
   ]
  },
  {
   "cell_type": "markdown",
   "id": "3ce4cbbe-562f-4a95-8a5d-ba2f837fa041",
   "metadata": {},
   "source": [
    "here, in ,not in also works"
   ]
  },
  {
   "cell_type": "code",
   "execution_count": 56,
   "id": "71a5004d-61c1-40d1-ab29-8b45965c849b",
   "metadata": {},
   "outputs": [
    {
     "data": {
      "text/plain": [
       "movie\n",
       "Zor Lagaa Ke...Haiya!            Meghan Jadhav\n",
       "Zokkomon                       Darsheel Safary\n",
       "Zindagi Tere Naam           Mithun Chakraborty\n",
       "Zindagi Na Milegi Dobara        Hrithik Roshan\n",
       "Zindagi 50-50                      Veena Malik\n",
       "                                   ...        \n",
       "2 States (2014 film)              Arjun Kapoor\n",
       "1971 (2007 film)                Manoj Bajpayee\n",
       "1920: The Evil Returns             Vicky Ahuja\n",
       "1920: London                     Sharman Joshi\n",
       "1920 (film)                   Rajniesh Duggall\n",
       "Name: lead, Length: 1500, dtype: object"
      ]
     },
     "execution_count": 56,
     "metadata": {},
     "output_type": "execute_result"
    }
   ],
   "source": [
    "movies"
   ]
  },
  {
   "cell_type": "code",
   "execution_count": 60,
   "id": "0470c2d4-74db-4d2e-a7f0-1b5d4eda39ca",
   "metadata": {},
   "outputs": [
    {
     "data": {
      "text/plain": [
       "True"
      ]
     },
     "execution_count": 60,
     "metadata": {},
     "output_type": "execute_result"
    }
   ],
   "source": [
    "'1971 (2007 film)' in movies"
   ]
  },
  {
   "cell_type": "markdown",
   "id": "a2250ec6-2257-4c70-bf73-b84176ec51ad",
   "metadata": {},
   "source": [
    "index operator works on only index"
   ]
  },
  {
   "cell_type": "code",
   "execution_count": 61,
   "id": "f85211fe-860d-4533-9fb2-b6f1f6e55f23",
   "metadata": {},
   "outputs": [
    {
     "data": {
      "text/plain": [
       "True"
      ]
     },
     "execution_count": 61,
     "metadata": {},
     "output_type": "execute_result"
    }
   ],
   "source": [
    "'Alia Bhatt' in movies.values"
   ]
  },
  {
   "cell_type": "markdown",
   "id": "5045eabc-99cf-4b45-b35e-9d484142d6f0",
   "metadata": {},
   "source": [
    "### looping"
   ]
  },
  {
   "cell_type": "markdown",
   "id": "8ea3268e-9d0e-4525-be3d-960ec040d257",
   "metadata": {},
   "source": [
    "In loops, values is printed "
   ]
  },
  {
   "cell_type": "markdown",
   "id": "2f2def1e-c27a-499b-8db4-18d04436812a",
   "metadata": {},
   "source": [
    "for i in movies:\n",
    "    print(i)"
   ]
  },
  {
   "cell_type": "markdown",
   "id": "83b52ddf-25b7-4051-a672-930a9cf9eda0",
   "metadata": {},
   "source": [
    "### Boolean Indexing"
   ]
  },
  {
   "cell_type": "code",
   "execution_count": 63,
   "id": "b44e37ad-c4eb-40f4-aed9-8348d6d9b47c",
   "metadata": {},
   "outputs": [
    {
     "data": {
      "text/plain": [
       "50"
      ]
     },
     "execution_count": 63,
     "metadata": {},
     "output_type": "execute_result"
    }
   ],
   "source": [
    "runs[runs>=50].size"
   ]
  },
  {
   "cell_type": "code",
   "execution_count": 67,
   "id": "d68c4507-86ea-4200-9c09-f0203358cb84",
   "metadata": {},
   "outputs": [
    {
     "data": {
      "text/plain": [
       "9"
      ]
     },
     "execution_count": 67,
     "metadata": {},
     "output_type": "execute_result"
    }
   ],
   "source": [
    "runs[runs==0].size"
   ]
  },
  {
   "cell_type": "code",
   "execution_count": 69,
   "id": "7d3580db-43e3-4e88-a841-2986aeefdc72",
   "metadata": {},
   "outputs": [
    {
     "data": {
      "text/plain": [
       "59"
      ]
     },
     "execution_count": 69,
     "metadata": {},
     "output_type": "execute_result"
    }
   ],
   "source": [
    "subs[subs>200].size"
   ]
  },
  {
   "cell_type": "code",
   "execution_count": 84,
   "id": "4e3ce1cd-230d-4ba7-b0bf-3586f360fb9c",
   "metadata": {},
   "outputs": [
    {
     "data": {
      "text/plain": [
       "lead\n",
       "Akshay Kumar        48\n",
       "Amitabh Bachchan    45\n",
       "Ajay Devgn          38\n",
       "Salman Khan         31\n",
       "Sanjay Dutt         26\n",
       "Shah Rukh Khan      22\n",
       "Emraan Hashmi       21\n",
       "Name: count, dtype: int64"
      ]
     },
     "execution_count": 84,
     "metadata": {},
     "output_type": "execute_result"
    }
   ],
   "source": [
    "num_movies = movies.value_counts()\n",
    "num_movies[num_movies > 20]"
   ]
  },
  {
   "cell_type": "code",
   "execution_count": 85,
   "id": "d5bc214b-6e9d-463d-835b-958b9ab5b62e",
   "metadata": {},
   "outputs": [
    {
     "data": {
      "text/plain": [
       "<Axes: >"
      ]
     },
     "execution_count": 85,
     "metadata": {},
     "output_type": "execute_result"
    },
    {
     "data": {
      "image/png": "[encoded data removed]",
      "text/plain": [
       "<Figure size 640x480 with 1 Axes>"
      ]
     },
     "metadata": {},
     "output_type": "display_data"
    }
   ],
   "source": [
    "subs.plot()"
   ]
  },
  {
   "cell_type": "code",
   "execution_count": 86,
   "id": "aba258c3-4b60-42bf-bdc6-e10296d35df2",
   "metadata": {},
   "outputs": [
    {
     "data": {
      "text/plain": [
       "<Axes: xlabel='lead'>"
      ]
     },
     "execution_count": 86,
     "metadata": {},
     "output_type": "execute_result"
    },
    {
     "data": {
      "image/png": "[encoded data removed]",
      "text/plain": [
       "<Figure size 640x480 with 1 Axes>"
      ]
     },
     "metadata": {},
     "output_type": "display_data"
    }
   ],
   "source": [
    "movies.value_counts().head(20).plot(kind=\"bar\")"
   ]
  },
  {
   "cell_type": "code",
   "execution_count": 87,
   "id": "b3a537e8-b00f-49fa-a0e7-63dc00a2b529",
   "metadata": {},
   "outputs": [
    {
     "data": {
      "text/plain": [
       "<Axes: ylabel='count'>"
      ]
     },
     "execution_count": 87,
     "metadata": {},
     "output_type": "execute_result"
    },
    {
     "data": {
      "image/png": "[encoded data removed]",
      "text/plain": [
       "<Figure size 640x480 with 1 Axes>"
      ]
     },
     "metadata": {},
     "output_type": "display_data"
    }
   ],
   "source": [
    "movies.value_counts().head(20).plot(kind=\"pie\")"
   ]
  },
  {
   "cell_type": "markdown",
   "id": "81336d7c-44cc-48f6-97b0-f8b82e0107b6",
   "metadata": {},
   "source": [
    "## Some important methods"
   ]
  },
  {
   "cell_type": "markdown",
   "id": "c237613c-95fa-4128-9fb4-28afa63d31c4",
   "metadata": {},
   "source": [
    "### astype"
   ]
  },
  {
   "cell_type": "code",
   "execution_count": 90,
   "id": "5e0072b1-db9f-4326-93d9-febdb3a58315",
   "metadata": {},
   "outputs": [
    {
     "data": {
      "text/plain": [
       "11768"
      ]
     },
     "execution_count": 90,
     "metadata": {},
     "output_type": "execute_result"
    }
   ],
   "source": [
    "import sys\n",
    "sys.getsizeof(runs)"
   ]
  },
  {
   "cell_type": "markdown",
   "id": "93b5a858-185a-4480-bcb0-75616066fec1",
   "metadata": {},
   "source": [
    "astype could be to reduce the size of data"
   ]
  },
  {
   "cell_type": "code",
   "execution_count": 98,
   "id": "7f805706-b691-418f-865a-494cea014585",
   "metadata": {},
   "outputs": [
    {
     "data": {
      "text/plain": [
       "10478"
      ]
     },
     "execution_count": 98,
     "metadata": {},
     "output_type": "execute_result"
    }
   ],
   "source": [
    "sys.getsizeof(runs.astype(\"int16\"))"
   ]
  },
  {
   "cell_type": "markdown",
   "id": "959f8ecb-acdb-4620-9d65-5fe457881c52",
   "metadata": {},
   "source": [
    "### between "
   ]
  },
  {
   "cell_type": "code",
   "execution_count": 102,
   "id": "178e5dcd-48f2-4f0a-bfca-48760f6c7c10",
   "metadata": {},
   "outputs": [
    {
     "data": {
      "text/plain": [
       "43"
      ]
     },
     "execution_count": 102,
     "metadata": {},
     "output_type": "execute_result"
    }
   ],
   "source": [
    "runs[runs.between(51,99)].size #both inputs are inclusive"
   ]
  },
  {
   "cell_type": "markdown",
   "id": "246d4982-1865-416f-a588-1f607bdc8058",
   "metadata": {},
   "source": [
    "### clip"
   ]
  },
  {
   "cell_type": "markdown",
   "id": "a05519e7-0420-41a6-975b-bfc337f42197",
   "metadata": {},
   "source": [
    "In Pandas, clip() is used to limit values in a Series or DataFrame."
   ]
  },
  {
   "cell_type": "code",
   "execution_count": 103,
   "id": "eb3b87dc-ae94-4b3b-bedc-1df8f958b46c",
   "metadata": {},
   "outputs": [
    {
     "data": {
      "text/plain": [
       "match_no\n",
       "87     100\n",
       "211    100\n",
       "207    100\n",
       "206    100\n",
       "91     100\n",
       "      ... \n",
       "164    100\n",
       "120    100\n",
       "123    108\n",
       "126    109\n",
       "128    113\n",
       "Name: runs, Length: 215, dtype: int64"
      ]
     },
     "execution_count": 103,
     "metadata": {},
     "output_type": "execute_result"
    }
   ],
   "source": [
    "runs.clip(100,200)"
   ]
  },
  {
   "cell_type": "markdown",
   "id": "7109e5f5-411d-4781-8f13-3af5db111b05",
   "metadata": {},
   "source": [
    "### drop_duplicates"
   ]
  },
  {
   "cell_type": "code",
   "execution_count": 117,
   "id": "8e482d8a-b8cd-4131-bf8e-d34e0df75bf7",
   "metadata": {},
   "outputs": [
    {
     "data": {
      "text/plain": [
       "0    1\n",
       "1    1\n",
       "2    2\n",
       "3    2\n",
       "4    2\n",
       "5    3\n",
       "6    4\n",
       "7    4\n",
       "dtype: int64"
      ]
     },
     "execution_count": 117,
     "metadata": {},
     "output_type": "execute_result"
    }
   ],
   "source": [
    "ser = pd.Series([1,1,2,2,2,3,4,4,])\n",
    "ser\n"
   ]
  },
  {
   "cell_type": "code",
   "execution_count": 107,
   "id": "2e34d9e4-f362-4950-91c6-355e38698e64",
   "metadata": {},
   "outputs": [
    {
     "data": {
      "text/plain": [
       "0    1\n",
       "2    2\n",
       "5    3\n",
       "6    4\n",
       "dtype: int64"
      ]
     },
     "execution_count": 107,
     "metadata": {},
     "output_type": "execute_result"
    }
   ],
   "source": [
    "ser.drop_duplicates() #by default,it deletes every expect first occurance"
   ]
  },
  {
   "cell_type": "markdown",
   "id": "9e7e4252-6d5b-4db8-aff5-9dc7c89a1ef4",
   "metadata": {},
   "source": [
    "keep attribute could be used to delete first"
   ]
  },
  {
   "cell_type": "code",
   "execution_count": 108,
   "id": "7e12855d-4d70-4180-ae6b-29096292ff5d",
   "metadata": {},
   "outputs": [
    {
     "data": {
      "text/plain": [
       "1    1\n",
       "4    2\n",
       "5    3\n",
       "7    4\n",
       "dtype: int64"
      ]
     },
     "execution_count": 108,
     "metadata": {},
     "output_type": "execute_result"
    }
   ],
   "source": [
    "ser.drop_duplicates(keep=\"last\")"
   ]
  },
  {
   "cell_type": "code",
   "execution_count": 109,
   "id": "16722194-58bc-4ed1-8ec9-acec532bd8cd",
   "metadata": {},
   "outputs": [
    {
     "data": {
      "text/plain": [
       "movie\n",
       "Zor Lagaa Ke...Haiya!            Meghan Jadhav\n",
       "Zokkomon                       Darsheel Safary\n",
       "Zindagi Tere Naam           Mithun Chakraborty\n",
       "Zindagi Na Milegi Dobara        Hrithik Roshan\n",
       "Zindagi 50-50                      Veena Malik\n",
       "                                   ...        \n",
       "68 Pages                         Mouli Ganguly\n",
       "5 Weddings                       Nargis Fakhri\n",
       "404 (film)                          Sara Arjun\n",
       "3 Storeys                          Aisha Ahmed\n",
       "3 A.M. (2014 film)               Salil Acharya\n",
       "Name: lead, Length: 566, dtype: object"
      ]
     },
     "execution_count": 109,
     "metadata": {},
     "output_type": "execute_result"
    }
   ],
   "source": [
    "movies.drop_duplicates()"
   ]
  },
  {
   "cell_type": "markdown",
   "id": "fb2c7a59-32c7-4abd-b85f-c89fffb281eb",
   "metadata": {},
   "source": [
    "as we can see size goes from 1500 to 566"
   ]
  },
  {
   "cell_type": "markdown",
   "id": "b09909f6-c782-4b74-9616-614435135d6a",
   "metadata": {},
   "source": [
    "### duplicated"
   ]
  },
  {
   "cell_type": "markdown",
   "id": "10dd28b7-5c33-4b83-9447-3b17ee12c07c",
   "metadata": {},
   "source": [
    "The duplicated() function is mainly used in pandas to identify duplicate values in a Series or DataFrame. It returns a Boolean Series where True indicates that a row or value is a duplicate of a previous occurrence."
   ]
  },
  {
   "cell_type": "code",
   "execution_count": 118,
   "id": "7a95424e-dfa5-43e2-bda0-78b5f3b6219e",
   "metadata": {},
   "outputs": [
    {
     "data": {
      "text/plain": [
       "0    False\n",
       "1     True\n",
       "2    False\n",
       "3     True\n",
       "4     True\n",
       "5    False\n",
       "6    False\n",
       "7     True\n",
       "dtype: bool"
      ]
     },
     "execution_count": 118,
     "metadata": {},
     "output_type": "execute_result"
    }
   ],
   "source": [
    "ser.duplicated()"
   ]
  },
  {
   "cell_type": "code",
   "execution_count": 120,
   "id": "4663cc13-356a-438e-9f59-74263b3b83a9",
   "metadata": {},
   "outputs": [
    {
     "data": {
      "text/plain": [
       "4"
      ]
     },
     "execution_count": 120,
     "metadata": {},
     "output_type": "execute_result"
    }
   ],
   "source": [
    "ser.duplicated().sum()  #to tell how many unique values are there"
   ]
  },
  {
   "cell_type": "code",
   "execution_count": 121,
   "id": "65e235e0-2f39-4c80-a1dd-2ddde2c1eb5a",
   "metadata": {},
   "outputs": [
    {
     "data": {
      "text/plain": [
       "137"
      ]
     },
     "execution_count": 121,
     "metadata": {},
     "output_type": "execute_result"
    }
   ],
   "source": [
    "runs.duplicated().sum()"
   ]
  },
  {
   "cell_type": "code",
   "execution_count": 132,
   "id": "2fb667d4-530c-41d4-b8a0-425ddd7ba1cc",
   "metadata": {},
   "outputs": [
    {
     "data": {
      "text/plain": [
       "0      1.0\n",
       "1      2.0\n",
       "2      3.0\n",
       "3      NaN\n",
       "4      5.0\n",
       "5      NaN\n",
       "6      NaN\n",
       "7      8.0\n",
       "8      9.0\n",
       "9      NaN\n",
       "10    11.0\n",
       "11    12.0\n",
       "dtype: float64"
      ]
     },
     "execution_count": 132,
     "metadata": {},
     "output_type": "execute_result"
    }
   ],
   "source": [
    "nser = pd.Series([1,2,3,np.nan,5,np.nan,np.nan,8,9,np.nan,11,12])\n",
    "nser"
   ]
  },
  {
   "cell_type": "code",
   "execution_count": 133,
   "id": "3c928381-47a8-48c9-8ac9-d3ca6fcf9208",
   "metadata": {},
   "outputs": [
    {
     "data": {
      "text/plain": [
       "8"
      ]
     },
     "execution_count": 133,
     "metadata": {},
     "output_type": "execute_result"
    }
   ],
   "source": [
    "nser.count() "
   ]
  },
  {
   "cell_type": "code",
   "execution_count": 134,
   "id": "5f97ed73-9f4b-4777-a8bf-3cfa85eb5663",
   "metadata": {},
   "outputs": [
    {
     "data": {
      "text/plain": [
       "12"
      ]
     },
     "execution_count": 134,
     "metadata": {},
     "output_type": "execute_result"
    }
   ],
   "source": [
    "nser.size"
   ]
  },
  {
   "cell_type": "markdown",
   "id": "3ad6c01c-7307-4df1-b844-19cfe02984dd",
   "metadata": {},
   "source": [
    "### isnull"
   ]
  },
  {
   "cell_type": "markdown",
   "id": "b7bc827a-0226-4214-a3d4-c7af8dfc12e6",
   "metadata": {},
   "source": [
    "The isnull() function in pandas is used to detect missing (NaN) values in a Series or DataFrame. It returns a Boolean mask where True indicates missing values."
   ]
  },
  {
   "cell_type": "code",
   "execution_count": 135,
   "id": "d9856678-1608-4ed2-bbbe-1f44bb6a2645",
   "metadata": {},
   "outputs": [
    {
     "data": {
      "text/plain": [
       "0     False\n",
       "1     False\n",
       "2     False\n",
       "3      True\n",
       "4     False\n",
       "5      True\n",
       "6      True\n",
       "7     False\n",
       "8     False\n",
       "9      True\n",
       "10    False\n",
       "11    False\n",
       "dtype: bool"
      ]
     },
     "execution_count": 135,
     "metadata": {},
     "output_type": "execute_result"
    }
   ],
   "source": [
    "nser.isnull()"
   ]
  },
  {
   "cell_type": "code",
   "execution_count": 136,
   "id": "7441ec0c-7cf1-4115-b7b6-31137667fea0",
   "metadata": {},
   "outputs": [
    {
     "data": {
      "text/plain": [
       "4"
      ]
     },
     "execution_count": 136,
     "metadata": {},
     "output_type": "execute_result"
    }
   ],
   "source": [
    "nser.isnull().sum()"
   ]
  },
  {
   "cell_type": "markdown",
   "id": "1dc70cce-dd67-4c82-9259-93e1e120d879",
   "metadata": {},
   "source": [
    "### dropna"
   ]
  },
  {
   "cell_type": "code",
   "execution_count": 137,
   "id": "88d36c0a-2c2c-495f-9f27-224b8b2ca253",
   "metadata": {},
   "outputs": [
    {
     "data": {
      "text/plain": [
       "0      1.0\n",
       "1      2.0\n",
       "2      3.0\n",
       "4      5.0\n",
       "7      8.0\n",
       "8      9.0\n",
       "10    11.0\n",
       "11    12.0\n",
       "dtype: float64"
      ]
     },
     "execution_count": 137,
     "metadata": {},
     "output_type": "execute_result"
    }
   ],
   "source": [
    "nser.dropna()"
   ]
  },
  {
   "cell_type": "markdown",
   "id": "b2c07cf6-f05f-4eca-abce-709235b7a1e8",
   "metadata": {},
   "source": [
    "### fillna"
   ]
  },
  {
   "cell_type": "code",
   "execution_count": 142,
   "id": "f1e8388e-09c8-4fbb-9df4-4cf64aaa3d33",
   "metadata": {},
   "outputs": [
    {
     "data": {
      "text/plain": [
       "0      1.0\n",
       "1      2.0\n",
       "2      3.0\n",
       "3      0.0\n",
       "4      5.0\n",
       "5      0.0\n",
       "6      0.0\n",
       "7      8.0\n",
       "8      9.0\n",
       "9      0.0\n",
       "10    11.0\n",
       "11    12.0\n",
       "dtype: float64"
      ]
     },
     "execution_count": 142,
     "metadata": {},
     "output_type": "execute_result"
    }
   ],
   "source": [
    "nser.fillna(0)"
   ]
  },
  {
   "cell_type": "code",
   "execution_count": 145,
   "id": "5437c355-0539-473b-908f-3eee13da5b2f",
   "metadata": {},
   "outputs": [
    {
     "data": {
      "text/plain": [
       "0      1.000\n",
       "1      2.000\n",
       "2      3.000\n",
       "3      6.375\n",
       "4      5.000\n",
       "5      6.375\n",
       "6      6.375\n",
       "7      8.000\n",
       "8      9.000\n",
       "9      6.375\n",
       "10    11.000\n",
       "11    12.000\n",
       "dtype: float64"
      ]
     },
     "execution_count": 145,
     "metadata": {},
     "output_type": "execute_result"
    }
   ],
   "source": [
    "nser.fillna(nser.mean())"
   ]
  },
  {
   "cell_type": "markdown",
   "id": "a93732a5-220a-4518-bcb5-45aa7dac3812",
   "metadata": {},
   "source": [
    "### isin"
   ]
  },
  {
   "cell_type": "code",
   "execution_count": 149,
   "id": "5c575591-185d-451a-b5c0-58ef23e97e80",
   "metadata": {},
   "outputs": [
    {
     "data": {
      "text/plain": [
       "match_no\n",
       "86    49\n",
       "82    99\n",
       "Name: runs, dtype: int64"
      ]
     },
     "execution_count": 149,
     "metadata": {},
     "output_type": "execute_result"
    }
   ],
   "source": [
    "runs[(runs==49) | (runs==99)]"
   ]
  },
  {
   "cell_type": "code",
   "execution_count": 151,
   "id": "b716e33d-9e4f-463e-932e-2e41e0e57a30",
   "metadata": {},
   "outputs": [
    {
     "data": {
      "text/plain": [
       "match_no\n",
       "86    49\n",
       "82    99\n",
       "Name: runs, dtype: int64"
      ]
     },
     "execution_count": 151,
     "metadata": {},
     "output_type": "execute_result"
    }
   ],
   "source": [
    "runs[runs.isin([49,99])]"
   ]
  },
  {
   "cell_type": "markdown",
   "id": "68cab1e0-65a3-4c36-8f0f-21c5c89aea79",
   "metadata": {},
   "source": [
    "### apply"
   ]
  },
  {
   "cell_type": "markdown",
   "id": "532f189e-de2a-45b5-82e4-7070be149734",
   "metadata": {},
   "source": [
    "The apply() function in pandas is used to apply a function to rows or columns of a DataFrame or elements of a Series. It is useful for transforming data efficiently.\n",
    "\n"
   ]
  },
  {
   "cell_type": "code",
   "execution_count": null,
   "id": "5fc9c07e-cfcf-4067-b9c3-39786ea9293a",
   "metadata": {},
   "outputs": [],
   "source": [
    "movies.apply(lambda name:name.split()[0].upper())"
   ]
  },
  {
   "cell_type": "code",
   "execution_count": 162,
   "id": "6a4acc6b-0827-4489-9fc1-cb44477d73db",
   "metadata": {},
   "outputs": [
    {
     "data": {
      "text/plain": [
       "0       Bad\n",
       "1       Bad\n",
       "2       Bad\n",
       "3       Bad\n",
       "4       Bad\n",
       "       ... \n",
       "360    Good\n",
       "361    Good\n",
       "362    Good\n",
       "363    Good\n",
       "364    Good\n",
       "Name: Subscribers gained, Length: 365, dtype: object"
      ]
     },
     "execution_count": 162,
     "metadata": {},
     "output_type": "execute_result"
    }
   ],
   "source": [
    "def checker(x):\n",
    "    if x > subs.mean():\n",
    "        return \"Good\"\n",
    "    return \"Bad\"\n",
    "subs.apply(checker)"
   ]
  },
  {
   "cell_type": "markdown",
   "id": "1effc6c0-8890-424d-bb4e-32044c0ad652",
   "metadata": {},
   "source": [
    "### copy"
   ]
  },
  {
   "cell_type": "markdown",
   "id": "bbe02252-2297-49c3-8374-1b172c76ab75",
   "metadata": {},
   "source": [
    "The copy() function in pandas is used to create a duplicate of a Series or DataFrame. It ensures that changes to the new object do not affect the original one.\n",
    "\n"
   ]
  },
  {
   "cell_type": "code",
   "execution_count": 169,
   "id": "48e5c377-c920-4f7b-8f56-961c55dffa6e",
   "metadata": {},
   "outputs": [
    {
     "data": {
      "text/plain": [
       "match_no\n",
       "1      100\n",
       "2       23\n",
       "3       13\n",
       "4       12\n",
       "5        1\n",
       "      ... \n",
       "211      0\n",
       "212     20\n",
       "213     73\n",
       "214     25\n",
       "215      7\n",
       "Name: runs, Length: 215, dtype: int64"
      ]
     },
     "execution_count": 169,
     "metadata": {},
     "output_type": "execute_result"
    }
   ],
   "source": [
    "runs[1] = 100\n",
    "runs"
   ]
  },
  {
   "cell_type": "code",
   "execution_count": 176,
   "id": "47a4ca90-36b6-4908-bbdc-f11aa100890a",
   "metadata": {},
   "outputs": [
    {
     "data": {
      "text/plain": [
       "match_no\n",
       "1      100\n",
       "2       23\n",
       "3       13\n",
       "4       12\n",
       "5        1\n",
       "      ... \n",
       "211      0\n",
       "212     20\n",
       "213     73\n",
       "214     25\n",
       "215      7\n",
       "Name: runs, Length: 215, dtype: int64"
      ]
     },
     "execution_count": 176,
     "metadata": {},
     "output_type": "execute_result"
    }
   ],
   "source": [
    "new = runs.head()\n",
    "runs"
   ]
  },
  {
   "cell_type": "code",
   "execution_count": 178,
   "id": "e77fc324-49e8-481b-9ca5-1f48fe2ac3bc",
   "metadata": {},
   "outputs": [],
   "source": [
    "runs[1] = 1"
   ]
  },
  {
   "cell_type": "markdown",
   "id": "d36a04d4-8b59-489f-a837-bd1e3a35c66f",
   "metadata": {},
   "source": [
    "thats why we use copy because head doesnt make copy and make changes in the original one"
   ]
  },
  {
   "cell_type": "markdown",
   "id": "ae16f19b-ac03-491a-bb8c-cc1e36fba941",
   "metadata": {},
   "source": [
    "In pandas, when you access or modify data, you may either get a view (a reference to the original data) or a copy (a new independent object). Understanding the difference helps avoid unexpected modifications."
   ]
  },
  {
   "cell_type": "code",
   "execution_count": 180,
   "id": "064eff62-3e8d-466a-b03a-cdc854afc0ba",
   "metadata": {},
   "outputs": [
    {
     "data": {
      "text/plain": [
       "match_no\n",
       "1    100\n",
       "2     23\n",
       "3     13\n",
       "4     12\n",
       "5      1\n",
       "Name: runs, dtype: int64"
      ]
     },
     "execution_count": 180,
     "metadata": {},
     "output_type": "execute_result"
    }
   ],
   "source": [
    "new = runs.head().copy()\n",
    "new[1] = 100\n",
    "new"
   ]
  },
  {
   "cell_type": "code",
   "execution_count": 181,
   "id": "a896d02a-388b-4b90-b130-625b6c7ba580",
   "metadata": {},
   "outputs": [
    {
     "data": {
      "text/plain": [
       "match_no\n",
       "1     1\n",
       "2    23\n",
       "3    13\n",
       "4    12\n",
       "5     1\n",
       "Name: runs, dtype: int64"
      ]
     },
     "execution_count": 181,
     "metadata": {},
     "output_type": "execute_result"
    }
   ],
   "source": [
    "runs.head()"
   ]
  },
  {
   "cell_type": "markdown",
   "id": "ac703aa6-0314-4e70-afe5-0662877b808e",
   "metadata": {},
   "source": [
    "here,as we can see copy doesnt affect the original series"
   ]
  }
 ],
 "metadata": {
  "kernelspec": {
   "display_name": "Python 3 (ipykernel)",
   "language": "python",
   "name": "python3"
  },
  "language_info": {
   "codemirror_mode": {
    "name": "ipython",
    "version": 3
   },
   "file_extension": ".py",
   "mimetype": "text/x-python",
   "name": "python",
   "nbconvert_exporter": "python",
   "pygments_lexer": "ipython3",
   "version": "3.11.5"
  }
 },
 "nbformat": 4,
 "nbformat_minor": 5
}
