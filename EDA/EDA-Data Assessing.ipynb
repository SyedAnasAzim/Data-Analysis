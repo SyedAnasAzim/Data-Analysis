{
 "cells": [
  {
   "cell_type": "markdown",
   "id": "fd83d23e-0777-4fc1-922a-978a0872910c",
   "metadata": {},
   "source": [
    "## Data Analysis Process\n",
    "\n",
    "1. Asking Questions\n",
    "2. Data Wrangling\n",
    "   * Gathering Data \n",
    "        - i. CSV files \n",
    "        - ii. APIs \n",
    "        - iii. Web Scraping \n",
    "        - iv. Databases\n",
    "    * Assessing Data\n",
    "    * Cleaning Data\n",
    "3. Exploratory Data Analysis\n",
    "4. Drawing Conclusion\n",
    "5. Comunicating Results"
   ]
  },
  {
   "cell_type": "code",
   "execution_count": null,
   "id": "e873a131-de63-4d8a-bb02-490ccd35cbc4",
   "metadata": {},
   "outputs": [],
   "source": []
  }
 ],
 "metadata": {
  "kernelspec": {
   "display_name": "Python 3 (ipykernel)",
   "language": "python",
   "name": "python3"
  },
  "language_info": {
   "codemirror_mode": {
    "name": "ipython",
    "version": 3
   },
   "file_extension": ".py",
   "mimetype": "text/x-python",
   "name": "python",
   "nbconvert_exporter": "python",
   "pygments_lexer": "ipython3",
   "version": "3.11.5"
  }
 },
 "nbformat": 4,
 "nbformat_minor": 5
}
